{
 "cells": [
  {
   "cell_type": "code",
   "execution_count": 1,
   "metadata": {},
   "outputs": [],
   "source": [
    "%load_ext autoreload\n",
    "%autoreload 2\n",
    "import yaml\n",
    "import pandas as pd\n",
    "# from pandas.core.common import SettingWithCopyWarning\n",
    "# pd.options.mode.chained_assignment = None\n",
    "# import warnings\n",
    "\n",
    "# warnings.simplefilter(action='ignore', category=SettingWithCopyWarning)\n",
    "import numpy as np\n",
    "import os\n",
    "opj = os.path.join\n",
    "opd = os.path.dirname\n",
    "import glob\n",
    "import matplotlib.pyplot as plt\n",
    "from scipy.optimize import curve_fit\n",
    "from scipy.stats import norm\n",
    "from utils import *\n",
    "from analyse import *\n",
    " \n",
    "Z = norm.ppf"
   ]
  },
  {
   "cell_type": "code",
   "execution_count": 2,
   "metadata": {},
   "outputs": [],
   "source": [
    "letters=np.load('/data1/projects/dumoulinlab/Lab_members/Sumiya/programs/packages/pRF_difficulty/Experiment/logs/sub-004/sub-004_ses-0_task-attnE_run-2_Logs/sub-004_ses-0_task-attnE_run-2_rsvp_letters20231122100652.npy')\n",
    "# oris=np.load('/data1/projects/dumoulinlab/Lab_members/Sumiya/programs/packages/pRF_difficulty/Experiment/logs/0/0_ses-0_task-attnE_run-0_Logs/0_ses-0_task-attnE_run-0_rsvp_ori20231120094047.npy')\n",
    "# colors=np.load('/data1/projects/dumoulinlab/Lab_members/Sumiya/programs/packages/pRF_difficulty/Experiment/logs/0/0_ses-0_task-attnH_run-0_Logs/0_ses-0_task-attnH_run-0_rsvp_color20231107143812.npy')"
   ]
  },
  {
   "cell_type": "code",
   "execution_count": 7,
   "metadata": {},
   "outputs": [
    {
     "name": "stdout",
     "output_type": "stream",
     "text": [
      "Settings file:  /data1/projects/dumoulinlab/Lab_members/Sumiya/programs/packages/pRF_difficulty/Experiment/logs/sub-006/sub-006_ses-1_task-attnE_run-6_Logs/sub-006_ses-1_task-attnE_run-6_expsettings.yml\n",
      "\n",
      "Attention E\\Target(s): ['x', 'X']\n",
      "Response Keys: ['nan' 'b']\n",
      "\n",
      "Off task results\n",
      "h D': 0.463, C: 1.900\n",
      "\n",
      "21 expected responses                        \n",
      "17 actual subject responses                        \n",
      "1 hits (within 1s)                        \n",
      "20 misses                        \n",
      "16 false alarms                        \n",
      "951 correct rejections                        \n",
      "Average RT: 1.439s\n",
      "\n",
      "On task results\n",
      "e D': 3.543, C: 1.097\n",
      "\n",
      "20 expected responses                        \n",
      "17 actual subject responses                        \n",
      "15 hits (within 1s)                        \n",
      "5 misses                        \n",
      "2 false alarms                        \n",
      "967 correct rejections                        \n",
      "Average RT: 0.704s\n",
      "\n"
     ]
    }
   ],
   "source": [
    "out='sub-006_ses-1_task-attnE_run-6'\n",
    "sub=out.split('_')[0]\n",
    "tsk=out.split('_')[2].split('-')[-1]\n",
    "attn=out.split('_')[2][-1].lower()\n",
    "name='train'\n",
    "\n",
    "# substr =['ses-1','T_run']\n",
    "# tr_f = [f.rsplit('_',1)[0] for f in os.listdir(opj(os.getcwd(),f'logs/{sub}')) if (substr[0] in f) & (substr[1] in f)]\n",
    "\n",
    "beh = AnalyseRSVP(out, 'rsvp', attn,sub,name,verbose=False)\n",
    "df=beh.loadRunLog()\n",
    "beh.analyseYesNo()"
   ]
  },
  {
   "cell_type": "code",
   "execution_count": 16,
   "metadata": {},
   "outputs": [
    {
     "data": {
      "text/plain": [
       "['/data1/projects/dumoulinlab/Lab_members/Sumiya/programs/packages/pRF_difficulty/Experiment/logs/sub-005/sub-005_ses-1_task-attnE_run-2_Logs',\n",
       " '/data1/projects/dumoulinlab/Lab_members/Sumiya/programs/packages/pRF_difficulty/Experiment/logs/sub-005/sub-005_ses-1_task-attnH_run-4_Logs',\n",
       " '/data1/projects/dumoulinlab/Lab_members/Sumiya/programs/packages/pRF_difficulty/Experiment/logs/sub-005/sub-005_ses-1_task-attnE_run-3_Logs',\n",
       " '/data1/projects/dumoulinlab/Lab_members/Sumiya/programs/packages/pRF_difficulty/Experiment/logs/sub-005/sub-005_ses-1_task-attnH_run-1_Logs',\n",
       " '/data1/projects/dumoulinlab/Lab_members/Sumiya/programs/packages/pRF_difficulty/Experiment/logs/sub-005/sub-005_ses-1_task-attnH_run-3_Logs',\n",
       " '/data1/projects/dumoulinlab/Lab_members/Sumiya/programs/packages/pRF_difficulty/Experiment/logs/sub-005/sub-005_ses-1_task-attnE_run-1_Logs',\n",
       " '/data1/projects/dumoulinlab/Lab_members/Sumiya/programs/packages/pRF_difficulty/Experiment/logs/sub-005/sub-005_ses-1_task-attnH_run-2_Logs',\n",
       " '/data1/projects/dumoulinlab/Lab_members/Sumiya/programs/packages/pRF_difficulty/Experiment/logs/sub-005/sub-005_ses-1_task-attnE_run-4_Logs',\n",
       " '/data1/projects/dumoulinlab/Lab_members/Sumiya/programs/packages/pRF_difficulty/Experiment/logs/sub-006/sub-006_ses-1_task-attnE_run-5_Logs',\n",
       " '/data1/projects/dumoulinlab/Lab_members/Sumiya/programs/packages/pRF_difficulty/Experiment/logs/sub-006/sub-006_ses-1_task-attnH_run-3_Logs',\n",
       " '/data1/projects/dumoulinlab/Lab_members/Sumiya/programs/packages/pRF_difficulty/Experiment/logs/sub-006/sub-006_ses-1_task-attnE_run-1_Logs',\n",
       " '/data1/projects/dumoulinlab/Lab_members/Sumiya/programs/packages/pRF_difficulty/Experiment/logs/sub-006/sub-006_ses-0_task-attnE_run-1_Logs',\n",
       " '/data1/projects/dumoulinlab/Lab_members/Sumiya/programs/packages/pRF_difficulty/Experiment/logs/sub-006/sub-006_ses-1_task-attnH_run-6_Logs',\n",
       " '/data1/projects/dumoulinlab/Lab_members/Sumiya/programs/packages/pRF_difficulty/Experiment/logs/sub-006/sub-006_ses-1_task-attnE_run-4_Logs',\n",
       " '/data1/projects/dumoulinlab/Lab_members/Sumiya/programs/packages/pRF_difficulty/Experiment/logs/sub-006/sub-006_ses-1_task-attnH_run-2_Logs',\n",
       " '/data1/projects/dumoulinlab/Lab_members/Sumiya/programs/packages/pRF_difficulty/Experiment/logs/sub-006/sub-006_ses-0_task-attnH_run-1_Logs',\n",
       " '/data1/projects/dumoulinlab/Lab_members/Sumiya/programs/packages/pRF_difficulty/Experiment/logs/sub-006/sub-006_ses-1_task-attnE_run-6_Logs',\n",
       " '/data1/projects/dumoulinlab/Lab_members/Sumiya/programs/packages/pRF_difficulty/Experiment/logs/sub-006/sub-006_ses-1_task-attnH_run-4_Logs',\n",
       " '/data1/projects/dumoulinlab/Lab_members/Sumiya/programs/packages/pRF_difficulty/Experiment/logs/sub-006/sub-006_ses-1_task-attnE_run-2_Logs',\n",
       " '/data1/projects/dumoulinlab/Lab_members/Sumiya/programs/packages/pRF_difficulty/Experiment/logs/sub-006/sub-006_ses-1_task-attnH_run-5_Logs',\n",
       " '/data1/projects/dumoulinlab/Lab_members/Sumiya/programs/packages/pRF_difficulty/Experiment/logs/sub-006/sub-006_ses-1_task-attnE_run-3_Logs',\n",
       " '/data1/projects/dumoulinlab/Lab_members/Sumiya/programs/packages/pRF_difficulty/Experiment/logs/sub-006/sub-006_ses-1_task-attnH_run-1_Logs',\n",
       " '/data1/projects/dumoulinlab/Lab_members/Sumiya/programs/packages/pRF_difficulty/Experiment/logs/sub-006/sub-006_ses-0_task-attnE_run-2_Logs']"
      ]
     },
     "execution_count": 16,
     "metadata": {},
     "output_type": "execute_result"
    }
   ],
   "source": [
    "exp_folder=opj(os.environ['PATH_HOME'],'pRF_difficulty/Experiment')\n",
    "\n",
    "fnames=glob.glob(opj(exp_folder,'logs/sub-005/*'))\n",
    "[fnames.append(glob.glob(opj(exp_folder,'logs/sub-006/*'))[i]) for i in range(len(glob.glob(opj(exp_folder,'logs/sub-006/*'))))]\n",
    "fnames\n"
   ]
  },
  {
   "cell_type": "code",
   "execution_count": null,
   "metadata": {},
   "outputs": [],
   "source": [
    "beh_df = pd.DataFrame()\n",
    "exp_folder=opj(opd(os.environ['PATH_HOME']),'pRF_difficulty/Experiment')\n",
    "fnames=glob.glob(opj(exp_folder,'logs/sub-005/*'))\n",
    "[fnames.append(glob.glob(opj(exp_folder,'logs/sub-006/*'))[i]) for i in range(len(glob.glob(opj(exp_folder,'logs/sub-006/*'))))]\n",
    "\n",
    "for folder in fnames:\n",
    "    if 'attnT' in folder:\n",
    "        continue\n",
    "    # elif excl in folder:\n",
    "    #     continue\n",
    "    out = folder.rsplit('/',1)[1].rsplit('_',1)[0]\n",
    "    sub=out.split('_')[0]\n",
    "    tsk=out.split('_')[2].split('-')[-1]\n",
    "    attn=out.split('_')[2][-1].lower()\n",
    "    name='exp'\n",
    "    f = f'{os.getcwd()}/logs/{sub}/{folder}/{folder.rsplit(\"_\",1)[0]}_events.tsv'\n",
    "    beh = AnalyseRSVP(out, 'rsvp', attn,sub,name,wd=exp_folder,verbose=False)\n",
    "    df = pd.read_table(f,keep_default_na=True)\n",
    "    df['subject'] = sub\n",
    "    df['run'] = out.split('_')[3][-1]\n",
    "    df['cond'] = out.split('_')[2][-1]\n",
    "    beh_df = pd.concat((beh_df,df))"
   ]
  },
  {
   "cell_type": "code",
   "execution_count": null,
   "metadata": {},
   "outputs": [],
   "source": [
    "fig,ax=plt.subplots(1,1,figsize=(5,5),sharey=True,sharex=True)\n",
    "jitter=0\n",
    "for sub in beh_df.subject.unique():\n",
    "    jitter+=0.05\n",
    "    for cond in ['E','H']:\n",
    "        x=0 if cond == 'E' else 1\n",
    "        for run in beh_df.run.unique():\n",
    "            df=beh_df.loc[(beh_df.subject==sub)&(beh_df.cond==cond) & (beh_df.run==run)& (beh_df.event_type == 'response')]\n",
    "            # print(f'{cond}, Run {run}, Correct: {df.performance.sum()/225*100:.2f}%')\n",
    "            ax.scatter(x+jitter,df.performance.sum()/225,marker=settings['markers'][sub],c=settings['cmap'][sub])\n",
    "\n",
    "ax.set_xticks([0,1],['Easy','Hard'])\n",
    "ax.set_ylabel('% Correct')\n",
    "fig.tight_layout()"
   ]
  }
 ],
 "metadata": {
  "kernelspec": {
   "display_name": "cortexenv",
   "language": "python",
   "name": "python3"
  },
  "language_info": {
   "codemirror_mode": {
    "name": "ipython",
    "version": 3
   },
   "file_extension": ".py",
   "mimetype": "text/x-python",
   "name": "python",
   "nbconvert_exporter": "python",
   "pygments_lexer": "ipython3",
   "version": "3.9.15"
  },
  "orig_nbformat": 4,
  "vscode": {
   "interpreter": {
    "hash": "25cfe35c02759e128b83ecc102b820a40f14fbfee9f469dbb718494d36514253"
   }
  }
 },
 "nbformat": 4,
 "nbformat_minor": 2
}
