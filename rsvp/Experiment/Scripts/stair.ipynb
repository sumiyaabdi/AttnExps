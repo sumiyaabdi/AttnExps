{
 "cells": [
  {
   "cell_type": "code",
   "execution_count": 20,
   "metadata": {},
   "outputs": [],
   "source": [
    "import numpy as np"
   ]
  },
  {
   "cell_type": "code",
   "execution_count": 22,
   "metadata": {},
   "outputs": [
    {
     "data": {
      "text/plain": [
       "array([2, 3, 1, 1, 1])"
      ]
     },
     "execution_count": 22,
     "metadata": {},
     "output_type": "execute_result"
    }
   ],
   "source": [
    "a=['1','2','3','1','1','1']\n",
    "np.asarray(a[-5:], dtype=int)"
   ]
  },
  {
   "cell_type": "code",
   "execution_count": 31,
   "metadata": {},
   "outputs": [
    {
     "data": {
      "text/plain": [
       "0"
      ]
     },
     "execution_count": 31,
     "metadata": {},
     "output_type": "execute_result"
    }
   ],
   "source": [
    "len(responses) % 5 == 0"
   ]
  },
  {
   "cell_type": "code",
   "execution_count": 33,
   "metadata": {},
   "outputs": [
    {
     "name": "stdout",
     "output_type": "stream",
     "text": [
      "Acc 0.6 maintain\n",
      "Acc 0.6 maintain\n",
      "Acc 1.0 make harder\n",
      "Acc 0.0 make easier\n",
      "Acc 0.6 maintain\n",
      "Acc 0.6 maintain\n"
     ]
    }
   ],
   "source": [
    "responses=[]\n",
    "winsz=5\n",
    "desired_performance=0.6\n",
    "wiggle=0.1\n",
    "\n",
    "for i in range(30):\n",
    "    resp=''\n",
    "    while resp not in ['1','0']:\n",
    "        resp=input(\"1 or 2 :\" )\n",
    "    responses.append(resp)\n",
    "\n",
    "    if len(responses) % winsz == 0:\n",
    "        # get sliding window acc\n",
    "        acc=sum(np.asarray(responses[-5:],dtype=int))/winsz\n",
    "        if desired_performance+wiggle > acc > desired_performance - wiggle:\n",
    "            action='maintain'\n",
    "        elif desired_performance+wiggle < acc:\n",
    "            action='make harder'\n",
    "        elif desired_performance-wiggle > acc:\n",
    "            action='make easier'\n",
    "        \n",
    "        print('Acc',acc,action)"
   ]
  }
 ],
 "metadata": {
  "kernelspec": {
   "display_name": "cortexenv",
   "language": "python",
   "name": "python3"
  },
  "language_info": {
   "codemirror_mode": {
    "name": "ipython",
    "version": 3
   },
   "file_extension": ".py",
   "mimetype": "text/x-python",
   "name": "python",
   "nbconvert_exporter": "python",
   "pygments_lexer": "ipython3",
   "version": "3.7.11"
  },
  "orig_nbformat": 4
 },
 "nbformat": 4,
 "nbformat_minor": 2
}
