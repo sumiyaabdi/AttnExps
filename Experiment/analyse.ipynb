{
 "cells": [
  {
   "cell_type": "code",
   "execution_count": 2,
   "metadata": {},
   "outputs": [],
   "source": [
    "%load_ext autoreload\n",
    "%autoreload 2\n",
    "import yaml\n",
    "import pandas as pd\n",
    "# from pandas.core.common import SettingWithCopyWarning\n",
    "pd.options.mode.chained_assignment = None\n",
    "# import warnings\n",
    "# warnings.simplefilter(action='ignore', category=SettingWithCopyWarning)\n",
    "import numpy as np\n",
    "import os\n",
    "opj = os.path.join\n",
    "opd = os.path.dirname\n",
    "import glob\n",
    "import matplotlib.pyplot as plt\n",
    "from scipy.optimize import curve_fit\n",
    "from scipy.stats import norm\n",
    "from utils import *\n",
    "from analyse import *\n",
    "\n",
    "Z = norm.ppf"
   ]
  },
  {
   "cell_type": "code",
   "execution_count": 7,
   "metadata": {},
   "outputs": [
    {
     "name": "stdout",
     "output_type": "stream",
     "text": [
      "Settings file:  /data1/projects/dumoulinlab/Lab_members/Sumiya/programs/pRF_attention_task/Experiment/expsettings/expsettings_yesnoH.yml\n",
      "\n",
      "Attention H\n",
      "Proportions: [0.375, 0.625]\n",
      "Response Keys: ['nan' 'b']\n",
      "\n",
      "small D': 1.633, C: 1.382\n",
      "\n",
      "21 expected responses                        \n",
      "9 actual subject responses                        \n",
      "6 hits (within 1s)                        \n",
      "15 misses                        \n",
      "3 false alarms                        \n",
      "Average RT: 0.736s\n",
      "\n"
     ]
    }
   ],
   "source": [
    "out='sub-004_ses-1_task-contrastL_run-3'\n",
    "out='sub-004_ses-1_task-contrastH_run-2'\n",
    "\n",
    "sub=out.split('_')[0]\n",
    "tsk=out.split('_')[2].split('-')[-1][:-1]\n",
    "attn=out.split('_')[2][-1].lower()\n",
    "name='exp'\n",
    "\"\"\n",
    "beh = AnalyseRun(out, tsk, attn,sub,name)\n",
    "# beh.analyse2afc()\n",
    "beh.analyseYesNo()"
   ]
  },
  {
   "cell_type": "code",
   "execution_count": 29,
   "metadata": {},
   "outputs": [
    {
     "data": {
      "text/plain": [
       "'sub-004_ses-1_task-contrastH_run-2'"
      ]
     },
     "execution_count": 29,
     "metadata": {},
     "output_type": "execute_result"
    }
   ],
   "source": [
    "summary=dd(dict)\n",
    "\n",
    "summary\n",
    "summary['cond'],summary['prop'],summary"
   ]
  },
  {
   "cell_type": "code",
   "execution_count": 58,
   "metadata": {},
   "outputs": [
    {
     "data": {
      "text/plain": [
       "['sub-004_ses-1_task-contrastH_run-11_Logs',\n",
       " 'sub-004_ses-1_task-contrastH_run-2_Logs',\n",
       " 'sub-004_ses-1_task-contrastH_run-5_Logs',\n",
       " 'sub-004_ses-1_task-contrastH_run-8_Logs',\n",
       " 'sub-004_ses-1_task-contrastL_run-10_Logs',\n",
       " 'sub-004_ses-1_task-contrastL_run-12_Logs',\n",
       " 'sub-004_ses-1_task-contrastL_run-13_Logs',\n",
       " 'sub-004_ses-1_task-contrastL_run-1_Logs',\n",
       " 'sub-004_ses-1_task-contrastL_run-3_Logs',\n",
       " 'sub-004_ses-1_task-contrastL_run-4_Logs',\n",
       " 'sub-004_ses-1_task-contrastL_run-6_Logs',\n",
       " 'sub-004_ses-1_task-contrastL_run-7_Logs',\n",
       " 'sub-004_ses-1_task-contrastL_run-9_Logs']"
      ]
     },
     "execution_count": 58,
     "metadata": {},
     "output_type": "execute_result"
    }
   ],
   "source": [
    "# summary\n",
    "fnames=sorted([f for f in os.listdir(opj(beh.wd,'logs',sub)) if tsk in f ])\n",
    "fnames"
   ]
  },
  {
   "cell_type": "code",
   "execution_count": 61,
   "metadata": {},
   "outputs": [
    {
     "name": "stdout",
     "output_type": "stream",
     "text": [
      "sub-004_ses-1_task-contrastH_run-5_Logs\n",
      "sub-004_ses-1_task-contrastL_run-12_Logs\n",
      "sub-004_ses-1_task-contrastL_run-6_Logs\n",
      "sub-004_ses-1_task-contrastL_run-3_Logs\n",
      "sub-004_ses-1_task-contrastL_run-13_Logs\n",
      "sub-004_ses-1_task-contrastL_run-7_Logs\n",
      "sub-004_ses-1_task-contrastH_run-8_Logs\n",
      "sub-004_ses-1_task-contrastL_run-1_Logs\n",
      "sub-004_ses-1_task-contrastL_run-9_Logs\n",
      "sub-004_ses-1_task-contrastH_run-14_Logs\n",
      "sub-004_ses-1_task-contrastH_run-2_Logs\n",
      "sub-004_ses-1_task-contrastH_run-11_Logs\n",
      "sub-004_ses-1_task-contrastL_run-10_Logs\n",
      "sub-004_ses-1_task-contrastL_run-4_Logs\n"
     ]
    },
    {
     "data": {
      "image/png": "[encoded data removed]",
      "text/plain": [
       "<Figure size 640x480 with 1 Axes>"
      ]
     },
     "metadata": {},
     "output_type": "display_data"
    }
   ],
   "source": [
    "sub='sub-004'\n",
    "n='exp'\n",
    "substr=''#'ses-3_task-yesno'\n",
    "if (substr == '') & (n == 'train'):\n",
    "    substr='ses-0_task-yesno'\n",
    "elif substr == '':\n",
    "    substr='ses-1_task-contrast'\n",
    "r=None\n",
    "excl=['run-15']\n",
    "\n",
    "pth=opj(os.getcwd(),'logs',sub)\n",
    "fn=os.listdir(pth)#os.listdir(opj(os.environ['DIR_DATA_HOME'],f'sourcedata/{sub}/ses-1/prf/'))\n",
    "fn=[f for f in fn if substr in f]\n",
    "dL=[]\n",
    "dS=[]\n",
    "\n",
    "for f in fn:\n",
    "    if any([ex in f for ex in excl]):\n",
    "        continue \n",
    "    print(f)\n",
    "    out=f[:-5]\n",
    "    tsk=out.split('_')[2].split('-')[-1][:-1]\n",
    "    attn=out.split('_')[2][-1].lower()\n",
    "    name=n\n",
    "    beh = AnalyseRun(out, tsk, attn,sub,name,verbose=False)\n",
    "    beh.analyseYesNo(resp=r)\n",
    "    if attn == 'l': \n",
    "        dL.append(beh.d)\n",
    "    else:\n",
    "        dS.append(beh.d)\n",
    "\n",
    "plt.boxplot([dL,dS])\n",
    "plt.scatter(np.random.uniform(1.95,2.05,len(dS)),dS,marker='.')\n",
    "plt.scatter(np.random.uniform(0.95,1.05,len(dL)),dL,marker='.')\n",
    "plt.xticks([2,1],['High\\nContrast','Low\\nContrast'])\n",
    "plt.show()\n"
   ]
  },
  {
   "cell_type": "code",
   "execution_count": null,
   "metadata": {},
   "outputs": [],
   "source": []
  }
 ],
 "metadata": {
  "kernelspec": {
   "display_name": "Python 3",
   "language": "python",
   "name": "python3"
  },
  "language_info": {
   "codemirror_mode": {
    "name": "ipython",
    "version": 3
   },
   "file_extension": ".py",
   "mimetype": "text/x-python",
   "name": "python",
   "nbconvert_exporter": "python",
   "pygments_lexer": "ipython3",
   "version": "3.9.15"
  },
  "orig_nbformat": 4,
  "vscode": {
   "interpreter": {
    "hash": "949777d72b0d2535278d3dc13498b2535136f6dfe0678499012e853ee9abcab1"
   }
  }
 },
 "nbformat": 4,
 "nbformat_minor": 2
}
