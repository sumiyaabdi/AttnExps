{
 "cells": [
  {
   "cell_type": "code",
   "execution_count": 1,
   "metadata": {},
   "outputs": [],
   "source": [
    "import pandas as pd\n",
    "from pandas.core.common import SettingWithCopyWarning\n",
    "import warnings\n",
    "warnings.simplefilter(action='ignore', category=SettingWithCopyWarning)\n",
    "import numpy as np\n",
    "import os\n",
    "import glob\n",
    "import matplotlib.pyplot as plt\n",
    "from scipy.optimize import curve_fit\n",
    "from analysis_utils import d_prime\n",
    "from scipy.stats import norm\n",
    "import seaborn as sns\n",
    "\n",
    "os.chdir('../')\n",
    "wd = os.getcwd()\n",
    "wd"
   ]
  },
  {
   "cell_type": "code",
   "execution_count": null,
   "metadata": {},
   "outputs": [],
   "source": [
    "fnames[0].split('/')[-1].split('_')[-2][-1]"
   ]
  },
  {
   "cell_type": "code",
   "execution_count": 3,
   "metadata": {},
   "outputs": [
    {
     "name": "stdout",
     "output_type": "stream",
     "text": [
      "Run 5 Attn L\t D' 3.00 \t Criterion:0.94\n",
      "Run 1 Attn S\t D' 2.11 \t Criterion:1.17\n",
      "Run 4 Attn L\t D' 2.83 \t Criterion:1.01\n",
      "Run 3 Attn L\t D' 3.35 \t Criterion:1.34\n",
      "Run 2 Attn L\t D' 3.49 \t Criterion:1.28\n",
      "Run 4 Attn S\t D' 3.32 \t Criterion:1.36\n",
      "Run 1 Attn L\t D' 2.07 \t Criterion:1.27\n",
      "Run 5 Attn S\t D' 2.79 \t Criterion:1.17\n",
      "Run 2 Attn S\t D' 3.31 \t Criterion:1.36\n",
      "Run 3 Attn S\t D' 3.01 \t Criterion:1.30\n"
     ]
    }
   ],
   "source": [
    "fnames = glob.glob(f'{wd}/logs/sub-001/ses-2/sub-001_ses-2_task-yesno*/*.tsv')\n",
    "\n",
    "all_logs = pd.DataFrame([])\n",
    "summ = pd.DataFrame(columns=['run', 'attn_sz', 'dprime', 'criterion'])\n",
    "summary = pd.DataFrame([]) \n",
    "\n",
    "for f in fnames:\n",
    "\n",
    "    attn = f.split('/')[-1].split('_')[2][-1].lower()\n",
    "    run = f.split('/')[-1].split('_')[-2][-1]\n",
    "    df = pd.read_table(f,keep_default_na=True)\n",
    "    df = df.drop(df[(df.phase % 2 == 1) & (df.event_type == 'stim')].index.append(df[df.event_type == 'pulse'].index))\n",
    "    df['duration'] = df['duration'].fillna(0)\n",
    "    df['nr_frames'] = df['nr_frames'].fillna(0)\n",
    "    df['end'] = df.onset + df.duration\n",
    "    df['end_abs'] = df.onset_abs + df.duration\n",
    "    df['attn_size'] = attn\n",
    "    df['run'] = run\n",
    "\n",
    "    sz = 'large_prop' if attn == 'l' else 'small_prop'\n",
    "    not_sz = 'small_prop' if attn == 'l' else 'large_prop'\n",
    "    baseline = 0.5\n",
    "    duration = 0.75\n",
    "\n",
    "    stim_df = df[df.event_type == 'stim']\n",
    "    switch_loc = np.diff(stim_df[sz], prepend=baseline) != 0\n",
    "    switch_loc = stim_df[(switch_loc) & (stim_df[sz] != baseline)].index  # drop values where color_balance is 0.5\n",
    "    responses = df.loc[df.response == 'b']\n",
    "\n",
    "    tp = sum([(abs(i - responses.onset) < duration).any() \\\n",
    "                      for i in stim_df.loc[switch_loc].end])  # true positives\n",
    "    fn = len(switch_loc) - tp  # false negatives (missed switches)\n",
    "    fp = len(responses) - tp  # false positives (responded with no switch)\n",
    "    tn = len(stim_df) - len(switch_loc) - fn  # true negative\n",
    "\n",
    "    d, c = d_prime(tp, fn, fp, tn)\n",
    "    \n",
    "    stim_df_not = df[df.event_type == 'stim']\n",
    "    switch_loc_not = np.diff(stim_df[not_sz], prepend=baseline) != 0\n",
    "    switch_loc_not = stim_df[(switch_loc) & (stim_df[not_sz] != baseline)].index  # drop values where color_balance is 0.5\n",
    "    responses_not = df.loc[df.response == 'b']\n",
    "\n",
    "    tp_not = sum([(abs(i - responses.onset) < duration).any() \\\n",
    "                      for i in stim_df.loc[switch_loc].end])  # true positives\n",
    "    fn_not = len(switch_loc) - tp  # false negatives (missed switches)\n",
    "    fp_not = len(responses) - tp  # false positives (responded with no switch)\n",
    "    tn_not = len(stim_df) - len(switch_loc) - fn  # true negative\n",
    "\n",
    "    d_not, c_not = d_prime(tp, fn, fp, tn)\n",
    "    \n",
    "    print(f'Run {run} Attn {attn.upper()}\\t D\\' {d:.2f} \\t Criterion:{c:.2f}')\n",
    "    summary = summary.append({'run': run,\n",
    "                              'attn_sz': attn,\n",
    "                              'dprime_task': d,\n",
    "                              'criterion_task': c,\n",
    "                              'dprime_not': d_not,\n",
    "                              'criterion_not': c_not},\n",
    "                              ignore_index=True\n",
    "                             )"
   ]
  },
  {
   "cell_type": "code",
   "execution_count": 28,
   "metadata": {},
   "outputs": [
    {
     "data": {
      "text/html": [
       "<div>\n",
       "<style scoped>\n",
       "    .dataframe tbody tr th:only-of-type {\n",
       "        vertical-align: middle;\n",
       "    }\n",
       "\n",
       "    .dataframe tbody tr th {\n",
       "        vertical-align: top;\n",
       "    }\n",
       "\n",
       "    .dataframe thead th {\n",
       "        text-align: right;\n",
       "    }\n",
       "</style>\n",
       "<table border=\"1\" class=\"dataframe\">\n",
       "  <thead>\n",
       "    <tr style=\"text-align: right;\">\n",
       "      <th></th>\n",
       "      <th>attn_sz</th>\n",
       "      <th>criterion</th>\n",
       "      <th>dprime</th>\n",
       "      <th>run</th>\n",
       "    </tr>\n",
       "  </thead>\n",
       "  <tbody>\n",
       "    <tr>\n",
       "      <th>0</th>\n",
       "      <td>s</td>\n",
       "      <td>1.167505</td>\n",
       "      <td>2.791961</td>\n",
       "      <td>5</td>\n",
       "    </tr>\n",
       "    <tr>\n",
       "      <th>1</th>\n",
       "      <td>s</td>\n",
       "      <td>1.361578</td>\n",
       "      <td>3.305070</td>\n",
       "      <td>2</td>\n",
       "    </tr>\n",
       "    <tr>\n",
       "      <th>2</th>\n",
       "      <td>s</td>\n",
       "      <td>1.295046</td>\n",
       "      <td>3.010948</td>\n",
       "      <td>3</td>\n",
       "    </tr>\n",
       "    <tr>\n",
       "      <th>3</th>\n",
       "      <td>s</td>\n",
       "      <td>1.173124</td>\n",
       "      <td>2.106952</td>\n",
       "      <td>1</td>\n",
       "    </tr>\n",
       "    <tr>\n",
       "      <th>4</th>\n",
       "      <td>l</td>\n",
       "      <td>0.935463</td>\n",
       "      <td>3.002823</td>\n",
       "      <td>5</td>\n",
       "    </tr>\n",
       "    <tr>\n",
       "      <th>5</th>\n",
       "      <td>l</td>\n",
       "      <td>1.279438</td>\n",
       "      <td>3.486292</td>\n",
       "      <td>2</td>\n",
       "    </tr>\n",
       "    <tr>\n",
       "      <th>6</th>\n",
       "      <td>s</td>\n",
       "      <td>1.357507</td>\n",
       "      <td>3.320976</td>\n",
       "      <td>4</td>\n",
       "    </tr>\n",
       "    <tr>\n",
       "      <th>7</th>\n",
       "      <td>l</td>\n",
       "      <td>1.014806</td>\n",
       "      <td>2.826029</td>\n",
       "      <td>4</td>\n",
       "    </tr>\n",
       "    <tr>\n",
       "      <th>8</th>\n",
       "      <td>l</td>\n",
       "      <td>1.274040</td>\n",
       "      <td>2.065999</td>\n",
       "      <td>1</td>\n",
       "    </tr>\n",
       "    <tr>\n",
       "      <th>9</th>\n",
       "      <td>l</td>\n",
       "      <td>1.342578</td>\n",
       "      <td>3.353910</td>\n",
       "      <td>3</td>\n",
       "    </tr>\n",
       "  </tbody>\n",
       "</table>\n",
       "</div>"
      ],
      "text/plain": [
       "  attn_sz  criterion    dprime run\n",
       "0       s   1.167505  2.791961   5\n",
       "1       s   1.361578  3.305070   2\n",
       "2       s   1.295046  3.010948   3\n",
       "3       s   1.173124  2.106952   1\n",
       "4       l   0.935463  3.002823   5\n",
       "5       l   1.279438  3.486292   2\n",
       "6       s   1.357507  3.320976   4\n",
       "7       l   1.014806  2.826029   4\n",
       "8       l   1.274040  2.065999   1\n",
       "9       l   1.342578  3.353910   3"
      ]
     },
     "execution_count": 28,
     "metadata": {},
     "output_type": "execute_result"
    }
   ],
   "source": [
    "summary"
   ]
  },
  {
   "cell_type": "code",
   "execution_count": 7,
   "metadata": {},
   "outputs": [
    {
     "data": {
      "text/plain": [
       "<matplotlib.collections.PathCollection at 0x12b5327b8>"
      ]
     },
     "execution_count": 7,
     "metadata": {},
     "output_type": "execute_result"
    },
    {
     "data": {
      "image/png": "[encoded data removed]",
      "text/plain": [
       "<Figure size 864x576 with 1 Axes>"
      ]
     },
     "metadata": {
      "needs_background": "light"
     },
     "output_type": "display_data"
    }
   ],
   "source": [
    "s_df = summary[summary.attn_sz == 'l']\n",
    "l_df = summary[summary.attn_sz == 's']\n",
    "x = np.ones(len(s_df))*1\n",
    "x = np.append(x,np.ones(len(l_df))*2)\n",
    "\n",
    "summary.boxplot(column='criterion', by='attn_sz', grid=False,figsize=(12,8), fontsize=14)\n",
    "\n",
    "plt.scatter(x,[s_df.criterion,l_df.criterion])\n",
    "# plt.savefig('criterion_boxplot.png', dpi=300)"
   ]
  },
  {
   "cell_type": "code",
   "execution_count": 6,
   "metadata": {},
   "outputs": [
    {
     "data": {
      "text/plain": [
       "<matplotlib.collections.PathCollection at 0x12b1bdc50>"
      ]
     },
     "execution_count": 6,
     "metadata": {},
     "output_type": "execute_result"
    },
    {
     "data": {
      "image/png": "[encoded data removed]",
      "text/plain": [
       "<Figure size 864x576 with 1 Axes>"
      ]
     },
     "metadata": {
      "needs_background": "light"
     },
     "output_type": "display_data"
    }
   ],
   "source": [
    "s_df = summary[summary.attn_sz == 'l']\n",
    "l_df = summary[summary.attn_sz == 's']\n",
    "x = np.ones(len(s_df))*1\n",
    "x = np.append(x,np.ones(len(l_df))*2)\n",
    "\n",
    "summary.boxplot(column='dprime', by='attn_sz', grid=False,figsize=(12,8), fontsize=14)\n",
    "\n",
    "plt.scatter(x,[s_df.dprime,l_df.dprime])\n",
    "# plt.savefig('criterion_boxplot.png', dpi=300)"
   ]
  },
  {
   "cell_type": "code",
   "execution_count": 4,
   "metadata": {},
   "outputs": [
    {
     "data": {
      "image/png": "[encoded data removed]",
      "text/plain": [
       "<Figure size 864x576 with 2 Axes>"
      ]
     },
     "metadata": {
      "needs_background": "light"
     },
     "output_type": "display_data"
    }
   ],
   "source": [
    "fig, ax = plt.subplots(1,2,figsize=(12,8))\n",
    "\n",
    "labels = sorted(summary.run.unique())\n",
    "men_means = [20, 34, 30, 35, 27]\n",
    "women_means = [25, 32, 34, 20, 25]\n",
    "\n",
    "x = np.arange(len(labels))  # the label locations\n",
    "width = 0.2  # the width of the bars\n",
    "\n",
    "rects1 = ax[0].bar(x - width/2, summary[summary.attn_sz == 's'].dprime, width, label='SmallAF')\n",
    "rects2 = ax[0].bar(x + width/2, summary[summary.attn_sz == 'l'].dprime, width, label='LargeAF')\n",
    "\n",
    "ax[0].set_ylabel('D primes')\n",
    "ax[0].set_xlabel('Run Number')\n",
    "ax[0].set_title('Attention Task D primes')\n",
    "ax[0].set_xticks(x)\n",
    "ax[0].set_xticklabels(labels)\n",
    "ax[0].legend()\n",
    "\n",
    "# ax.bar_label(rects1, padding=3)\n",
    "# ax.bar_label(rects2, padding=3)\n",
    "\n",
    "fig.tight_layout()\n",
    "\n",
    "plt.show()"
   ]
  },
  {
   "cell_type": "code",
   "execution_count": null,
   "metadata": {},
   "outputs": [],
   "source": []
  }
 ],
 "metadata": {
  "kernelspec": {
   "display_name": "Python 3",
   "language": "python",
   "name": "python3"
  },
  "language_info": {
   "codemirror_mode": {
    "name": "ipython",
    "version": 3
   },
   "file_extension": ".py",
   "mimetype": "text/x-python",
   "name": "python",
   "nbconvert_exporter": "python",
   "pygments_lexer": "ipython3",
   "version": "3.7.0"
  }
 },
 "nbformat": 4,
 "nbformat_minor": 4
}
