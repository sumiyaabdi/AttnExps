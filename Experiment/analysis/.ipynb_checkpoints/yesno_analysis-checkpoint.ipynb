{
 "cells": [
  {
   "cell_type": "code",
   "execution_count": 2,
   "metadata": {},
   "outputs": [
    {
     "data": {
      "text/plain": [
       "'/Users/sumiyaabdirashid/Desktop/PhD/code/git/pRF_attention_task/Experiment'"
      ]
     },
     "execution_count": 2,
     "metadata": {},
     "output_type": "execute_result"
    }
   ],
   "source": [
    "import pandas as pd\n",
    "from pandas.core.common import SettingWithCopyWarning\n",
    "import warnings\n",
    "warnings.simplefilter(action='ignore', category=SettingWithCopyWarning)\n",
    "import numpy as np\n",
    "import os\n",
    "import glob\n",
    "import matplotlib.pyplot as plt\n",
    "from scipy.optimize import curve_fit\n",
    "from analysis_utils import d_prime\n",
    "from scipy.stats import norm\n",
    "# import seaborn as sns\n",
    "\n",
    "os.chdir('../')\n",
    "wd = os.getcwd()\n",
    "wd"
   ]
  },
  {
   "cell_type": "code",
   "execution_count": 117,
   "metadata": {},
   "outputs": [
    {
     "data": {
      "text/plain": [
       "array(['1'], dtype=object)"
      ]
     },
     "execution_count": 117,
     "metadata": {},
     "output_type": "execute_result"
    }
   ],
   "source": []
  },
  {
   "cell_type": "code",
   "execution_count": 118,
   "metadata": {},
   "outputs": [
    {
     "name": "stdout",
     "output_type": "stream",
     "text": [
      "Run 4, resp_keys [nan '3']\n",
      "Run 3, resp_keys [nan '1']\n",
      "Run 1, resp_keys [nan '1']\n",
      "Run 2, resp_keys [nan '1']\n"
     ]
    },
    {
     "data": {
      "text/html": [
       "<div>\n",
       "<style scoped>\n",
       "    .dataframe tbody tr th:only-of-type {\n",
       "        vertical-align: middle;\n",
       "    }\n",
       "\n",
       "    .dataframe tbody tr th {\n",
       "        vertical-align: top;\n",
       "    }\n",
       "\n",
       "    .dataframe thead th {\n",
       "        text-align: right;\n",
       "    }\n",
       "</style>\n",
       "<table border=\"1\" class=\"dataframe\">\n",
       "  <thead>\n",
       "    <tr style=\"text-align: right;\">\n",
       "      <th></th>\n",
       "      <th>attn_sz</th>\n",
       "      <th>criterion</th>\n",
       "      <th>dprime</th>\n",
       "      <th>on_task</th>\n",
       "      <th>run</th>\n",
       "    </tr>\n",
       "  </thead>\n",
       "  <tbody>\n",
       "    <tr>\n",
       "      <th>4</th>\n",
       "      <td>l</td>\n",
       "      <td>1.732777</td>\n",
       "      <td>0.824545</td>\n",
       "      <td>True</td>\n",
       "      <td>1</td>\n",
       "    </tr>\n",
       "    <tr>\n",
       "      <th>5</th>\n",
       "      <td>s</td>\n",
       "      <td>1.754143</td>\n",
       "      <td>0.506113</td>\n",
       "      <td>False</td>\n",
       "      <td>1</td>\n",
       "    </tr>\n",
       "    <tr>\n",
       "      <th>6</th>\n",
       "      <td>l</td>\n",
       "      <td>1.842894</td>\n",
       "      <td>0.446075</td>\n",
       "      <td>False</td>\n",
       "      <td>2</td>\n",
       "    </tr>\n",
       "    <tr>\n",
       "      <th>7</th>\n",
       "      <td>s</td>\n",
       "      <td>1.840971</td>\n",
       "      <td>0.455225</td>\n",
       "      <td>True</td>\n",
       "      <td>2</td>\n",
       "    </tr>\n",
       "    <tr>\n",
       "      <th>2</th>\n",
       "      <td>l</td>\n",
       "      <td>1.867252</td>\n",
       "      <td>0.718695</td>\n",
       "      <td>True</td>\n",
       "      <td>3</td>\n",
       "    </tr>\n",
       "    <tr>\n",
       "      <th>3</th>\n",
       "      <td>s</td>\n",
       "      <td>1.879231</td>\n",
       "      <td>0.518750</td>\n",
       "      <td>False</td>\n",
       "      <td>3</td>\n",
       "    </tr>\n",
       "    <tr>\n",
       "      <th>0</th>\n",
       "      <td>l</td>\n",
       "      <td>0.965508</td>\n",
       "      <td>1.995300</td>\n",
       "      <td>True</td>\n",
       "      <td>4</td>\n",
       "    </tr>\n",
       "    <tr>\n",
       "      <th>1</th>\n",
       "      <td>s</td>\n",
       "      <td>1.336416</td>\n",
       "      <td>0.402998</td>\n",
       "      <td>False</td>\n",
       "      <td>4</td>\n",
       "    </tr>\n",
       "  </tbody>\n",
       "</table>\n",
       "</div>"
      ],
      "text/plain": [
       "  attn_sz  criterion    dprime  on_task run\n",
       "4       l   1.732777  0.824545     True   1\n",
       "5       s   1.754143  0.506113    False   1\n",
       "6       l   1.842894  0.446075    False   2\n",
       "7       s   1.840971  0.455225     True   2\n",
       "2       l   1.867252  0.718695     True   3\n",
       "3       s   1.879231  0.518750    False   3\n",
       "0       l   0.965508  1.995300     True   4\n",
       "1       s   1.336416  0.402998    False   4"
      ]
     },
     "execution_count": 118,
     "metadata": {},
     "output_type": "execute_result"
    }
   ],
   "source": [
    "fnames = glob.glob(f'{wd}/logs/sub-002/22-06-2021/*yesno*/*.tsv')\n",
    "\n",
    "all_logs = pd.DataFrame([])\n",
    "summ = pd.DataFrame(columns=['run', 'attn_sz', 'dprime', 'criterion'])\n",
    "summary = pd.DataFrame([]) \n",
    "\n",
    "for f in fnames:\n",
    "\n",
    "    attn = f.split('/')[-1].split('_')[2][-1].lower()\n",
    "    run = f.split('/')[-1].split('_')[-2][-1]\n",
    "    df = pd.read_table(f,keep_default_na=True)\n",
    "    df = df.drop(df[(df.phase % 2 == 1) & (df.event_type == 'stim')].index.append(df[df.event_type == 'pulse'].index))\n",
    "    df['duration'] = df['duration'].fillna(0)\n",
    "    df['nr_frames'] = df['nr_frames'].fillna(0)\n",
    "    df['end'] = df.onset + df.duration\n",
    "    df['end_abs'] = df.onset_abs + df.duration\n",
    "    df['attn_size'] = attn\n",
    "    df['run'] = run\n",
    "    print(f'Run {run}, resp_keys {df[\"response\"].unique()}')\n",
    "    resp_key = df.dropna(subset=['response']).response.unique()[0]\n",
    "\n",
    "    baseline = 0.5\n",
    "    duration = 0.75\n",
    "    sizes = ['large_prop','small_prop']\n",
    "    \n",
    "    for sz in sizes:\n",
    "        on_task = True if attn == sz[0] else False\n",
    "        stim_df = df[df.event_type == 'stim']\n",
    "        switch_loc = np.diff(stim_df[sz], prepend=baseline) != 0\n",
    "        switch_loc = stim_df[(switch_loc) & (stim_df[sz] != baseline)].index  # drop values where color_balance is 0.5\n",
    "        responses = df.loc[df.response == resp_key]\n",
    "\n",
    "        tp = sum([(abs(i - responses.onset) < duration).any() \\\n",
    "                          for i in stim_df.loc[switch_loc].end])  # true positives\n",
    "        fn = len(switch_loc) - tp  # false negatives (missed switches)\n",
    "        fp = len(responses) - tp  # false positives (responded with no switch)\n",
    "        tn = len(stim_df) - len(switch_loc) - fn  # true negative\n",
    "\n",
    "        d, c = d_prime(tp, fn, fp, tn)\n",
    "        \n",
    "        summary = summary.append({'run': run,\n",
    "                              'attn_sz': sz[0],\n",
    "                              'on_task': bool(on_task),\n",
    "                              'dprime': d,\n",
    "                              'criterion': c},\n",
    "                              ignore_index=True\n",
    "                             )\n",
    "summary['on_task'] = summary['on_task'].astype(bool)\n",
    "summary = summary.sort_values(by='run')\n",
    "summary"
   ]
  },
  {
   "cell_type": "code",
   "execution_count": 119,
   "metadata": {},
   "outputs": [
    {
     "data": {
      "text/plain": [
       "<matplotlib.collections.PathCollection at 0x121ac4430>"
      ]
     },
     "execution_count": 119,
     "metadata": {},
     "output_type": "execute_result"
    },
    {
     "data": {
      "image/png": "[encoded data removed]",
      "text/plain": [
       "<Figure size 864x576 with 1 Axes>"
      ]
     },
     "metadata": {
      "needs_background": "light"
     },
     "output_type": "display_data"
    }
   ],
   "source": [
    "s_df = summary[summary.attn_sz == 'l']\n",
    "l_df = summary[summary.attn_sz == 's']\n",
    "x = np.ones(len(s_df))*1\n",
    "x = np.append(x,np.ones(len(l_df))*2)\n",
    "\n",
    "summary.boxplot(column=['dprime'], by=['attn_sz','on_task'], grid=False,figsize=(12,8), fontsize=14)\n",
    "\n",
    "# plt.scatter(x,[s_df.dprime,l_df.dprime])\n",
    "# plt.savefig('criterion_boxplot.png', dpi=300)"
   ]
  },
  {
   "cell_type": "code",
   "execution_count": 121,
   "metadata": {},
   "outputs": [],
   "source": [
    "fig, ax = plt.subplots(1,2,figsize=(12,4))\n",
    "\n",
    "labels = summary.run.unique()\n",
    "\n",
    "x = np.arange(len(labels))  # the label locations\n",
    "width = 0.2  # the width of the bars\n",
    "\n",
    "rects1 = ax[0].bar(x - width/2, summary[(summary.attn_sz == 's') & summary.on_task].dprime, width, label='SmallAF')\n",
    "rects2 = ax[0].bar(x + width/2, summary[(summary.attn_sz == 'l') & summary.on_task].dprime, width, label='LargeAF')\n",
    "\n",
    "ax[0].set_ylabel('D primes')\n",
    "ax[0].set_xlabel('Run Number')\n",
    "ax[0].set_title('D prime over time')\n",
    "ax[0].set_xticks(x)\n",
    "ax[0].set_xticklabels(labels)\n",
    "# ax[0].legend()\n",
    "\n",
    "rects1 = ax[1].bar(x - width/2, summary[(summary.attn_sz == 's') & summary.on_task].criterion, width, label='SmallAF')\n",
    "rects2 = ax[1].bar(x + width/2, summary[(summary.attn_sz == 'l') & summary.on_task].criterion, width, label='LargeAF')\n",
    "\n",
    "ax[1].set_ylabel('Criterion')\n",
    "ax[1].set_xlabel('Run Number')\n",
    "ax[1].set_title('Criterion over time')\n",
    "ax[1].set_xticks(x)\n",
    "ax[1].set_xticklabels(labels)\n",
    "ax[1].legend(loc='best')\n",
    "\n",
    "fig.tight_layout()\n",
    "\n",
    "plt.show()"
   ]
  }
 ],
 "metadata": {
  "kernelspec": {
   "display_name": "Python 3",
   "language": "python",
   "name": "python3"
  },
  "language_info": {
   "codemirror_mode": {
    "name": "ipython",
    "version": 3
   },
   "file_extension": ".py",
   "mimetype": "text/x-python",
   "name": "python",
   "nbconvert_exporter": "python",
   "pygments_lexer": "ipython3",
   "version": "3.8.5"
  },
  "toc": {
   "base_numbering": 1,
   "nav_menu": {},
   "number_sections": true,
   "sideBar": true,
   "skip_h1_title": false,
   "title_cell": "Table of Contents",
   "title_sidebar": "Contents",
   "toc_cell": false,
   "toc_position": {},
   "toc_section_display": true,
   "toc_window_display": false
  }
 },
 "nbformat": 4,
 "nbformat_minor": 4
}
