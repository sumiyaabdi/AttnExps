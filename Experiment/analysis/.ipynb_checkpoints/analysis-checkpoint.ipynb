{
 "cells": [
  {
   "cell_type": "code",
   "execution_count": 1,
   "metadata": {},
   "outputs": [
    {
     "data": {
      "text/plain": [
       "'/Users/sumiyaabdirashid/Desktop/PhD/code/git/PRF_Experiment_Checkers/Experiment'"
      ]
     },
     "execution_count": 1,
     "metadata": {},
     "output_type": "execute_result"
    }
   ],
   "source": [
    "import pandas as pd\n",
    "import numpy as np\n",
    "import os\n",
    "from psychopy import visual, tools\n",
    "\n",
    "os.chdir('../')\n",
    "os.getcwd()"
   ]
  },
  {
   "cell_type": "markdown",
   "metadata": {},
   "source": [
    "# Analysis from pRF+AttnStim"
   ]
  },
  {
   "cell_type": "code",
   "execution_count": 4,
   "metadata": {},
   "outputs": [],
   "source": [
    "f_name = '0_0_attn_0_Logs20210216224329/0_0_attn_0_events.tsv'\n",
    "df = pd.read_table(f_name, keep_default_na=True)\n",
    "\n",
    "# change NaNs to 0 \n",
    "df['duration'] = df['duration'].fillna(0)\n",
    "df['nr_frames'] = df['nr_frames'].fillna(0)\n",
    "\n",
    "# add columns for end times\n",
    "df['end'] = df.onset + df.duration\n",
    "df['end_abs'] = df.onset_abs + df.duration"
   ]
  },
  {
   "cell_type": "code",
   "execution_count": 5,
   "metadata": {},
   "outputs": [
    {
     "data": {
      "text/html": [
       "<div>\n",
       "<style scoped>\n",
       "    .dataframe tbody tr th:only-of-type {\n",
       "        vertical-align: middle;\n",
       "    }\n",
       "\n",
       "    .dataframe tbody tr th {\n",
       "        vertical-align: top;\n",
       "    }\n",
       "\n",
       "    .dataframe thead th {\n",
       "        text-align: right;\n",
       "    }\n",
       "</style>\n",
       "<table border=\"1\" class=\"dataframe\">\n",
       "  <thead>\n",
       "    <tr style=\"text-align: right;\">\n",
       "      <th></th>\n",
       "      <th>trial_nr</th>\n",
       "      <th>onset</th>\n",
       "      <th>event_type</th>\n",
       "      <th>phase</th>\n",
       "      <th>response</th>\n",
       "      <th>nr_frames</th>\n",
       "      <th>color_balance</th>\n",
       "      <th>fix_intensity</th>\n",
       "      <th>onset_abs</th>\n",
       "      <th>duration</th>\n",
       "      <th>end</th>\n",
       "      <th>end_abs</th>\n",
       "    </tr>\n",
       "  </thead>\n",
       "  <tbody>\n",
       "    <tr>\n",
       "      <th>0</th>\n",
       "      <td>0</td>\n",
       "      <td>0.031631</td>\n",
       "      <td>stim</td>\n",
       "      <td>0</td>\n",
       "      <td>NaN</td>\n",
       "      <td>21.0</td>\n",
       "      <td>0.5</td>\n",
       "      <td>0.2</td>\n",
       "      <td>4.479599</td>\n",
       "      <td>0.383321</td>\n",
       "      <td>0.414952</td>\n",
       "      <td>4.862920</td>\n",
       "    </tr>\n",
       "    <tr>\n",
       "      <th>1</th>\n",
       "      <td>0</td>\n",
       "      <td>0.414952</td>\n",
       "      <td>stim</td>\n",
       "      <td>1</td>\n",
       "      <td>NaN</td>\n",
       "      <td>11.0</td>\n",
       "      <td>0.5</td>\n",
       "      <td>0.2</td>\n",
       "      <td>4.862920</td>\n",
       "      <td>0.366761</td>\n",
       "      <td>0.781713</td>\n",
       "      <td>5.229681</td>\n",
       "    </tr>\n",
       "    <tr>\n",
       "      <th>2</th>\n",
       "      <td>0</td>\n",
       "      <td>0.781713</td>\n",
       "      <td>stim</td>\n",
       "      <td>2</td>\n",
       "      <td>NaN</td>\n",
       "      <td>21.0</td>\n",
       "      <td>0.5</td>\n",
       "      <td>0.2</td>\n",
       "      <td>5.229681</td>\n",
       "      <td>0.367175</td>\n",
       "      <td>1.148888</td>\n",
       "      <td>5.596855</td>\n",
       "    </tr>\n",
       "    <tr>\n",
       "      <th>3</th>\n",
       "      <td>0</td>\n",
       "      <td>1.148888</td>\n",
       "      <td>stim</td>\n",
       "      <td>3</td>\n",
       "      <td>NaN</td>\n",
       "      <td>11.0</td>\n",
       "      <td>0.5</td>\n",
       "      <td>0.2</td>\n",
       "      <td>5.596855</td>\n",
       "      <td>0.349279</td>\n",
       "      <td>1.498167</td>\n",
       "      <td>5.946135</td>\n",
       "    </tr>\n",
       "    <tr>\n",
       "      <th>4</th>\n",
       "      <td>1</td>\n",
       "      <td>1.498167</td>\n",
       "      <td>stim</td>\n",
       "      <td>0</td>\n",
       "      <td>NaN</td>\n",
       "      <td>23.0</td>\n",
       "      <td>0.5</td>\n",
       "      <td>0.0</td>\n",
       "      <td>5.946135</td>\n",
       "      <td>0.401362</td>\n",
       "      <td>1.899530</td>\n",
       "      <td>6.347497</td>\n",
       "    </tr>\n",
       "  </tbody>\n",
       "</table>\n",
       "</div>"
      ],
      "text/plain": [
       "   trial_nr     onset event_type  phase response  nr_frames  color_balance  \\\n",
       "0         0  0.031631       stim      0      NaN       21.0            0.5   \n",
       "1         0  0.414952       stim      1      NaN       11.0            0.5   \n",
       "2         0  0.781713       stim      2      NaN       21.0            0.5   \n",
       "3         0  1.148888       stim      3      NaN       11.0            0.5   \n",
       "4         1  1.498167       stim      0      NaN       23.0            0.5   \n",
       "\n",
       "   fix_intensity  onset_abs  duration       end   end_abs  \n",
       "0            0.2   4.479599  0.383321  0.414952  4.862920  \n",
       "1            0.2   4.862920  0.366761  0.781713  5.229681  \n",
       "2            0.2   5.229681  0.367175  1.148888  5.596855  \n",
       "3            0.2   5.596855  0.349279  1.498167  5.946135  \n",
       "4            0.0   5.946135  0.401362  1.899530  6.347497  "
      ]
     },
     "execution_count": 5,
     "metadata": {},
     "output_type": "execute_result"
    }
   ],
   "source": [
    "df.head()"
   ]
  },
  {
   "cell_type": "code",
   "execution_count": null,
   "metadata": {},
   "outputs": [],
   "source": []
  }
 ],
 "metadata": {
  "kernelspec": {
   "display_name": "Python 3",
   "language": "python",
   "name": "python3"
  },
  "language_info": {
   "codemirror_mode": {
    "name": "ipython",
    "version": 3
   },
   "file_extension": ".py",
   "mimetype": "text/x-python",
   "name": "python",
   "nbconvert_exporter": "python",
   "pygments_lexer": "ipython3",
   "version": "3.7.0"
  }
 },
 "nbformat": 4,
 "nbformat_minor": 2
}
