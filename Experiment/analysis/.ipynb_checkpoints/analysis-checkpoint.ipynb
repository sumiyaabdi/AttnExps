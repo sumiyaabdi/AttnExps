{
 "cells": [
  {
   "cell_type": "code",
   "execution_count": 1,
   "metadata": {},
   "outputs": [
    {
     "data": {
      "text/plain": [
       "'/Users/sumiyaabdirashid/Desktop/PhD/code/git/PRF_Experiment_Checkers/Experiment'"
      ]
     },
     "execution_count": 1,
     "metadata": {},
     "output_type": "execute_result"
    }
   ],
   "source": [
    "import pandas as pd\n",
    "from pandas.core.common import SettingWithCopyWarning\n",
    "import warnings\n",
    "warnings.simplefilter(action='ignore', category=SettingWithCopyWarning)\n",
    "import numpy as np\n",
    "import os\n",
    "import glob\n",
    "import matplotlib.pyplot as plt\n",
    "from scipy.optimize import curve_fit\n",
    "from analysis_utils import *\n",
    "from scipy.stats import norm\n",
    "import bayesfit as bf\n",
    "\n",
    "os.chdir('../')\n",
    "os.getcwd()"
   ]
  },
  {
   "cell_type": "markdown",
   "metadata": {},
   "source": [
    "Load data into Pandas dataframe. To be implemented: run some tests to ensure data quality\n",
    "\n",
    "- does run exist? \n",
    "- does run contain responses?\n",
    "- does run log color_balance and fix_intensity values correctly?"
   ]
  },
  {
   "cell_type": "markdown",
   "metadata": {},
   "source": [
    "# Analysis of 2AFC Attn Task"
   ]
  },
  {
   "cell_type": "markdown",
   "metadata": {},
   "source": [
    "In psychophysics task participants respond to each trial indicating whether the stimulus presented is more dark or more light.\n",
    "\n",
    "### Scoring convention\n",
    "\n",
    "**LARGE AF:** Response Left (color_balance < 0.5) = Dark; Response Right (color_balance > 0.5) = Light.\n",
    "\n",
    "**SMALL AF:** Response Left (fix color < 0) = Dark; Response Right (fix color > 0) = Light"
   ]
  },
  {
   "cell_type": "code",
   "execution_count": 22,
   "metadata": {},
   "outputs": [
    {
     "data": {
      "text/plain": [
       "['/Users/sumiyaabdirashid/Desktop/PhD/code/git/PRF_Experiment_Checkers/Experiment/logs/psychophys/sub-003_0_psyc_1_l_Logs/sub-003_0_psyc_1_l_events.tsv',\n",
       " '/Users/sumiyaabdirashid/Desktop/PhD/code/git/PRF_Experiment_Checkers/Experiment/logs/psychophys/sub-003_0_psyc_1_s_Logs/sub-003_0_psyc_1_s_events.tsv']"
      ]
     },
     "execution_count": 22,
     "metadata": {},
     "output_type": "execute_result"
    }
   ],
   "source": [
    "f_names"
   ]
  },
  {
   "cell_type": "code",
   "execution_count": 61,
   "metadata": {},
   "outputs": [
    {
     "data": {
      "text/html": [
       "<div>\n",
       "<style scoped>\n",
       "    .dataframe tbody tr th:only-of-type {\n",
       "        vertical-align: middle;\n",
       "    }\n",
       "\n",
       "    .dataframe tbody tr th {\n",
       "        vertical-align: top;\n",
       "    }\n",
       "\n",
       "    .dataframe thead th {\n",
       "        text-align: right;\n",
       "    }\n",
       "</style>\n",
       "<table border=\"1\" class=\"dataframe\">\n",
       "  <thead>\n",
       "    <tr style=\"text-align: right;\">\n",
       "      <th></th>\n",
       "      <th>trial_nr</th>\n",
       "      <th>onset</th>\n",
       "      <th>event_type</th>\n",
       "      <th>phase</th>\n",
       "      <th>response</th>\n",
       "      <th>nr_frames</th>\n",
       "      <th>color_balance</th>\n",
       "      <th>fix_intensity</th>\n",
       "      <th>onset_abs</th>\n",
       "      <th>duration</th>\n",
       "      <th>end</th>\n",
       "      <th>end_abs</th>\n",
       "      <th>task</th>\n",
       "      <th>run</th>\n",
       "    </tr>\n",
       "  </thead>\n",
       "  <tbody>\n",
       "    <tr>\n",
       "      <th>1</th>\n",
       "      <td>0</td>\n",
       "      <td>1.047929</td>\n",
       "      <td>response</td>\n",
       "      <td>1</td>\n",
       "      <td>right</td>\n",
       "      <td>0.0</td>\n",
       "      <td>0.15</td>\n",
       "      <td>0.80</td>\n",
       "      <td>5.117956</td>\n",
       "      <td>0.0</td>\n",
       "      <td>1.047929</td>\n",
       "      <td>5.117956</td>\n",
       "      <td>s</td>\n",
       "      <td>1</td>\n",
       "    </tr>\n",
       "    <tr>\n",
       "      <th>3</th>\n",
       "      <td>1</td>\n",
       "      <td>2.314601</td>\n",
       "      <td>response</td>\n",
       "      <td>1</td>\n",
       "      <td>left</td>\n",
       "      <td>0.0</td>\n",
       "      <td>0.90</td>\n",
       "      <td>0.50</td>\n",
       "      <td>6.384628</td>\n",
       "      <td>0.0</td>\n",
       "      <td>2.314601</td>\n",
       "      <td>6.384628</td>\n",
       "      <td>s</td>\n",
       "      <td>1</td>\n",
       "    </tr>\n",
       "    <tr>\n",
       "      <th>5</th>\n",
       "      <td>2</td>\n",
       "      <td>3.489666</td>\n",
       "      <td>response</td>\n",
       "      <td>1</td>\n",
       "      <td>right</td>\n",
       "      <td>0.0</td>\n",
       "      <td>0.20</td>\n",
       "      <td>0.60</td>\n",
       "      <td>7.559693</td>\n",
       "      <td>0.0</td>\n",
       "      <td>3.489666</td>\n",
       "      <td>7.559693</td>\n",
       "      <td>s</td>\n",
       "      <td>1</td>\n",
       "    </tr>\n",
       "    <tr>\n",
       "      <th>7</th>\n",
       "      <td>3</td>\n",
       "      <td>4.320030</td>\n",
       "      <td>response</td>\n",
       "      <td>1</td>\n",
       "      <td>right</td>\n",
       "      <td>0.0</td>\n",
       "      <td>0.50</td>\n",
       "      <td>0.85</td>\n",
       "      <td>8.390057</td>\n",
       "      <td>0.0</td>\n",
       "      <td>4.320030</td>\n",
       "      <td>8.390057</td>\n",
       "      <td>s</td>\n",
       "      <td>1</td>\n",
       "    </tr>\n",
       "    <tr>\n",
       "      <th>9</th>\n",
       "      <td>4</td>\n",
       "      <td>5.264621</td>\n",
       "      <td>response</td>\n",
       "      <td>1</td>\n",
       "      <td>right</td>\n",
       "      <td>0.0</td>\n",
       "      <td>0.60</td>\n",
       "      <td>0.90</td>\n",
       "      <td>9.334648</td>\n",
       "      <td>0.0</td>\n",
       "      <td>5.264621</td>\n",
       "      <td>9.334648</td>\n",
       "      <td>s</td>\n",
       "      <td>1</td>\n",
       "    </tr>\n",
       "  </tbody>\n",
       "</table>\n",
       "</div>"
      ],
      "text/plain": [
       "   trial_nr     onset event_type  phase response  nr_frames  color_balance  \\\n",
       "1         0  1.047929   response      1    right        0.0           0.15   \n",
       "3         1  2.314601   response      1     left        0.0           0.90   \n",
       "5         2  3.489666   response      1    right        0.0           0.20   \n",
       "7         3  4.320030   response      1    right        0.0           0.50   \n",
       "9         4  5.264621   response      1    right        0.0           0.60   \n",
       "\n",
       "   fix_intensity  onset_abs  duration       end   end_abs task run  \n",
       "1           0.80   5.117956       0.0  1.047929  5.117956    s   1  \n",
       "3           0.50   6.384628       0.0  2.314601  6.384628    s   1  \n",
       "5           0.60   7.559693       0.0  3.489666  7.559693    s   1  \n",
       "7           0.85   8.390057       0.0  4.320030  8.390057    s   1  \n",
       "9           0.90   9.334648       0.0  5.264621  9.334648    s   1  "
      ]
     },
     "execution_count": 61,
     "metadata": {},
     "output_type": "execute_result"
    }
   ],
   "source": [
    "wd = os.getcwd()\n",
    "f_names = glob.glob(f\"{wd}/logs/psychophys/*/sub-002*.tsv\")\n",
    "all_logs = load_data(f_names)\n",
    "if 'large_prop' in all_logs.columns:\n",
    "    all_logs.rename(columns = {'large_prop':'color_balance','small_prop':'fix_intensity'}, inplace = True) \n",
    "all_logs[all_logs.event_type == 'response'].head()\n",
    "# all_logs.color_balance..value_counts()"
   ]
  },
  {
   "cell_type": "code",
   "execution_count": 62,
   "metadata": {},
   "outputs": [
    {
     "data": {
      "text/html": [
       "<div>\n",
       "<style scoped>\n",
       "    .dataframe tbody tr th:only-of-type {\n",
       "        vertical-align: middle;\n",
       "    }\n",
       "\n",
       "    .dataframe tbody tr th {\n",
       "        vertical-align: top;\n",
       "    }\n",
       "\n",
       "    .dataframe thead th {\n",
       "        text-align: right;\n",
       "    }\n",
       "</style>\n",
       "<table border=\"1\" class=\"dataframe\">\n",
       "  <thead>\n",
       "    <tr style=\"text-align: right;\">\n",
       "      <th></th>\n",
       "      <th>trial_nr</th>\n",
       "      <th>onset</th>\n",
       "      <th>event_type</th>\n",
       "      <th>phase</th>\n",
       "      <th>response</th>\n",
       "      <th>nr_frames</th>\n",
       "      <th>color_balance</th>\n",
       "      <th>fix_intensity</th>\n",
       "      <th>onset_abs</th>\n",
       "      <th>duration</th>\n",
       "      <th>end</th>\n",
       "      <th>end_abs</th>\n",
       "      <th>task</th>\n",
       "      <th>run</th>\n",
       "      <th>correct_s</th>\n",
       "      <th>correct_l</th>\n",
       "    </tr>\n",
       "  </thead>\n",
       "  <tbody>\n",
       "    <tr>\n",
       "      <th>891</th>\n",
       "      <td>220</td>\n",
       "      <td>239.712009</td>\n",
       "      <td>response</td>\n",
       "      <td>1</td>\n",
       "      <td>left</td>\n",
       "      <td>0.0</td>\n",
       "      <td>0.85</td>\n",
       "      <td>0.70</td>\n",
       "      <td>264.405322</td>\n",
       "      <td>0.0</td>\n",
       "      <td>239.712009</td>\n",
       "      <td>264.405322</td>\n",
       "      <td>l</td>\n",
       "      <td>2</td>\n",
       "      <td>0.0</td>\n",
       "      <td>0.0</td>\n",
       "    </tr>\n",
       "    <tr>\n",
       "      <th>893</th>\n",
       "      <td>221</td>\n",
       "      <td>241.159062</td>\n",
       "      <td>response</td>\n",
       "      <td>1</td>\n",
       "      <td>left</td>\n",
       "      <td>0.0</td>\n",
       "      <td>0.90</td>\n",
       "      <td>0.30</td>\n",
       "      <td>265.852376</td>\n",
       "      <td>0.0</td>\n",
       "      <td>241.159062</td>\n",
       "      <td>265.852376</td>\n",
       "      <td>l</td>\n",
       "      <td>2</td>\n",
       "      <td>1.0</td>\n",
       "      <td>0.0</td>\n",
       "    </tr>\n",
       "    <tr>\n",
       "      <th>895</th>\n",
       "      <td>222</td>\n",
       "      <td>242.417303</td>\n",
       "      <td>response</td>\n",
       "      <td>1</td>\n",
       "      <td>left</td>\n",
       "      <td>0.0</td>\n",
       "      <td>0.10</td>\n",
       "      <td>0.15</td>\n",
       "      <td>267.110616</td>\n",
       "      <td>0.0</td>\n",
       "      <td>242.417303</td>\n",
       "      <td>267.110616</td>\n",
       "      <td>l</td>\n",
       "      <td>2</td>\n",
       "      <td>1.0</td>\n",
       "      <td>1.0</td>\n",
       "    </tr>\n",
       "    <tr>\n",
       "      <th>897</th>\n",
       "      <td>223</td>\n",
       "      <td>243.442264</td>\n",
       "      <td>response</td>\n",
       "      <td>1</td>\n",
       "      <td>right</td>\n",
       "      <td>0.0</td>\n",
       "      <td>0.80</td>\n",
       "      <td>0.60</td>\n",
       "      <td>268.135577</td>\n",
       "      <td>0.0</td>\n",
       "      <td>243.442264</td>\n",
       "      <td>268.135577</td>\n",
       "      <td>l</td>\n",
       "      <td>2</td>\n",
       "      <td>1.0</td>\n",
       "      <td>1.0</td>\n",
       "    </tr>\n",
       "    <tr>\n",
       "      <th>899</th>\n",
       "      <td>224</td>\n",
       "      <td>243.928403</td>\n",
       "      <td>response</td>\n",
       "      <td>1</td>\n",
       "      <td>right</td>\n",
       "      <td>0.0</td>\n",
       "      <td>0.30</td>\n",
       "      <td>0.10</td>\n",
       "      <td>268.621716</td>\n",
       "      <td>0.0</td>\n",
       "      <td>243.928403</td>\n",
       "      <td>268.621716</td>\n",
       "      <td>l</td>\n",
       "      <td>2</td>\n",
       "      <td>0.0</td>\n",
       "      <td>0.0</td>\n",
       "    </tr>\n",
       "  </tbody>\n",
       "</table>\n",
       "</div>"
      ],
      "text/plain": [
       "     trial_nr       onset event_type  phase response  nr_frames  \\\n",
       "891       220  239.712009   response      1     left        0.0   \n",
       "893       221  241.159062   response      1     left        0.0   \n",
       "895       222  242.417303   response      1     left        0.0   \n",
       "897       223  243.442264   response      1    right        0.0   \n",
       "899       224  243.928403   response      1    right        0.0   \n",
       "\n",
       "     color_balance  fix_intensity   onset_abs  duration         end  \\\n",
       "891           0.85           0.70  264.405322       0.0  239.712009   \n",
       "893           0.90           0.30  265.852376       0.0  241.159062   \n",
       "895           0.10           0.15  267.110616       0.0  242.417303   \n",
       "897           0.80           0.60  268.135577       0.0  243.442264   \n",
       "899           0.30           0.10  268.621716       0.0  243.928403   \n",
       "\n",
       "        end_abs task run  correct_s  correct_l  \n",
       "891  264.405322    l   2        0.0        0.0  \n",
       "893  265.852376    l   2        1.0        0.0  \n",
       "895  267.110616    l   2        1.0        1.0  \n",
       "897  268.135577    l   2        1.0        1.0  \n",
       "899  268.621716    l   2        0.0        0.0  "
      ]
     },
     "execution_count": 62,
     "metadata": {},
     "output_type": "execute_result"
    }
   ],
   "source": [
    "df = all_logs[(all_logs.event_type == 'response')]\n",
    "# fixed = np.append(np.array(df.color_balance)[1:],[np.array(df.color_balance)[-1]])\n",
    "# df.color_balance = fixed\n",
    "df['correct_s'] = np.nan\n",
    "df['correct_l'] = np.nan\n",
    "\n",
    "# Color task\n",
    "true_left_l = df[(df.color_balance < 0.5) & (df.response == 'left')].index\n",
    "false_left_l = df[(df.color_balance > 0.5) & (df.response == 'left')].index\n",
    "\n",
    "true_right_l = df[(df.color_balance > 0.5) & (df.response == 'right')].index\n",
    "false_right_l = df[(df.color_balance < 0.5) & (df.response == 'right')].index\n",
    "\n",
    "true_left_s = df[(df.fix_intensity < 0.5) & (df.response == 'left')].index\n",
    "false_left_s = df[(df.fix_intensity > 0.5) & (df.response == 'left')].index\n",
    "\n",
    "true_right_s = df[(df.fix_intensity > 0.5) & (df.response == 'right')].index\n",
    "false_right_s = df[(df.fix_intensity < 0.5) & (df.response == 'right')].index\n",
    "\n",
    "df.loc[np.hstack((true_left_l,true_right_l)), 'correct_l'] = 1\n",
    "df.loc[np.hstack((false_left_l,false_right_l)), 'correct_l'] = 0\n",
    "\n",
    "df.loc[np.hstack((true_left_s,true_right_s)), 'correct_s'] = 1\n",
    "df.loc[np.hstack((false_left_s,false_right_s)), 'correct_s'] = 0\n",
    "\n",
    "# df = df.dropna() # drop where color balance = 0.5\n",
    "df.tail()\n",
    "\n",
    "# print(f'Total response \"right\": {sum(df.response == \"left\")} \\\n",
    "#     \\nTotal response \"left\": {sum(df.response == \"right\")} \\\n",
    "#     \\ntrue_left: {len(true_left)/sum(df.fix_intensity < 0)} \\\n",
    "#     \\ntrue_right: {len(true_right)/sum(df.fix_intensity > 0)} \\\n",
    "#     \\nfalse_left: {len(false_left)/sum(df.fix_intensity < 0)} \\\n",
    "#     \\nfalse_right: {len(false_right)/sum(df.fix_intensity > 0)}')"
   ]
  },
  {
   "cell_type": "markdown",
   "metadata": {},
   "source": [
    "Plot response light v.s. proportion light. Should increase together"
   ]
  },
  {
   "cell_type": "markdown",
   "metadata": {},
   "source": [
    "### Plot large AF"
   ]
  },
  {
   "cell_type": "code",
   "execution_count": 63,
   "metadata": {},
   "outputs": [
    {
     "name": "stdout",
     "output_type": "stream",
     "text": [
      "Diff: 0.1,      \tn_correct: 29     \tn_trials: 29     \t% correct 100.0\n",
      "Diff: 0.15,      \tn_correct: 19     \tn_trials: 23     \t% correct 82.6\n",
      "Diff: 0.2,      \tn_correct: 17     \tn_trials: 17     \t% correct 100.0\n",
      "Diff: 0.3,      \tn_correct: 15     \tn_trials: 18     \t% correct 83.3\n",
      "Diff: 0.4,      \tn_correct: 15     \tn_trials: 21     \t% correct 71.4\n",
      "Diff: 0.6,      \tn_correct: 16     \tn_trials: 19     \t% correct 84.2\n",
      "Diff: 0.7,      \tn_correct: 20     \tn_trials: 23     \t% correct 87.0\n",
      "Diff: 0.8,      \tn_correct: 16     \tn_trials: 16     \t% correct 100.0\n",
      "Diff: 0.85,      \tn_correct: 11     \tn_trials: 12     \t% correct 91.7\n",
      "Diff: 0.9,      \tn_correct: 21     \tn_trials: 24     \t% correct 87.5\n"
     ]
    },
    {
     "data": {
      "text/plain": [
       "<matplotlib.collections.PathCollection at 0x12ed05400>"
      ]
     },
     "execution_count": 63,
     "metadata": {},
     "output_type": "execute_result"
    },
    {
     "data": {
      "image/png": "[encoded data removed]",
      "text/plain": [
       "<Figure size 576x432 with 1 Axes>"
      ]
     },
     "metadata": {
      "needs_background": "light"
     },
     "output_type": "display_data"
    }
   ],
   "source": [
    "df_l = df[(df.run == '2')]\n",
    "df_l =  df_l.dropna(subset=['correct_l']) # drop where color balance = 0.5\n",
    "difficulties_l = sorted(df_l.color_balance.unique())\n",
    "n_correct_l = []\n",
    "n_trials_l = []\n",
    "resp_light_l = []\n",
    "\n",
    "for diff in difficulties_l:\n",
    "    print(f'Diff: {diff}  \\\n",
    "    \\tn_correct: {len(df_l[(df_l.color_balance == diff) & (df_l.correct_l == 1)])} \\\n",
    "    \\tn_trials: {len(df_l[df_l.color_balance == diff])} \\\n",
    "    \\t% correct {100*len(df_l[(df_l.color_balance == diff) & (df_l.correct_l == 1)])/len(df_l[df_l.color_balance == diff]):.1f}')\n",
    "    n_correct_l.append(len(df_l[(df_l.color_balance == diff) & (df_l.correct_l == 1)]))\n",
    "    n_trials_l.append(len(df_l[df_l.color_balance == diff]))\n",
    "#     print(f'% Light: {diff}, \\t% Response Light {round(len(df[(df.color_balance == diff) & (df.response == \"right\")]) / len(df[df.color_balance == diff]) *100,1)}')\n",
    "    resp_light_l.append(len(df_l[(df_l.color_balance == diff) & (df_l.response == \"right\")]) / len(df_l[df_l.color_balance == diff]))\n",
    "\n",
    "proportions_l = np.array(n_correct_l) / np.array(n_trials_l)\n",
    "\n",
    "largeAFx, largeAFy = abs(np.array(difficulties_l)-0.5), proportions_l\n",
    "          \n",
    "fig, axs = plt.subplots(1,1, figsize=(8,6))\n",
    "\n",
    "axs.set_title('% LargeAF Performance')\n",
    "axs.set_ylabel('Response left')\n",
    "axs.set_ylim(0,1)\n",
    "axs.set_xlabel('% Light')\n",
    "axs.scatter(difficulties_l,resp_light_l)"
   ]
  },
  {
   "cell_type": "markdown",
   "metadata": {},
   "source": [
    "### Plot small AF"
   ]
  },
  {
   "cell_type": "code",
   "execution_count": 70,
   "metadata": {},
   "outputs": [
    {
     "data": {
      "text/html": [
       "<div>\n",
       "<style scoped>\n",
       "    .dataframe tbody tr th:only-of-type {\n",
       "        vertical-align: middle;\n",
       "    }\n",
       "\n",
       "    .dataframe tbody tr th {\n",
       "        vertical-align: top;\n",
       "    }\n",
       "\n",
       "    .dataframe thead th {\n",
       "        text-align: right;\n",
       "    }\n",
       "</style>\n",
       "<table border=\"1\" class=\"dataframe\">\n",
       "  <thead>\n",
       "    <tr style=\"text-align: right;\">\n",
       "      <th></th>\n",
       "      <th>diff</th>\n",
       "      <th>n_trials</th>\n",
       "      <th>resp_light</th>\n",
       "      <th>n_correct</th>\n",
       "      <th>percent_correct</th>\n",
       "    </tr>\n",
       "  </thead>\n",
       "  <tbody>\n",
       "    <tr>\n",
       "      <th>0</th>\n",
       "      <td>0.10</td>\n",
       "      <td>26.0</td>\n",
       "      <td>0.038462</td>\n",
       "      <td>25.0</td>\n",
       "      <td>96.153846</td>\n",
       "    </tr>\n",
       "    <tr>\n",
       "      <th>1</th>\n",
       "      <td>0.15</td>\n",
       "      <td>21.0</td>\n",
       "      <td>0.095238</td>\n",
       "      <td>19.0</td>\n",
       "      <td>90.476190</td>\n",
       "    </tr>\n",
       "    <tr>\n",
       "      <th>2</th>\n",
       "      <td>0.20</td>\n",
       "      <td>16.0</td>\n",
       "      <td>0.062500</td>\n",
       "      <td>15.0</td>\n",
       "      <td>93.750000</td>\n",
       "    </tr>\n",
       "    <tr>\n",
       "      <th>3</th>\n",
       "      <td>0.30</td>\n",
       "      <td>21.0</td>\n",
       "      <td>0.285714</td>\n",
       "      <td>15.0</td>\n",
       "      <td>71.428571</td>\n",
       "    </tr>\n",
       "    <tr>\n",
       "      <th>4</th>\n",
       "      <td>0.40</td>\n",
       "      <td>25.0</td>\n",
       "      <td>0.440000</td>\n",
       "      <td>14.0</td>\n",
       "      <td>56.000000</td>\n",
       "    </tr>\n",
       "    <tr>\n",
       "      <th>5</th>\n",
       "      <td>0.60</td>\n",
       "      <td>18.0</td>\n",
       "      <td>0.777778</td>\n",
       "      <td>14.0</td>\n",
       "      <td>77.777778</td>\n",
       "    </tr>\n",
       "    <tr>\n",
       "      <th>6</th>\n",
       "      <td>0.70</td>\n",
       "      <td>18.0</td>\n",
       "      <td>0.722222</td>\n",
       "      <td>13.0</td>\n",
       "      <td>72.222222</td>\n",
       "    </tr>\n",
       "    <tr>\n",
       "      <th>7</th>\n",
       "      <td>0.80</td>\n",
       "      <td>17.0</td>\n",
       "      <td>0.882353</td>\n",
       "      <td>15.0</td>\n",
       "      <td>88.235294</td>\n",
       "    </tr>\n",
       "    <tr>\n",
       "      <th>8</th>\n",
       "      <td>0.85</td>\n",
       "      <td>20.0</td>\n",
       "      <td>0.950000</td>\n",
       "      <td>19.0</td>\n",
       "      <td>95.000000</td>\n",
       "    </tr>\n",
       "    <tr>\n",
       "      <th>9</th>\n",
       "      <td>0.90</td>\n",
       "      <td>17.0</td>\n",
       "      <td>0.882353</td>\n",
       "      <td>15.0</td>\n",
       "      <td>88.235294</td>\n",
       "    </tr>\n",
       "  </tbody>\n",
       "</table>\n",
       "</div>"
      ],
      "text/plain": [
       "   diff  n_trials  resp_light  n_correct  percent_correct\n",
       "0  0.10      26.0    0.038462       25.0        96.153846\n",
       "1  0.15      21.0    0.095238       19.0        90.476190\n",
       "2  0.20      16.0    0.062500       15.0        93.750000\n",
       "3  0.30      21.0    0.285714       15.0        71.428571\n",
       "4  0.40      25.0    0.440000       14.0        56.000000\n",
       "5  0.60      18.0    0.777778       14.0        77.777778\n",
       "6  0.70      18.0    0.722222       13.0        72.222222\n",
       "7  0.80      17.0    0.882353       15.0        88.235294\n",
       "8  0.85      20.0    0.950000       19.0        95.000000\n",
       "9  0.90      17.0    0.882353       15.0        88.235294"
      ]
     },
     "execution_count": 70,
     "metadata": {},
     "output_type": "execute_result"
    },
    {
     "data": {
      "image/png": "[encoded data removed]",
      "text/plain": [
       "<Figure size 576x432 with 1 Axes>"
      ]
     },
     "metadata": {
      "needs_background": "light"
     },
     "output_type": "display_data"
    }
   ],
   "source": [
    "df_s = df[(df.run == '1')]\n",
    "df_s =  df_s.dropna(subset=['correct_s']) # drop where fix color = 0\n",
    "difficulties_s = sorted(df_s.fix_intensity.unique())\n",
    "summary = pd.DataFrame([])\n",
    "n_correct_s = []\n",
    "n_trials_s = []\n",
    "resp_light_s = []\n",
    "\n",
    "for idx, diff in enumerate(difficulties_s):\n",
    "    \n",
    "    summary.loc[idx,'diff'] = diff\n",
    "    summary.loc[idx,'n_trials'] = len(df_s[df_s.fix_intensity == diff])\n",
    "    summary.loc[idx,'resp_light'] = len(df_s[(df_s.fix_intensity == diff) & (df_s.response == \"right\")]) / len(df_s[df_s.fix_intensity == diff])\n",
    "    summary.loc[idx,'n_correct'] = len(df_s[(df_s.fix_intensity == diff) & (df_s.correct_s == 1)])\n",
    "    summary.loc[idx,'percent_correct'] = 100*len(df_s[(df_s.fix_intensity == diff) & (df_s.correct_s == 1)])/len(df_s[df_s.fix_intensity == diff])\n",
    "    summary.head()\n",
    "\n",
    "    n_correct_s.append(len(df_s[(df_s.fix_intensity == diff) & (df_s.correct_s == 1)])) \n",
    "    n_trials_s.append(len(df_s[df_s.fix_intensity == diff]))\n",
    "#     print(f'% Light: {diff}, \\t% Response Light {round(len(df[(df.fix_intensity == diff) & (df.response == \"right\")]) / len(df[df.fix_intensity == diff]) *100,1)}')\n",
    "    resp_light_s.append(len(df_s[(df_s.fix_intensity == diff) & (df_s.response == \"right\")]) / len(df_s[df_s.fix_intensity == diff]))\n",
    "\n",
    "proportions_s = np.array(n_correct_s) / np.array(n_trials_s)\n",
    "\n",
    "smallAFx, smallAFy = abs(np.array(difficulties_s)), proportions_s\n",
    "\n",
    "summary_df.head()\n",
    "\n",
    "fig, axs = plt.subplots(1,1, figsize=(8,6))\n",
    "\n",
    "axs.set_title('% SmallAF Performance')\n",
    "axs.set_ylim(0,1)\n",
    "axs.set_ylabel('Response Left')\n",
    "axs.set_xlabel('% Light')\n",
    "axs.scatter(difficulties_s,resp_light_s)\n",
    "\n",
    "summary"
   ]
  },
  {
   "cell_type": "markdown",
   "metadata": {},
   "source": [
    "## Plot difficulty v.s. proportion correct"
   ]
  },
  {
   "cell_type": "code",
   "execution_count": null,
   "metadata": {},
   "outputs": [],
   "source": [
    "fig, axs = plt.subplots(1,2, figsize=(12,4))\n",
    "\n",
    "axs[0].set_title('SmallAF')\n",
    "axs[0].set_ylabel('Proportion Correct')\n",
    "axs[0].set_ylim(0,1)\n",
    "axs[0].set_xlabel('% Light')\n",
    "axs[0].scatter(smallAFx, smallAFy)\n",
    "\n",
    "axs[1].set_title('LargeAF')\n",
    "axs[1].set_ylabel('Proportion Correct')\n",
    "axs[1].set_ylim(0,1)\n",
    "axs[1].set_xlabel('Distance from 50%')\n",
    "axs[1].scatter(largeAFx, largeAFy)"
   ]
  },
  {
   "cell_type": "markdown",
   "metadata": {},
   "source": [
    "# Fitting a sigmoid function to data"
   ]
  },
  {
   "cell_type": "code",
   "execution_count": null,
   "metadata": {},
   "outputs": [],
   "source": [
    "nr = np.random.weibull(10,int(1e4))\n",
    "plt.figure\n",
    "plt.hist(nr,density=True,bins=50)\n",
    "plt.show\n",
    "\n",
    "p(x) = \\frac{a} {\\lambda}(\\frac{x}{\\lambda})^{a-1}e^{-(x/\\lambda)^a},"
   ]
  },
  {
   "cell_type": "code",
   "execution_count": null,
   "metadata": {},
   "outputs": [],
   "source": [
    "#use weibull instead????\n",
    "\n",
    "# def F(a,b):\n",
    "#     1- np.exp()\n",
    "\n",
    "# def weibull(g,l,a,b):\n",
    "#     y = g +(1-g -l)*F(a,b)\n",
    "#     return y\n",
    "\n",
    "def sigmoid(x, x0, k, L):\n",
    "    y = L / (1 + np.exp(-k*(x-x0)))\n",
    "    return y\n",
    "\n",
    "def inv_sigmoid(y,x0,k):\n",
    "    return x0 - (np.log((1/y)-1)/k)\n",
    "\n",
    "## SMALL AF ##\n",
    "xdata = difficulties_s\n",
    "ydata = resp_light_s\n",
    "\n",
    "popt, pcov = curve_fit(sigmoid, xdata, ydata)\n",
    "print(f'20%: {inv_sigmoid(.2,*popt):.2f} \\\n",
    "      \\n80%: {inv_sigmoid(.8,*popt):.2f}')\n",
    "\n",
    "x = np.linspace(0, 1, 20)\n",
    "y = sigmoid(x, *popt)\n",
    "\n",
    "plt.plot(xdata, ydata, 'o', label='data')\n",
    "plt.title('Small AF')\n",
    "plt.plot(x,y, label='fit')\n",
    "plt.ylim(0, 1)\n",
    "plt.ylabel('Response Light')\n",
    "plt.xlabel('% Light')\n",
    "plt.legend(loc='best')\n",
    "plt.show()\n",
    "\n",
    "## LARGE AF ##\n",
    "xdata = difficulties_l\n",
    "ydata = resp_light_l\n",
    "\n",
    "popt, pcov = curve_fit(sigmoid, xdata, ydata)\n",
    "print(f'20%: {inv_sigmoid(.2,*popt):.2f} \\\n",
    "      \\n80%: {inv_sigmoid(.8,*popt):.2f}')\n",
    "\n",
    "x = np.linspace(0, 1, 20)\n",
    "y = sigmoid(x, *popt)\n",
    "\n",
    "plt.plot(xdata, ydata, 'o', label='data')\n",
    "plt.title('Large AF')\n",
    "plt.plot(x,y, label='fit')\n",
    "plt.ylim(0, 1)\n",
    "plt.ylabel('Response Light')\n",
    "plt.xlabel('% Light')\n",
    "plt.legend(loc='best')\n",
    "plt.show()"
   ]
  },
  {
   "cell_type": "markdown",
   "metadata": {},
   "source": [
    "# Testing BayesFit\n",
    "\n",
    "Organize data into `[M X 3 ndarray]` where n is the number of stimulus intensities and the columns are: `[stimulus intensity, N trials correct, and N trials total]`."
   ]
  },
  {
   "cell_type": "code",
   "execution_count": null,
   "metadata": {},
   "outputs": [],
   "source": [
    "data_s = np.vstack((difficulties_s,n_correct_s, n_trials_s)).T\n",
    "\n",
    "# metrics, options = bf.fitmodel(data_s, nafc = 2)"
   ]
  },
  {
   "cell_type": "markdown",
   "metadata": {},
   "source": [
    "# Analysis of Attn PRF Detection Task"
   ]
  },
  {
   "cell_type": "code",
   "execution_count": null,
   "metadata": {},
   "outputs": [],
   "source": [
    "wd = os.getcwd()\n",
    "f_names = glob.glob(f\"{wd}/logs/*/sub-002*.tsv\")\n",
    "all_logs = load_data(f_names)\n",
    "if 'large_prop' in all_logs.columns:\n",
    "    all_logs.rename(columns = {'large_prop':'color_balance','small_prop':'fix_intensity'}, inplace = True) \n",
    "all_logs.head()"
   ]
  },
  {
   "cell_type": "markdown",
   "metadata": {},
   "source": [
    "Calculate correct and incorrect responses. Use this to get hits (true positives), misses (false negatives), false alarms (false positives) and correct rejections (true negatives). Once we have these values we can calculate d' and the criterion (c). \n",
    "\n",
    "### Summary per run"
   ]
  },
  {
   "cell_type": "code",
   "execution_count": null,
   "metadata": {},
   "outputs": [],
   "source": [
    "psyc, d_primes, large_cor, small_cor = analyse_logs(all_logs)\n",
    "psyc"
   ]
  },
  {
   "cell_type": "markdown",
   "metadata": {},
   "source": [
    "We can also calculate d' per difficulty level and plot this to see if two task difficulties are comparable. Unfortunately d' can go to infinity so many points are missing from the performance curves... and we're unsure if they're sigmoidal."
   ]
  },
  {
   "cell_type": "code",
   "execution_count": null,
   "metadata": {},
   "outputs": [],
   "source": [
    "Z = norm.ppf\n",
    "d_primes['d_prime']= Z(d_primes['hit_rate'])- Z(d_primes['fa_rate'])\n",
    "d_primes['criterion'] = -(Z(d_primes['hit_rate']) + Z(d_primes['fa_rate'])) / 2\n",
    "d_primes.head()"
   ]
  },
  {
   "cell_type": "code",
   "execution_count": null,
   "metadata": {},
   "outputs": [],
   "source": [
    "large_AF = d_primes[d_primes['run'].astype(int) % 2 == 1]\n",
    "small_AF = d_primes[d_primes['run'].astype(int) % 2 == 0]"
   ]
  },
  {
   "cell_type": "code",
   "execution_count": null,
   "metadata": {},
   "outputs": [],
   "source": [
    "fig, (ax1,ax2) = plt.subplots(1, 2, figsize=(12,4))\n",
    "\n",
    "ax1.set_title('SmallAF')\n",
    "ax1.scatter(abs(small_AF['difficulty']),small_AF['d_prime'])\n",
    "ax1.set_ylabel('Dprime')\n",
    "\n",
    "ax2.set_title('LargeAF')\n",
    "ax2.scatter(abs(large_AF['difficulty']-0.5),large_AF['d_prime'],color='orange')\n",
    "ax2.set_ylabel('Dprime')"
   ]
  },
  {
   "cell_type": "markdown",
   "metadata": {},
   "source": [
    "We can also use proportion correct to create psychometric curves - although these are not traditional sigmoidal psychometric curves which are designed for 2 alternative forced-choice (2AFC) task. "
   ]
  },
  {
   "cell_type": "code",
   "execution_count": null,
   "metadata": {},
   "outputs": [],
   "source": [
    "largex, largey = (np.array([i[0] for i in large_cor]), \n",
    "                  np.array([i[1] for i in large_cor]))\n",
    "smallx,smally = (np.array([i[0] for i in small_cor]), \n",
    "                np.array([i[1] for i in small_cor]))"
   ]
  },
  {
   "cell_type": "code",
   "execution_count": null,
   "metadata": {},
   "outputs": [],
   "source": [
    "fig, ((ax1,ax2),(ax3,ax4)) = plt.subplots(2, 2, figsize=(12,8))\n",
    "\n",
    "ax1.set_title('LargeAF_Sigmoid')\n",
    "ax1.scatter([abs(i[0]-0.5) for i in large_cor], [i[1] for i in large_cor])\n",
    "ax1.set_ylabel('Proportion Correct')\n",
    "\n",
    "ax2.set_title('LargeAF_Gauss')\n",
    "ax2.scatter([i[0] for i in large_cor], [i[1] for i in large_cor])\n",
    "ax2.set_ylabel('Proportion Correct')\n",
    "\n",
    "ax3.set_title('SmallAF_Sigmoid')\n",
    "ax3.set_ylim(0,1)\n",
    "ax3.scatter([abs(i[0]-0) for i in small_cor], [i[1] for i in small_cor], color='orange')\n",
    "\n",
    "ax4.set_title('SmallAF_Gauss')\n",
    "ax4.set_ylim(0,1)\n",
    "ax4.scatter([i[0] for i in small_cor], [i[1] for i in small_cor], color='orange')"
   ]
  },
  {
   "cell_type": "markdown",
   "metadata": {},
   "source": [
    "# Modeling psychometric curve"
   ]
  },
  {
   "cell_type": "code",
   "execution_count": null,
   "metadata": {},
   "outputs": [],
   "source": [
    "def psyc_stim_list(stim_range, n_stim, baseline):\n",
    "    \" Creates stim list for psychophysics task\"\n",
    "    stim_list = stim_range*int(n_stim/len(stim_range))\n",
    "    [stim_list.append(i) for i in [baseline]*(n_stim-len(stim_list))]\n",
    "    np.random.shuffle(stim_list)\n",
    "    return stim_list\n",
    "\n",
    "range = [0.1, 0.15, 0.2, 0.3, 0.4 ,0.5, 0.6, 0.7, 0.8, 0.85,0.9]\n",
    "n = 225\n",
    "\n",
    "\n",
    "stim = psyc_stim_list(range,n, 0.5)\n",
    "\n",
    "for v in set(stim):\n",
    "    c=0\n",
    "    print(f'{v}: {sum([c +1 if v == stim[i] else c for i,j in enumerate(stim)])}')"
   ]
  },
  {
   "cell_type": "code",
   "execution_count": null,
   "metadata": {},
   "outputs": [],
   "source": [
    "def model_pr():\n",
    "    '''\n",
    "    return array of probabilities corresponding to GAUSSIAN cdf\n",
    "    stimuli is range of color_balances / fix intensities\n",
    "    loc\n",
    "    sd / scale\n",
    "    '''\n",
    "    \n",
    "    stim_x = np.arange(0,0.6,0.05)\n",
    "    mu = 0.3\n",
    "    sd = 0.1\n",
    "    \n",
    "    model_pr = norm.cdf(stim_x, mu,sd)\n",
    "    \n",
    "    return stim_x, model_pr"
   ]
  },
  {
   "cell_type": "code",
   "execution_count": null,
   "metadata": {},
   "outputs": [],
   "source": [
    "x,pr = model_pr()\n",
    "plt.plot(x, pr, color='k', marker='x', lw=2, ls='--')\n",
    "plt.xlim(0,0.6)\n",
    "plt.ylim(0,1)\n",
    "plt.show()"
   ]
  }
 ],
 "metadata": {
  "kernelspec": {
   "display_name": "Python 3",
   "language": "python",
   "name": "python3"
  },
  "language_info": {
   "codemirror_mode": {
    "name": "ipython",
    "version": 3
   },
   "file_extension": ".py",
   "mimetype": "text/x-python",
   "name": "python",
   "nbconvert_exporter": "python",
   "pygments_lexer": "ipython3",
   "version": "3.7.0"
  }
 },
 "nbformat": 4,
 "nbformat_minor": 2
}
