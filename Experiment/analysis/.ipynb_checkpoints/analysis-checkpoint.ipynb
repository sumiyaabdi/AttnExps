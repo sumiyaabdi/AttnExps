{
 "cells": [
  {
   "cell_type": "code",
   "execution_count": 1,
   "metadata": {},
   "outputs": [
    {
     "data": {
      "text/plain": [
       "'/Users/sumiyaabdirashid/Desktop/PhD/code/git/PRF_Experiment_Checkers/Experiment'"
      ]
     },
     "execution_count": 1,
     "metadata": {},
     "output_type": "execute_result"
    }
   ],
   "source": [
    "import pandas as pd\n",
    "from pandas.core.common import SettingWithCopyWarning\n",
    "import warnings\n",
    "warnings.simplefilter(action='ignore', category=SettingWithCopyWarning)\n",
    "import numpy as np\n",
    "import os\n",
    "import glob\n",
    "import matplotlib.pyplot as plt\n",
    "from scipy.optimize import curve_fit\n",
    "from analysis_utils import *\n",
    "from scipy.stats import norm\n",
    "import bayesfit as bf\n",
    "\n",
    "os.chdir('../')\n",
    "os.getcwd()"
   ]
  },
  {
   "cell_type": "markdown",
   "metadata": {},
   "source": [
    "Load data into Pandas dataframe. To be implemented: run some tests to ensure data quality\n",
    "\n",
    "- does run exist? \n",
    "- does run contain responses?\n",
    "- does run log color_balance and fix_intensity values correctly?"
   ]
  },
  {
   "cell_type": "markdown",
   "metadata": {},
   "source": [
    "# Analysis of 2AFC Attn Task"
   ]
  },
  {
   "cell_type": "markdown",
   "metadata": {},
   "source": [
    "In psychophysics task participants respond to each trial indicating whether the stimulus presented is more dark or more light.\n",
    "\n",
    "### Scoring convention\n",
    "\n",
    "**LARGE AF:** Response Left (color_balance < 0.5) = Dark; Response Right (color_balance > 0.5) = Light.\n",
    "\n",
    "**SMALL AF:** Response Left (fix color < 0) = Dark; Response Right (fix color > 0) = Light"
   ]
  },
  {
   "cell_type": "code",
   "execution_count": 24,
   "metadata": {},
   "outputs": [
    {
     "data": {
      "text/plain": [
       "0.50    36\n",
       "0.60    32\n",
       "0.30    31\n",
       "0.10    29\n",
       "0.90    28\n",
       "0.15    28\n",
       "0.20    27\n",
       "0.40    26\n",
       "0.80    26\n",
       "0.70    24\n",
       "0.85    23\n",
       "Name: large_prop, dtype: int64"
      ]
     },
     "execution_count": 24,
     "metadata": {},
     "output_type": "execute_result"
    }
   ],
   "source": [
    "df = pd.read_table(f_names[0])\n",
    "df = df[df.event_type == 'response']\n",
    "\n",
    "df.large_prop.value_counts()"
   ]
  },
  {
   "cell_type": "code",
   "execution_count": 91,
   "metadata": {},
   "outputs": [
    {
     "data": {
      "text/plain": [
       "['/Users/sumiyaabdirashid/Desktop/PhD/code/git/PRF_Experiment_Checkers/Experiment/logs/psychophys/0_0_psyc_1_l_Logs20210318141541/0_0_psyc_1_l_events.tsv']"
      ]
     },
     "execution_count": 91,
     "metadata": {},
     "output_type": "execute_result"
    }
   ],
   "source": [
    "f_names"
   ]
  },
  {
   "cell_type": "code",
   "execution_count": 88,
   "metadata": {},
   "outputs": [
    {
     "data": {
      "text/html": [
       "<div>\n",
       "<style scoped>\n",
       "    .dataframe tbody tr th:only-of-type {\n",
       "        vertical-align: middle;\n",
       "    }\n",
       "\n",
       "    .dataframe tbody tr th {\n",
       "        vertical-align: top;\n",
       "    }\n",
       "\n",
       "    .dataframe thead th {\n",
       "        text-align: right;\n",
       "    }\n",
       "</style>\n",
       "<table border=\"1\" class=\"dataframe\">\n",
       "  <thead>\n",
       "    <tr style=\"text-align: right;\">\n",
       "      <th></th>\n",
       "      <th>trial_nr</th>\n",
       "      <th>onset</th>\n",
       "      <th>event_type</th>\n",
       "      <th>phase</th>\n",
       "      <th>response</th>\n",
       "      <th>nr_frames</th>\n",
       "      <th>color_balance</th>\n",
       "      <th>fix_intensity</th>\n",
       "      <th>onset_abs</th>\n",
       "      <th>duration</th>\n",
       "      <th>end</th>\n",
       "      <th>end_abs</th>\n",
       "      <th>task</th>\n",
       "      <th>run</th>\n",
       "    </tr>\n",
       "  </thead>\n",
       "  <tbody>\n",
       "    <tr>\n",
       "      <th>1</th>\n",
       "      <td>0</td>\n",
       "      <td>0.839087</td>\n",
       "      <td>response</td>\n",
       "      <td>1</td>\n",
       "      <td>right</td>\n",
       "      <td>0.0</td>\n",
       "      <td>0.15</td>\n",
       "      <td>0.2</td>\n",
       "      <td>10.718288</td>\n",
       "      <td>0.0</td>\n",
       "      <td>0.839087</td>\n",
       "      <td>10.718288</td>\n",
       "      <td>l</td>\n",
       "      <td>1</td>\n",
       "    </tr>\n",
       "    <tr>\n",
       "      <th>3</th>\n",
       "      <td>1</td>\n",
       "      <td>1.666010</td>\n",
       "      <td>response</td>\n",
       "      <td>1</td>\n",
       "      <td>right</td>\n",
       "      <td>0.0</td>\n",
       "      <td>0.10</td>\n",
       "      <td>0.7</td>\n",
       "      <td>11.545211</td>\n",
       "      <td>0.0</td>\n",
       "      <td>1.666010</td>\n",
       "      <td>11.545211</td>\n",
       "      <td>l</td>\n",
       "      <td>1</td>\n",
       "    </tr>\n",
       "    <tr>\n",
       "      <th>5</th>\n",
       "      <td>2</td>\n",
       "      <td>2.026276</td>\n",
       "      <td>response</td>\n",
       "      <td>0</td>\n",
       "      <td>right</td>\n",
       "      <td>0.0</td>\n",
       "      <td>0.15</td>\n",
       "      <td>0.3</td>\n",
       "      <td>11.905477</td>\n",
       "      <td>0.0</td>\n",
       "      <td>2.026276</td>\n",
       "      <td>11.905477</td>\n",
       "      <td>l</td>\n",
       "      <td>1</td>\n",
       "    </tr>\n",
       "    <tr>\n",
       "      <th>6</th>\n",
       "      <td>2</td>\n",
       "      <td>2.316327</td>\n",
       "      <td>response</td>\n",
       "      <td>1</td>\n",
       "      <td>right</td>\n",
       "      <td>0.0</td>\n",
       "      <td>0.15</td>\n",
       "      <td>0.3</td>\n",
       "      <td>12.195528</td>\n",
       "      <td>0.0</td>\n",
       "      <td>2.316327</td>\n",
       "      <td>12.195528</td>\n",
       "      <td>l</td>\n",
       "      <td>1</td>\n",
       "    </tr>\n",
       "    <tr>\n",
       "      <th>8</th>\n",
       "      <td>3</td>\n",
       "      <td>2.625761</td>\n",
       "      <td>response</td>\n",
       "      <td>0</td>\n",
       "      <td>right</td>\n",
       "      <td>0.0</td>\n",
       "      <td>0.20</td>\n",
       "      <td>0.6</td>\n",
       "      <td>12.504962</td>\n",
       "      <td>0.0</td>\n",
       "      <td>2.625761</td>\n",
       "      <td>12.504962</td>\n",
       "      <td>l</td>\n",
       "      <td>1</td>\n",
       "    </tr>\n",
       "  </tbody>\n",
       "</table>\n",
       "</div>"
      ],
      "text/plain": [
       "   trial_nr     onset event_type  phase response  nr_frames  color_balance  \\\n",
       "1         0  0.839087   response      1    right        0.0           0.15   \n",
       "3         1  1.666010   response      1    right        0.0           0.10   \n",
       "5         2  2.026276   response      0    right        0.0           0.15   \n",
       "6         2  2.316327   response      1    right        0.0           0.15   \n",
       "8         3  2.625761   response      0    right        0.0           0.20   \n",
       "\n",
       "   fix_intensity  onset_abs  duration       end    end_abs task run  \n",
       "1            0.2  10.718288       0.0  0.839087  10.718288    l   1  \n",
       "3            0.7  11.545211       0.0  1.666010  11.545211    l   1  \n",
       "5            0.3  11.905477       0.0  2.026276  11.905477    l   1  \n",
       "6            0.3  12.195528       0.0  2.316327  12.195528    l   1  \n",
       "8            0.6  12.504962       0.0  2.625761  12.504962    l   1  "
      ]
     },
     "execution_count": 88,
     "metadata": {},
     "output_type": "execute_result"
    }
   ],
   "source": [
    "wd = os.getcwd()\n",
    "f_names = glob.glob(f\"{wd}/logs/psychophys/*/0_*.tsv\")\n",
    "all_logs = load_data(f_names)\n",
    "if 'large_prop' in all_logs.columns:\n",
    "    all_logs.rename(columns = {'large_prop':'color_balance','small_prop':'fix_intensity'}, inplace = True) \n",
    "all_logs[all_logs.event_type == 'response'].head()"
   ]
  },
  {
   "cell_type": "code",
   "execution_count": 102,
   "metadata": {},
   "outputs": [
    {
     "data": {
      "text/plain": [
       "0.50    25\n",
       "0.85    20\n",
       "0.30    20\n",
       "0.60    20\n",
       "0.90    20\n",
       "0.15    20\n",
       "0.40    20\n",
       "0.80    20\n",
       "0.20    20\n",
       "0.10    20\n",
       "0.70    20\n",
       "Name: color_balance, dtype: int64"
      ]
     },
     "execution_count": 102,
     "metadata": {},
     "output_type": "execute_result"
    }
   ],
   "source": [
    "# df.color_balance.unique\n",
    "# df.drop_duplicates(subset='trial_nr', inplace=True)\n",
    "df.color_balance.value_counts()"
   ]
  },
  {
   "cell_type": "code",
   "execution_count": 94,
   "metadata": {},
   "outputs": [
    {
     "data": {
      "text/html": [
       "<div>\n",
       "<style scoped>\n",
       "    .dataframe tbody tr th:only-of-type {\n",
       "        vertical-align: middle;\n",
       "    }\n",
       "\n",
       "    .dataframe tbody tr th {\n",
       "        vertical-align: top;\n",
       "    }\n",
       "\n",
       "    .dataframe thead th {\n",
       "        text-align: right;\n",
       "    }\n",
       "</style>\n",
       "<table border=\"1\" class=\"dataframe\">\n",
       "  <thead>\n",
       "    <tr style=\"text-align: right;\">\n",
       "      <th></th>\n",
       "      <th>trial_nr</th>\n",
       "      <th>onset</th>\n",
       "      <th>event_type</th>\n",
       "      <th>phase</th>\n",
       "      <th>response</th>\n",
       "      <th>nr_frames</th>\n",
       "      <th>color_balance</th>\n",
       "      <th>fix_intensity</th>\n",
       "      <th>onset_abs</th>\n",
       "      <th>duration</th>\n",
       "      <th>end</th>\n",
       "      <th>end_abs</th>\n",
       "      <th>task</th>\n",
       "      <th>run</th>\n",
       "      <th>correct_s</th>\n",
       "      <th>correct_l</th>\n",
       "    </tr>\n",
       "  </thead>\n",
       "  <tbody>\n",
       "    <tr>\n",
       "      <th>650</th>\n",
       "      <td>222</td>\n",
       "      <td>107.607018</td>\n",
       "      <td>response</td>\n",
       "      <td>1</td>\n",
       "      <td>left</td>\n",
       "      <td>0.0</td>\n",
       "      <td>0.15</td>\n",
       "      <td>0.80</td>\n",
       "      <td>117.486220</td>\n",
       "      <td>0.0</td>\n",
       "      <td>107.607018</td>\n",
       "      <td>117.486220</td>\n",
       "      <td>l</td>\n",
       "      <td>1</td>\n",
       "      <td>0.0</td>\n",
       "      <td>1.0</td>\n",
       "    </tr>\n",
       "    <tr>\n",
       "      <th>652</th>\n",
       "      <td>223</td>\n",
       "      <td>107.774453</td>\n",
       "      <td>response</td>\n",
       "      <td>0</td>\n",
       "      <td>left</td>\n",
       "      <td>0.0</td>\n",
       "      <td>0.15</td>\n",
       "      <td>0.15</td>\n",
       "      <td>117.653655</td>\n",
       "      <td>0.0</td>\n",
       "      <td>107.774453</td>\n",
       "      <td>117.653655</td>\n",
       "      <td>l</td>\n",
       "      <td>1</td>\n",
       "      <td>1.0</td>\n",
       "      <td>1.0</td>\n",
       "    </tr>\n",
       "    <tr>\n",
       "      <th>653</th>\n",
       "      <td>223</td>\n",
       "      <td>108.156872</td>\n",
       "      <td>response</td>\n",
       "      <td>1</td>\n",
       "      <td>left</td>\n",
       "      <td>0.0</td>\n",
       "      <td>0.15</td>\n",
       "      <td>0.15</td>\n",
       "      <td>118.036074</td>\n",
       "      <td>0.0</td>\n",
       "      <td>108.156872</td>\n",
       "      <td>118.036074</td>\n",
       "      <td>l</td>\n",
       "      <td>1</td>\n",
       "      <td>1.0</td>\n",
       "      <td>1.0</td>\n",
       "    </tr>\n",
       "    <tr>\n",
       "      <th>655</th>\n",
       "      <td>224</td>\n",
       "      <td>108.390228</td>\n",
       "      <td>response</td>\n",
       "      <td>0</td>\n",
       "      <td>left</td>\n",
       "      <td>0.0</td>\n",
       "      <td>0.90</td>\n",
       "      <td>0.80</td>\n",
       "      <td>118.269430</td>\n",
       "      <td>0.0</td>\n",
       "      <td>108.390228</td>\n",
       "      <td>118.269430</td>\n",
       "      <td>l</td>\n",
       "      <td>1</td>\n",
       "      <td>0.0</td>\n",
       "      <td>0.0</td>\n",
       "    </tr>\n",
       "    <tr>\n",
       "      <th>656</th>\n",
       "      <td>224</td>\n",
       "      <td>108.597960</td>\n",
       "      <td>response</td>\n",
       "      <td>1</td>\n",
       "      <td>left</td>\n",
       "      <td>0.0</td>\n",
       "      <td>0.90</td>\n",
       "      <td>0.80</td>\n",
       "      <td>118.477161</td>\n",
       "      <td>0.0</td>\n",
       "      <td>108.597960</td>\n",
       "      <td>118.477161</td>\n",
       "      <td>l</td>\n",
       "      <td>1</td>\n",
       "      <td>0.0</td>\n",
       "      <td>0.0</td>\n",
       "    </tr>\n",
       "  </tbody>\n",
       "</table>\n",
       "</div>"
      ],
      "text/plain": [
       "     trial_nr       onset event_type  phase response  nr_frames  \\\n",
       "650       222  107.607018   response      1     left        0.0   \n",
       "652       223  107.774453   response      0     left        0.0   \n",
       "653       223  108.156872   response      1     left        0.0   \n",
       "655       224  108.390228   response      0     left        0.0   \n",
       "656       224  108.597960   response      1     left        0.0   \n",
       "\n",
       "     color_balance  fix_intensity   onset_abs  duration         end  \\\n",
       "650           0.15           0.80  117.486220       0.0  107.607018   \n",
       "652           0.15           0.15  117.653655       0.0  107.774453   \n",
       "653           0.15           0.15  118.036074       0.0  108.156872   \n",
       "655           0.90           0.80  118.269430       0.0  108.390228   \n",
       "656           0.90           0.80  118.477161       0.0  108.597960   \n",
       "\n",
       "        end_abs task run  correct_s  correct_l  \n",
       "650  117.486220    l   1        0.0        1.0  \n",
       "652  117.653655    l   1        1.0        1.0  \n",
       "653  118.036074    l   1        1.0        1.0  \n",
       "655  118.269430    l   1        0.0        0.0  \n",
       "656  118.477161    l   1        0.0        0.0  "
      ]
     },
     "execution_count": 94,
     "metadata": {},
     "output_type": "execute_result"
    }
   ],
   "source": [
    "df = all_logs[(all_logs.event_type == 'response')]\n",
    "# fixed = np.append(np.array(df.color_balance)[1:],[np.array(df.color_balance)[-1]])\n",
    "# df.color_balance = fixed\n",
    "df['correct_s'] = np.nan\n",
    "df['correct_l'] = np.nan\n",
    "\n",
    "# Color task\n",
    "true_left_l = df[(df.color_balance < 0.5) & (df.response == 'left')].index\n",
    "false_left_l = df[(df.color_balance > 0.5) & (df.response == 'left')].index\n",
    "\n",
    "true_right_l = df[(df.color_balance > 0.5) & (df.response == 'right')].index\n",
    "false_right_l = df[(df.color_balance < 0.5) & (df.response == 'right')].index\n",
    "\n",
    "true_left_s = df[(df.fix_intensity < 0.5) & (df.response == 'left')].index\n",
    "false_left_s = df[(df.fix_intensity > 0.5) & (df.response == 'left')].index\n",
    "\n",
    "true_right_s = df[(df.fix_intensity > 0.5) & (df.response == 'right')].index\n",
    "false_right_s = df[(df.fix_intensity < 0.5) & (df.response == 'right')].index\n",
    "\n",
    "df.loc[np.hstack((true_left_l,true_right_l)), 'correct_l'] = 1\n",
    "df.loc[np.hstack((false_left_l,false_right_l)), 'correct_l'] = 0\n",
    "\n",
    "df.loc[np.hstack((true_left_s,true_right_s)), 'correct_s'] = 1\n",
    "df.loc[np.hstack((false_left_s,false_right_s)), 'correct_s'] = 0\n",
    "\n",
    "# df = df.dropna() # drop where color balance = 0.5\n",
    "df.tail()\n",
    "\n",
    "# print(f'Total response \"right\": {sum(df.response == \"left\")} \\\n",
    "#     \\nTotal response \"left\": {sum(df.response == \"right\")} \\\n",
    "#     \\ntrue_left: {len(true_left)/sum(df.fix_intensity < 0)} \\\n",
    "#     \\ntrue_right: {len(true_right)/sum(df.fix_intensity > 0)} \\\n",
    "#     \\nfalse_left: {len(false_left)/sum(df.fix_intensity < 0)} \\\n",
    "#     \\nfalse_right: {len(false_right)/sum(df.fix_intensity > 0)}')"
   ]
  },
  {
   "cell_type": "markdown",
   "metadata": {},
   "source": [
    "Plot response light v.s. proportion light. Should increase together"
   ]
  },
  {
   "cell_type": "markdown",
   "metadata": {},
   "source": [
    "### Plot large AF"
   ]
  },
  {
   "cell_type": "code",
   "execution_count": 90,
   "metadata": {},
   "outputs": [
    {
     "name": "stdout",
     "output_type": "stream",
     "text": [
      "Diff: 0.1,      \tn_correct: 17     \tn_trials: 37     \t% correct 45.9\n",
      "Diff: 0.15,      \tn_correct: 8     \tn_trials: 39     \t% correct 20.5\n",
      "Diff: 0.2,      \tn_correct: 6     \tn_trials: 39     \t% correct 15.4\n",
      "Diff: 0.3,      \tn_correct: 16     \tn_trials: 38     \t% correct 42.1\n",
      "Diff: 0.4,      \tn_correct: 11     \tn_trials: 38     \t% correct 28.9\n",
      "Diff: 0.6,      \tn_correct: 33     \tn_trials: 39     \t% correct 84.6\n",
      "Diff: 0.7,      \tn_correct: 26     \tn_trials: 38     \t% correct 68.4\n",
      "Diff: 0.8,      \tn_correct: 30     \tn_trials: 39     \t% correct 76.9\n",
      "Diff: 0.85,      \tn_correct: 28     \tn_trials: 40     \t% correct 70.0\n",
      "Diff: 0.9,      \tn_correct: 29     \tn_trials: 38     \t% correct 76.3\n"
     ]
    },
    {
     "data": {
      "text/plain": [
       "<matplotlib.collections.PathCollection at 0x12b7cbf60>"
      ]
     },
     "execution_count": 90,
     "metadata": {},
     "output_type": "execute_result"
    },
    {
     "data": {
      "image/png": "[encoded data removed]",
      "text/plain": [
       "<Figure size 576x432 with 1 Axes>"
      ]
     },
     "metadata": {
      "needs_background": "light"
     },
     "output_type": "display_data"
    }
   ],
   "source": [
    "df_l = df[(df.run == '1')]\n",
    "df_l =  df_l.dropna(subset=['correct_l']) # drop where color balance = 0.5\n",
    "difficulties_l = sorted(df_l.color_balance.unique())\n",
    "n_correct_l = []\n",
    "n_trials_l = []\n",
    "resp_light_l = []\n",
    "\n",
    "for diff in difficulties_l:\n",
    "    print(f'Diff: {diff},  \\\n",
    "    \\tn_correct: {len(df_l[(df_l.color_balance == diff) & (df_l.correct_l == 1)])} \\\n",
    "    \\tn_trials: {len(df_l[df_l.color_balance == diff])} \\\n",
    "    \\t% correct {100*len(df_l[(df_l.color_balance == diff) & (df_l.correct_l == 1)])/len(df_l[df_l.color_balance == diff]):.1f}')\n",
    "    n_correct_l.append(len(df_l[(df_l.color_balance == diff) & (df_l.correct_l == 1)]))\n",
    "    n_trials_l.append(len(df_l[df_l.color_balance == diff]))\n",
    "#     print(f'% Light: {diff}, \\t% Response Light {round(len(df[(df.color_balance == diff) & (df.response == \"right\")]) / len(df[df.color_balance == diff]) *100,1)}')\n",
    "    resp_light_l.append(len(df_l[(df_l.color_balance == diff) & (df_l.response == \"right\")]) / len(df_l[df_l.color_balance == diff]))\n",
    "\n",
    "proportions_l = np.array(n_correct_l) / np.array(n_trials_l)\n",
    "\n",
    "largeAFx, largeAFy = abs(np.array(difficulties_l)-0.5), proportions_l\n",
    "          \n",
    "fig, axs = plt.subplots(1,1, figsize=(8,6))\n",
    "\n",
    "axs.set_title('% LargeAF Performance')\n",
    "axs.set_ylabel('Response left')\n",
    "axs.set_ylim(0,1)\n",
    "axs.set_xlabel('% Light')\n",
    "axs.scatter(difficulties_l,resp_light_l)"
   ]
  },
  {
   "cell_type": "markdown",
   "metadata": {},
   "source": [
    "### Plot small AF"
   ]
  },
  {
   "cell_type": "code",
   "execution_count": null,
   "metadata": {},
   "outputs": [],
   "source": [
    "df_s = df[(df.run == '1')]\n",
    "df_s =  df_s.dropna(subset=['correct_s']) # drop where fix color = 0\n",
    "difficulties_s = sorted(df_s.fix_intensity.unique())\n",
    "n_correct_s = []\n",
    "n_trials_s = []\n",
    "resp_light_s = []\n",
    "\n",
    "for diff in difficulties_s:\n",
    "    print(f'Diff: {diff} \\\n",
    "          \\tn_correct: {len(df_s[(df_s.fix_intensity == diff) & (df_s.correct_s == 1)])}  \\\n",
    "          \\tn_trials: {len(df_s[df_s.fix_intensity == diff])} \\\n",
    "          \\t% correct: {100*len(df_s[(df_s.fix_intensity == diff) & (df_s.correct_s == 1)])/len(df_s[df_s.fix_intensity == diff]):.1f}')\n",
    "    n_correct_s.append(len(df_s[(df_s.fix_intensity == diff) & (df_s.correct_s == 1)])) \n",
    "    n_trials_s.append(len(df_s[df_s.fix_intensity == diff]))\n",
    "#     print(f'% Light: {diff}, \\t% Response Light {round(len(df[(df.fix_intensity == diff) & (df.response == \"right\")]) / len(df[df.fix_intensity == diff]) *100,1)}')\n",
    "    resp_light_s.append(len(df_s[(df_s.fix_intensity == diff) & (df_s.response == \"right\")]) / len(df_s[df_s.fix_intensity == diff]))\n",
    "\n",
    "proportions_s = np.array(n_correct_s) / np.array(n_trials_s)\n",
    "\n",
    "smallAFx, smallAFy = abs(np.array(difficulties_s)), proportions_s\n",
    "          \n",
    "fig, axs = plt.subplots(1,1, figsize=(8,6))\n",
    "\n",
    "axs.set_title('% SmallAF Performance')\n",
    "axs.set_ylim(0,1)\n",
    "axs.set_ylabel('Response Left')\n",
    "axs.set_xlabel('% Light')\n",
    "axs.scatter(difficulties_s,resp_light_s)"
   ]
  },
  {
   "cell_type": "markdown",
   "metadata": {},
   "source": [
    "## Plot difficulty v.s. proportion correct"
   ]
  },
  {
   "cell_type": "code",
   "execution_count": null,
   "metadata": {},
   "outputs": [],
   "source": [
    "fig, axs = plt.subplots(1,2, figsize=(12,4))\n",
    "\n",
    "axs[0].set_title('SmallAF')\n",
    "axs[0].set_ylabel('Proportion Correct')\n",
    "axs[0].set_ylim(0,1)\n",
    "axs[0].set_xlabel('% Light')\n",
    "axs[0].scatter(smallAFx, smallAFy)\n",
    "\n",
    "axs[1].set_title('LargeAF')\n",
    "axs[1].set_ylabel('Proportion Correct')\n",
    "axs[1].set_ylim(0,1)\n",
    "axs[1].set_xlabel('Distance from 50%')\n",
    "axs[1].scatter(largeAFx, largeAFy)"
   ]
  },
  {
   "cell_type": "markdown",
   "metadata": {},
   "source": [
    "# Fitting a sigmoid function to data"
   ]
  },
  {
   "cell_type": "code",
   "execution_count": null,
   "metadata": {},
   "outputs": [],
   "source": [
    "#use weibull instead????\n",
    "\n",
    "def sigmoid(x, x0, k):\n",
    "    y = 1 / (1 + np.exp(-k*(x-x0)))\n",
    "    return y\n",
    "\n",
    "def inv_sigmoid(y,x0,k):\n",
    "    return x0 - (np.log((1/y)-1)/k)\n",
    "\n",
    "## SMALL AF ##\n",
    "xdata = difficulties_s\n",
    "ydata = resp_light_s\n",
    "\n",
    "popt, pcov = curve_fit(sigmoid, xdata, ydata)\n",
    "print(f'20%: {inv_sigmoid(.2,*popt):.2f} \\\n",
    "      \\n80%: {inv_sigmoid(.8,*popt):.2f}')\n",
    "\n",
    "x = np.linspace(0, 1, 20)\n",
    "y = sigmoid(x, *popt)\n",
    "\n",
    "plt.plot(xdata, ydata, 'o', label='data')\n",
    "plt.title('Small AF')\n",
    "plt.plot(x,y, label='fit')\n",
    "plt.ylim(0, 1)\n",
    "plt.ylabel('Response Light')\n",
    "plt.xlabel('% Light')\n",
    "plt.legend(loc='best')\n",
    "plt.show()\n",
    "\n",
    "## LARGE AF ##\n",
    "xdata = difficulties_l\n",
    "ydata = resp_light_l\n",
    "\n",
    "popt, pcov = curve_fit(sigmoid, xdata, ydata)\n",
    "print(f'20%: {inv_sigmoid(.2,*popt):.2f} \\\n",
    "      \\n80%: {inv_sigmoid(.8,*popt):.2f}')\n",
    "\n",
    "x = np.linspace(0, 1, 20)\n",
    "y = sigmoid(x, *popt)\n",
    "\n",
    "plt.plot(xdata, ydata, 'o', label='data')\n",
    "plt.title('Large AF')\n",
    "plt.plot(x,y, label='fit')\n",
    "plt.ylim(0, 1)\n",
    "plt.ylabel('Response Light')\n",
    "plt.xlabel('% Light')\n",
    "plt.legend(loc='best')\n",
    "plt.show()"
   ]
  },
  {
   "cell_type": "markdown",
   "metadata": {},
   "source": [
    "# Testing BayesFit\n",
    "\n",
    "Organize data into `[M X 3 ndarray]` where n is the number of stimulus intensities and the columns are: `[stimulus intensity, N trials correct, and N trials total]`."
   ]
  },
  {
   "cell_type": "code",
   "execution_count": null,
   "metadata": {},
   "outputs": [],
   "source": [
    "data_s = np.vstack((difficulties_s,n_correct_s, n_trials_s)).T\n",
    "\n",
    "# metrics, options = bf.fitmodel(data_s, nafc = 2)"
   ]
  },
  {
   "cell_type": "markdown",
   "metadata": {},
   "source": [
    "# Analysis of Attn PRF Detection Task"
   ]
  },
  {
   "cell_type": "code",
   "execution_count": null,
   "metadata": {},
   "outputs": [],
   "source": [
    "wd = os.getcwd()\n",
    "f_names = glob.glob(f\"{wd}/logs/*/sub-002*.tsv\")\n",
    "all_logs = load_data(f_names)\n",
    "if 'large_prop' in all_logs.columns:\n",
    "    all_logs.rename(columns = {'large_prop':'color_balance','small_prop':'fix_intensity'}, inplace = True) \n",
    "all_logs.head()"
   ]
  },
  {
   "cell_type": "markdown",
   "metadata": {},
   "source": [
    "Calculate correct and incorrect responses. Use this to get hits (true positives), misses (false negatives), false alarms (false positives) and correct rejections (true negatives). Once we have these values we can calculate d' and the criterion (c). \n",
    "\n",
    "### Summary per run"
   ]
  },
  {
   "cell_type": "code",
   "execution_count": null,
   "metadata": {},
   "outputs": [],
   "source": [
    "psyc, d_primes, large_cor, small_cor = analyse_logs(all_logs)\n",
    "psyc"
   ]
  },
  {
   "cell_type": "markdown",
   "metadata": {},
   "source": [
    "We can also calculate d' per difficulty level and plot this to see if two task difficulties are comparable. Unfortunately d' can go to infinity so many points are missing from the performance curves... and we're unsure if they're sigmoidal."
   ]
  },
  {
   "cell_type": "code",
   "execution_count": null,
   "metadata": {},
   "outputs": [],
   "source": [
    "Z = norm.ppf\n",
    "d_primes['d_prime']= Z(d_primes['hit_rate'])- Z(d_primes['fa_rate'])\n",
    "d_primes['criterion'] = -(Z(d_primes['hit_rate']) + Z(d_primes['fa_rate'])) / 2\n",
    "d_primes.head()"
   ]
  },
  {
   "cell_type": "code",
   "execution_count": null,
   "metadata": {},
   "outputs": [],
   "source": [
    "large_AF = d_primes[d_primes['run'].astype(int) % 2 == 1]\n",
    "small_AF = d_primes[d_primes['run'].astype(int) % 2 == 0]"
   ]
  },
  {
   "cell_type": "code",
   "execution_count": null,
   "metadata": {},
   "outputs": [],
   "source": [
    "fig, (ax1,ax2) = plt.subplots(1, 2, figsize=(12,4))\n",
    "\n",
    "ax1.set_title('SmallAF')\n",
    "ax1.scatter(abs(small_AF['difficulty']),small_AF['d_prime'])\n",
    "ax1.set_ylabel('Dprime')\n",
    "\n",
    "ax2.set_title('LargeAF')\n",
    "ax2.scatter(abs(large_AF['difficulty']-0.5),large_AF['d_prime'],color='orange')\n",
    "ax2.set_ylabel('Dprime')"
   ]
  },
  {
   "cell_type": "markdown",
   "metadata": {},
   "source": [
    "We can also use proportion correct to create psychometric curves - although these are not traditional sigmoidal psychometric curves which are designed for 2 alternative forced-choice (2AFC) task. "
   ]
  },
  {
   "cell_type": "code",
   "execution_count": null,
   "metadata": {},
   "outputs": [],
   "source": [
    "largex, largey = (np.array([i[0] for i in large_cor]), \n",
    "                  np.array([i[1] for i in large_cor]))\n",
    "smallx,smally = (np.array([i[0] for i in small_cor]), \n",
    "                np.array([i[1] for i in small_cor]))"
   ]
  },
  {
   "cell_type": "code",
   "execution_count": null,
   "metadata": {},
   "outputs": [],
   "source": [
    "fig, ((ax1,ax2),(ax3,ax4)) = plt.subplots(2, 2, figsize=(12,8))\n",
    "\n",
    "ax1.set_title('LargeAF_Sigmoid')\n",
    "ax1.scatter([abs(i[0]-0.5) for i in large_cor], [i[1] for i in large_cor])\n",
    "ax1.set_ylabel('Proportion Correct')\n",
    "\n",
    "ax2.set_title('LargeAF_Gauss')\n",
    "ax2.scatter([i[0] for i in large_cor], [i[1] for i in large_cor])\n",
    "ax2.set_ylabel('Proportion Correct')\n",
    "\n",
    "ax3.set_title('SmallAF_Sigmoid')\n",
    "ax3.set_ylim(0,1)\n",
    "ax3.scatter([abs(i[0]-0) for i in small_cor], [i[1] for i in small_cor], color='orange')\n",
    "\n",
    "ax4.set_title('SmallAF_Gauss')\n",
    "ax4.set_ylim(0,1)\n",
    "ax4.scatter([i[0] for i in small_cor], [i[1] for i in small_cor], color='orange')"
   ]
  },
  {
   "cell_type": "markdown",
   "metadata": {},
   "source": [
    "# Modeling psychometric curve"
   ]
  },
  {
   "cell_type": "code",
   "execution_count": 87,
   "metadata": {},
   "outputs": [
    {
     "name": "stdout",
     "output_type": "stream",
     "text": [
      "0.15: 20\n",
      "0.6: 20\n",
      "0.85: 20\n",
      "0.3: 20\n",
      "0.4: 20\n",
      "0.5: 25\n",
      "0.2: 20\n",
      "0.8: 20\n",
      "0.9: 20\n",
      "0.7: 20\n",
      "0.1: 20\n"
     ]
    }
   ],
   "source": [
    "def psyc_stim_list(stim_range, n_stim, baseline):\n",
    "    \" Creates stim list for psychophysics task\"\n",
    "    stim_list = stim_range*int(n_stim/len(stim_range))\n",
    "    [stim_list.append(i) for i in [baseline]*(n_stim-len(stim_list))]\n",
    "    np.random.shuffle(stim_list)\n",
    "    return stim_list\n",
    "\n",
    "range = [0.1, 0.15, 0.2, 0.3, 0.4 ,0.5, 0.6, 0.7, 0.8, 0.85,0.9]\n",
    "n = 225\n",
    "\n",
    "\n",
    "stim = psyc_stim_list(range,n, 0.5)\n",
    "\n",
    "for v in set(stim):\n",
    "    c=0\n",
    "    print(f'{v}: {sum([c +1 if v == stim[i] else c for i,j in enumerate(stim)])}')"
   ]
  },
  {
   "cell_type": "code",
   "execution_count": null,
   "metadata": {},
   "outputs": [],
   "source": [
    "def model_pr():\n",
    "    '''\n",
    "    return array of probabilities corresponding to GAUSSIAN cdf\n",
    "    stimuli is range of color_balances / fix intensities\n",
    "    loc\n",
    "    sd / scale\n",
    "    '''\n",
    "    \n",
    "    stim_x = np.arange(0,0.6,0.05)\n",
    "    mu = 0.3\n",
    "    sd = 0.1\n",
    "    \n",
    "    model_pr = norm.cdf(stim_x, mu,sd)\n",
    "    \n",
    "    return stim_x, model_pr"
   ]
  },
  {
   "cell_type": "code",
   "execution_count": null,
   "metadata": {},
   "outputs": [],
   "source": [
    "x,pr = model_pr()\n",
    "plt.plot(x, pr, color='k', marker='x', lw=2, ls='--')\n",
    "plt.xlim(0,0.6)\n",
    "plt.ylim(0,1)\n",
    "plt.show()"
   ]
  }
 ],
 "metadata": {
  "kernelspec": {
   "display_name": "Python 3",
   "language": "python",
   "name": "python3"
  },
  "language_info": {
   "codemirror_mode": {
    "name": "ipython",
    "version": 3
   },
   "file_extension": ".py",
   "mimetype": "text/x-python",
   "name": "python",
   "nbconvert_exporter": "python",
   "pygments_lexer": "ipython3",
   "version": "3.7.0"
  }
 },
 "nbformat": 4,
 "nbformat_minor": 2
}
