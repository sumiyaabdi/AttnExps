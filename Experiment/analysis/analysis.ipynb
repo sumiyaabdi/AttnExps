{
 "cells": [
  {
   "cell_type": "code",
   "execution_count": 1,
   "metadata": {},
   "outputs": [
    {
     "data": {
      "text/plain": [
       "'/Users/sumiyaabdirashid/Desktop/PhD/code/git/PRF_Experiment_Checkers/Experiment'"
      ]
     },
     "execution_count": 1,
     "metadata": {},
     "output_type": "execute_result"
    }
   ],
   "source": [
    "import pandas as pd\n",
    "from pandas.core.common import SettingWithCopyWarning\n",
    "import warnings\n",
    "warnings.simplefilter(action='ignore', category=SettingWithCopyWarning)\n",
    "import numpy as np\n",
    "import os\n",
    "import glob\n",
    "import matplotlib.pyplot as plt\n",
    "from scipy.optimize import curve_fit\n",
    "from analysis_utils import *\n",
    "from scipy.stats import norm\n",
    "import bayesfit as bf\n",
    "\n",
    "os.chdir('../')\n",
    "os.getcwd()"
   ]
  },
  {
   "cell_type": "markdown",
   "metadata": {},
   "source": [
    "Load data into Pandas dataframe. To be implemented: run some tests to ensure data quality\n",
    "\n",
    "- does run exist? \n",
    "- does run contain responses?\n",
    "- does run log color_balance and fix_intensity values correctly?"
   ]
  },
  {
   "cell_type": "markdown",
   "metadata": {},
   "source": [
    "# Analysis of 2AFC Attn Task"
   ]
  },
  {
   "cell_type": "markdown",
   "metadata": {},
   "source": [
    "In psychophysics task participants respond to each trial indicating whether the stimulus presented is more dark or more light.\n",
    "\n",
    "### Scoring convention\n",
    "\n",
    "**LARGE AF:** Response Left (color_balance < 0.5) = Dark; Response Right (color_balance > 0.5) = Light.\n",
    "\n",
    "**SMALL AF:** Response Left (fix color < 0) = Dark; Response Right (fix color > 0) = Light"
   ]
  },
  {
   "cell_type": "code",
   "execution_count": 16,
   "metadata": {},
   "outputs": [
    {
     "data": {
      "text/plain": [
       "['/Users/sumiyaabdirashid/Desktop/PhD/code/git/PRF_Experiment_Checkers/Experiment/logs/psychophys/0_0_psyc_4_Logs/0_0_psyc_4_events.tsv',\n",
       " '/Users/sumiyaabdirashid/Desktop/PhD/code/git/PRF_Experiment_Checkers/Experiment/logs/psychophys/0_0_psyc_5_Logs/0_0_psyc_5_events.tsv',\n",
       " '/Users/sumiyaabdirashid/Desktop/PhD/code/git/PRF_Experiment_Checkers/Experiment/logs/psychophys/0_0_psyc_3_Logs/0_0_psyc_3_events.tsv',\n",
       " '/Users/sumiyaabdirashid/Desktop/PhD/code/git/PRF_Experiment_Checkers/Experiment/logs/psychophys/0_0_psyc_6_Logs/0_0_psyc_6_events.tsv']"
      ]
     },
     "execution_count": 16,
     "metadata": {},
     "output_type": "execute_result"
    }
   ],
   "source": [
    "f_names"
   ]
  },
  {
   "cell_type": "code",
   "execution_count": 15,
   "metadata": {},
   "outputs": [
    {
     "data": {
      "text/html": [
       "<div>\n",
       "<style scoped>\n",
       "    .dataframe tbody tr th:only-of-type {\n",
       "        vertical-align: middle;\n",
       "    }\n",
       "\n",
       "    .dataframe tbody tr th {\n",
       "        vertical-align: top;\n",
       "    }\n",
       "\n",
       "    .dataframe thead th {\n",
       "        text-align: right;\n",
       "    }\n",
       "</style>\n",
       "<table border=\"1\" class=\"dataframe\">\n",
       "  <thead>\n",
       "    <tr style=\"text-align: right;\">\n",
       "      <th></th>\n",
       "      <th>trial_nr</th>\n",
       "      <th>onset</th>\n",
       "      <th>event_type</th>\n",
       "      <th>phase</th>\n",
       "      <th>response</th>\n",
       "      <th>nr_frames</th>\n",
       "      <th>color_balance</th>\n",
       "      <th>fix_intensity</th>\n",
       "      <th>onset_abs</th>\n",
       "      <th>duration</th>\n",
       "      <th>end</th>\n",
       "      <th>end_abs</th>\n",
       "      <th>task</th>\n",
       "      <th>run</th>\n",
       "    </tr>\n",
       "  </thead>\n",
       "  <tbody>\n",
       "    <tr>\n",
       "      <th>1</th>\n",
       "      <td>0</td>\n",
       "      <td>1.891449</td>\n",
       "      <td>response</td>\n",
       "      <td>1</td>\n",
       "      <td>right</td>\n",
       "      <td>0.0</td>\n",
       "      <td>0.40</td>\n",
       "      <td>0.1</td>\n",
       "      <td>5.655800</td>\n",
       "      <td>0.0</td>\n",
       "      <td>1.891449</td>\n",
       "      <td>5.655800</td>\n",
       "      <td>Logs</td>\n",
       "      <td>4</td>\n",
       "    </tr>\n",
       "    <tr>\n",
       "      <th>3</th>\n",
       "      <td>1</td>\n",
       "      <td>3.274773</td>\n",
       "      <td>response</td>\n",
       "      <td>1</td>\n",
       "      <td>right</td>\n",
       "      <td>0.0</td>\n",
       "      <td>0.85</td>\n",
       "      <td>0.1</td>\n",
       "      <td>7.039123</td>\n",
       "      <td>0.0</td>\n",
       "      <td>3.274773</td>\n",
       "      <td>7.039123</td>\n",
       "      <td>Logs</td>\n",
       "      <td>4</td>\n",
       "    </tr>\n",
       "    <tr>\n",
       "      <th>5</th>\n",
       "      <td>2</td>\n",
       "      <td>4.491479</td>\n",
       "      <td>response</td>\n",
       "      <td>1</td>\n",
       "      <td>right</td>\n",
       "      <td>0.0</td>\n",
       "      <td>0.30</td>\n",
       "      <td>0.1</td>\n",
       "      <td>8.255829</td>\n",
       "      <td>0.0</td>\n",
       "      <td>4.491479</td>\n",
       "      <td>8.255829</td>\n",
       "      <td>Logs</td>\n",
       "      <td>4</td>\n",
       "    </tr>\n",
       "    <tr>\n",
       "      <th>7</th>\n",
       "      <td>3</td>\n",
       "      <td>5.308101</td>\n",
       "      <td>response</td>\n",
       "      <td>1</td>\n",
       "      <td>right</td>\n",
       "      <td>0.0</td>\n",
       "      <td>0.20</td>\n",
       "      <td>0.8</td>\n",
       "      <td>9.072452</td>\n",
       "      <td>0.0</td>\n",
       "      <td>5.308101</td>\n",
       "      <td>9.072452</td>\n",
       "      <td>Logs</td>\n",
       "      <td>4</td>\n",
       "    </tr>\n",
       "    <tr>\n",
       "      <th>9</th>\n",
       "      <td>4</td>\n",
       "      <td>5.941429</td>\n",
       "      <td>response</td>\n",
       "      <td>1</td>\n",
       "      <td>left</td>\n",
       "      <td>0.0</td>\n",
       "      <td>0.40</td>\n",
       "      <td>-0.2</td>\n",
       "      <td>9.705779</td>\n",
       "      <td>0.0</td>\n",
       "      <td>5.941429</td>\n",
       "      <td>9.705779</td>\n",
       "      <td>Logs</td>\n",
       "      <td>4</td>\n",
       "    </tr>\n",
       "    <tr>\n",
       "      <th>...</th>\n",
       "      <td>...</td>\n",
       "      <td>...</td>\n",
       "      <td>...</td>\n",
       "      <td>...</td>\n",
       "      <td>...</td>\n",
       "      <td>...</td>\n",
       "      <td>...</td>\n",
       "      <td>...</td>\n",
       "      <td>...</td>\n",
       "      <td>...</td>\n",
       "      <td>...</td>\n",
       "      <td>...</td>\n",
       "      <td>...</td>\n",
       "      <td>...</td>\n",
       "    </tr>\n",
       "    <tr>\n",
       "      <th>1798</th>\n",
       "      <td>220</td>\n",
       "      <td>184.313894</td>\n",
       "      <td>response</td>\n",
       "      <td>1</td>\n",
       "      <td>right</td>\n",
       "      <td>0.0</td>\n",
       "      <td>0.10</td>\n",
       "      <td>0.1</td>\n",
       "      <td>190.215442</td>\n",
       "      <td>0.0</td>\n",
       "      <td>184.313894</td>\n",
       "      <td>190.215442</td>\n",
       "      <td>Logs</td>\n",
       "      <td>6</td>\n",
       "    </tr>\n",
       "    <tr>\n",
       "      <th>1800</th>\n",
       "      <td>221</td>\n",
       "      <td>185.130499</td>\n",
       "      <td>response</td>\n",
       "      <td>1</td>\n",
       "      <td>right</td>\n",
       "      <td>0.0</td>\n",
       "      <td>0.10</td>\n",
       "      <td>0.3</td>\n",
       "      <td>191.032047</td>\n",
       "      <td>0.0</td>\n",
       "      <td>185.130499</td>\n",
       "      <td>191.032047</td>\n",
       "      <td>Logs</td>\n",
       "      <td>6</td>\n",
       "    </tr>\n",
       "    <tr>\n",
       "      <th>1802</th>\n",
       "      <td>222</td>\n",
       "      <td>185.663795</td>\n",
       "      <td>response</td>\n",
       "      <td>1</td>\n",
       "      <td>left</td>\n",
       "      <td>0.0</td>\n",
       "      <td>0.90</td>\n",
       "      <td>-0.4</td>\n",
       "      <td>191.565343</td>\n",
       "      <td>0.0</td>\n",
       "      <td>185.663795</td>\n",
       "      <td>191.565343</td>\n",
       "      <td>Logs</td>\n",
       "      <td>6</td>\n",
       "    </tr>\n",
       "    <tr>\n",
       "      <th>1804</th>\n",
       "      <td>223</td>\n",
       "      <td>186.447176</td>\n",
       "      <td>response</td>\n",
       "      <td>1</td>\n",
       "      <td>right</td>\n",
       "      <td>0.0</td>\n",
       "      <td>0.30</td>\n",
       "      <td>0.0</td>\n",
       "      <td>192.348723</td>\n",
       "      <td>0.0</td>\n",
       "      <td>186.447176</td>\n",
       "      <td>192.348723</td>\n",
       "      <td>Logs</td>\n",
       "      <td>6</td>\n",
       "    </tr>\n",
       "    <tr>\n",
       "      <th>1806</th>\n",
       "      <td>224</td>\n",
       "      <td>187.197217</td>\n",
       "      <td>response</td>\n",
       "      <td>1</td>\n",
       "      <td>left</td>\n",
       "      <td>0.0</td>\n",
       "      <td>0.40</td>\n",
       "      <td>0.4</td>\n",
       "      <td>193.098765</td>\n",
       "      <td>0.0</td>\n",
       "      <td>187.197217</td>\n",
       "      <td>193.098765</td>\n",
       "      <td>Logs</td>\n",
       "      <td>6</td>\n",
       "    </tr>\n",
       "  </tbody>\n",
       "</table>\n",
       "<p>907 rows × 14 columns</p>\n",
       "</div>"
      ],
      "text/plain": [
       "      trial_nr       onset event_type  phase response  nr_frames  \\\n",
       "1            0    1.891449   response      1    right        0.0   \n",
       "3            1    3.274773   response      1    right        0.0   \n",
       "5            2    4.491479   response      1    right        0.0   \n",
       "7            3    5.308101   response      1    right        0.0   \n",
       "9            4    5.941429   response      1     left        0.0   \n",
       "...        ...         ...        ...    ...      ...        ...   \n",
       "1798       220  184.313894   response      1    right        0.0   \n",
       "1800       221  185.130499   response      1    right        0.0   \n",
       "1802       222  185.663795   response      1     left        0.0   \n",
       "1804       223  186.447176   response      1    right        0.0   \n",
       "1806       224  187.197217   response      1     left        0.0   \n",
       "\n",
       "      color_balance  fix_intensity   onset_abs  duration         end  \\\n",
       "1              0.40            0.1    5.655800       0.0    1.891449   \n",
       "3              0.85            0.1    7.039123       0.0    3.274773   \n",
       "5              0.30            0.1    8.255829       0.0    4.491479   \n",
       "7              0.20            0.8    9.072452       0.0    5.308101   \n",
       "9              0.40           -0.2    9.705779       0.0    5.941429   \n",
       "...             ...            ...         ...       ...         ...   \n",
       "1798           0.10            0.1  190.215442       0.0  184.313894   \n",
       "1800           0.10            0.3  191.032047       0.0  185.130499   \n",
       "1802           0.90           -0.4  191.565343       0.0  185.663795   \n",
       "1804           0.30            0.0  192.348723       0.0  186.447176   \n",
       "1806           0.40            0.4  193.098765       0.0  187.197217   \n",
       "\n",
       "         end_abs  task run  \n",
       "1       5.655800  Logs   4  \n",
       "3       7.039123  Logs   4  \n",
       "5       8.255829  Logs   4  \n",
       "7       9.072452  Logs   4  \n",
       "9       9.705779  Logs   4  \n",
       "...          ...   ...  ..  \n",
       "1798  190.215442  Logs   6  \n",
       "1800  191.032047  Logs   6  \n",
       "1802  191.565343  Logs   6  \n",
       "1804  192.348723  Logs   6  \n",
       "1806  193.098765  Logs   6  \n",
       "\n",
       "[907 rows x 14 columns]"
      ]
     },
     "execution_count": 15,
     "metadata": {},
     "output_type": "execute_result"
    }
   ],
   "source": [
    "wd = os.getcwd()\n",
    "f_names = glob.glob(f\"{wd}/logs/psychophys/*/*.tsv\")\n",
    "all_logs = load_data(f_names)\n",
    "all_logs[all_logs.event_type == 'response']"
   ]
  },
  {
   "cell_type": "code",
   "execution_count": 17,
   "metadata": {},
   "outputs": [
    {
     "data": {
      "text/html": [
       "<div>\n",
       "<style scoped>\n",
       "    .dataframe tbody tr th:only-of-type {\n",
       "        vertical-align: middle;\n",
       "    }\n",
       "\n",
       "    .dataframe tbody tr th {\n",
       "        vertical-align: top;\n",
       "    }\n",
       "\n",
       "    .dataframe thead th {\n",
       "        text-align: right;\n",
       "    }\n",
       "</style>\n",
       "<table border=\"1\" class=\"dataframe\">\n",
       "  <thead>\n",
       "    <tr style=\"text-align: right;\">\n",
       "      <th></th>\n",
       "      <th>trial_nr</th>\n",
       "      <th>onset</th>\n",
       "      <th>event_type</th>\n",
       "      <th>phase</th>\n",
       "      <th>response</th>\n",
       "      <th>nr_frames</th>\n",
       "      <th>color_balance</th>\n",
       "      <th>fix_intensity</th>\n",
       "      <th>onset_abs</th>\n",
       "      <th>duration</th>\n",
       "      <th>end</th>\n",
       "      <th>end_abs</th>\n",
       "      <th>task</th>\n",
       "      <th>run</th>\n",
       "      <th>correct_s</th>\n",
       "      <th>correct_l</th>\n",
       "    </tr>\n",
       "  </thead>\n",
       "  <tbody>\n",
       "    <tr>\n",
       "      <th>1798</th>\n",
       "      <td>220</td>\n",
       "      <td>184.313894</td>\n",
       "      <td>response</td>\n",
       "      <td>1</td>\n",
       "      <td>right</td>\n",
       "      <td>0.0</td>\n",
       "      <td>0.1</td>\n",
       "      <td>0.1</td>\n",
       "      <td>190.215442</td>\n",
       "      <td>0.0</td>\n",
       "      <td>184.313894</td>\n",
       "      <td>190.215442</td>\n",
       "      <td>Logs</td>\n",
       "      <td>6</td>\n",
       "      <td>1.0</td>\n",
       "      <td>0.0</td>\n",
       "    </tr>\n",
       "    <tr>\n",
       "      <th>1800</th>\n",
       "      <td>221</td>\n",
       "      <td>185.130499</td>\n",
       "      <td>response</td>\n",
       "      <td>1</td>\n",
       "      <td>right</td>\n",
       "      <td>0.0</td>\n",
       "      <td>0.1</td>\n",
       "      <td>0.3</td>\n",
       "      <td>191.032047</td>\n",
       "      <td>0.0</td>\n",
       "      <td>185.130499</td>\n",
       "      <td>191.032047</td>\n",
       "      <td>Logs</td>\n",
       "      <td>6</td>\n",
       "      <td>1.0</td>\n",
       "      <td>0.0</td>\n",
       "    </tr>\n",
       "    <tr>\n",
       "      <th>1802</th>\n",
       "      <td>222</td>\n",
       "      <td>185.663795</td>\n",
       "      <td>response</td>\n",
       "      <td>1</td>\n",
       "      <td>left</td>\n",
       "      <td>0.0</td>\n",
       "      <td>0.9</td>\n",
       "      <td>-0.4</td>\n",
       "      <td>191.565343</td>\n",
       "      <td>0.0</td>\n",
       "      <td>185.663795</td>\n",
       "      <td>191.565343</td>\n",
       "      <td>Logs</td>\n",
       "      <td>6</td>\n",
       "      <td>1.0</td>\n",
       "      <td>0.0</td>\n",
       "    </tr>\n",
       "    <tr>\n",
       "      <th>1804</th>\n",
       "      <td>223</td>\n",
       "      <td>186.447176</td>\n",
       "      <td>response</td>\n",
       "      <td>1</td>\n",
       "      <td>right</td>\n",
       "      <td>0.0</td>\n",
       "      <td>0.3</td>\n",
       "      <td>0.0</td>\n",
       "      <td>192.348723</td>\n",
       "      <td>0.0</td>\n",
       "      <td>186.447176</td>\n",
       "      <td>192.348723</td>\n",
       "      <td>Logs</td>\n",
       "      <td>6</td>\n",
       "      <td>NaN</td>\n",
       "      <td>0.0</td>\n",
       "    </tr>\n",
       "    <tr>\n",
       "      <th>1806</th>\n",
       "      <td>224</td>\n",
       "      <td>187.197217</td>\n",
       "      <td>response</td>\n",
       "      <td>1</td>\n",
       "      <td>left</td>\n",
       "      <td>0.0</td>\n",
       "      <td>0.4</td>\n",
       "      <td>0.4</td>\n",
       "      <td>193.098765</td>\n",
       "      <td>0.0</td>\n",
       "      <td>187.197217</td>\n",
       "      <td>193.098765</td>\n",
       "      <td>Logs</td>\n",
       "      <td>6</td>\n",
       "      <td>0.0</td>\n",
       "      <td>1.0</td>\n",
       "    </tr>\n",
       "  </tbody>\n",
       "</table>\n",
       "</div>"
      ],
      "text/plain": [
       "      trial_nr       onset event_type  phase response  nr_frames  \\\n",
       "1798       220  184.313894   response      1    right        0.0   \n",
       "1800       221  185.130499   response      1    right        0.0   \n",
       "1802       222  185.663795   response      1     left        0.0   \n",
       "1804       223  186.447176   response      1    right        0.0   \n",
       "1806       224  187.197217   response      1     left        0.0   \n",
       "\n",
       "      color_balance  fix_intensity   onset_abs  duration         end  \\\n",
       "1798            0.1            0.1  190.215442       0.0  184.313894   \n",
       "1800            0.1            0.3  191.032047       0.0  185.130499   \n",
       "1802            0.9           -0.4  191.565343       0.0  185.663795   \n",
       "1804            0.3            0.0  192.348723       0.0  186.447176   \n",
       "1806            0.4            0.4  193.098765       0.0  187.197217   \n",
       "\n",
       "         end_abs  task run  correct_s  correct_l  \n",
       "1798  190.215442  Logs   6        1.0        0.0  \n",
       "1800  191.032047  Logs   6        1.0        0.0  \n",
       "1802  191.565343  Logs   6        1.0        0.0  \n",
       "1804  192.348723  Logs   6        NaN        0.0  \n",
       "1806  193.098765  Logs   6        0.0        1.0  "
      ]
     },
     "execution_count": 17,
     "metadata": {},
     "output_type": "execute_result"
    }
   ],
   "source": [
    "df = all_logs[(all_logs.event_type == 'response')]\n",
    "# fixed = np.append(np.array(df.color_balance)[1:],[np.array(df.color_balance)[-1]])\n",
    "# df.color_balance = fixed\n",
    "df['correct_s'] = np.nan\n",
    "df['correct_l'] = np.nan\n",
    "\n",
    "# Color task\n",
    "true_left_l = df[(df.color_balance < 0.5) & (df.response == 'left')].index\n",
    "false_left_l = df[(df.color_balance > 0.5) & (df.response == 'left')].index\n",
    "\n",
    "true_right_l = df[(df.color_balance > 0.5) & (df.response == 'right')].index\n",
    "false_right_l = df[(df.color_balance < 0.5) & (df.response == 'right')].index\n",
    "\n",
    "true_left_s = df[(df.fix_intensity < 0) & (df.response == 'left')].index\n",
    "false_left_s = df[(df.fix_intensity > 0) & (df.response == 'left')].index\n",
    "\n",
    "true_right_s = df[(df.fix_intensity > 0) & (df.response == 'right')].index\n",
    "false_right_s = df[(df.fix_intensity < 0) & (df.response == 'right')].index\n",
    "\n",
    "df.loc[np.hstack((true_left_l,true_right_l)), 'correct_l'] = 1\n",
    "df.loc[np.hstack((false_left_l,false_right_l)), 'correct_l'] = 0\n",
    "\n",
    "df.loc[np.hstack((true_left_s,true_right_s)), 'correct_s'] = 1\n",
    "df.loc[np.hstack((false_left_s,false_right_s)), 'correct_s'] = 0\n",
    "\n",
    "# df = df.dropna() # drop where color balance = 0.5\n",
    "df.tail()\n",
    "\n",
    "# print(f'Total response \"right\": {sum(df.response == \"left\")} \\\n",
    "#     \\nTotal response \"left\": {sum(df.response == \"right\")} \\\n",
    "#     \\ntrue_left: {len(true_left)/sum(df.fix_intensity < 0)} \\\n",
    "#     \\ntrue_right: {len(true_right)/sum(df.fix_intensity > 0)} \\\n",
    "#     \\nfalse_left: {len(false_left)/sum(df.fix_intensity < 0)} \\\n",
    "#     \\nfalse_right: {len(false_right)/sum(df.fix_intensity > 0)}')"
   ]
  },
  {
   "cell_type": "markdown",
   "metadata": {},
   "source": [
    "Plot response light v.s. proportion light. Should increase together"
   ]
  },
  {
   "cell_type": "markdown",
   "metadata": {},
   "source": [
    "### Plot large AF"
   ]
  },
  {
   "cell_type": "code",
   "execution_count": 44,
   "metadata": {},
   "outputs": [
    {
     "name": "stdout",
     "output_type": "stream",
     "text": [
      "Diff: 0.1,      \tn_correct: 47     \tn_trials: 47\n",
      "Diff: 0.15,      \tn_correct: 32     \tn_trials: 37\n",
      "Diff: 0.2,      \tn_correct: 43     \tn_trials: 45\n",
      "Diff: 0.3,      \tn_correct: 22     \tn_trials: 25\n",
      "Diff: 0.4,      \tn_correct: 26     \tn_trials: 36\n",
      "Diff: 0.5,      \tn_correct: 0     \tn_trials: 39\n",
      "Diff: 0.6,      \tn_correct: 33     \tn_trials: 46\n",
      "Diff: 0.7,      \tn_correct: 36     \tn_trials: 44\n",
      "Diff: 0.8,      \tn_correct: 42     \tn_trials: 46\n",
      "Diff: 0.85,      \tn_correct: 39     \tn_trials: 43\n",
      "Diff: 0.9,      \tn_correct: 42     \tn_trials: 46\n"
     ]
    },
    {
     "data": {
      "text/plain": [
       "<matplotlib.collections.PathCollection at 0x12ed3b5f8>"
      ]
     },
     "execution_count": 44,
     "metadata": {},
     "output_type": "execute_result"
    },
    {
     "data": {
      "image/png": "[encoded data removed]",
      "text/plain": [
       "<Figure size 576x432 with 1 Axes>"
      ]
     },
     "metadata": {
      "needs_background": "light"
     },
     "output_type": "display_data"
    }
   ],
   "source": [
    "df_l = df[(df.run == '3') | (df.run == '5')]\n",
    "df_l =  df.dropna(subset=['correct_l']) # drop where color balance = 0.5\n",
    "difficulties_l = sorted(df_l.color_balance.unique())\n",
    "n_correct_l = []\n",
    "n_trials_l = []\n",
    "\n",
    "for diff in difficulties_l:\n",
    "    print(f'Diff: {diff},  \\\n",
    "    \\tn_correct: {len(df_l[(df_l.color_balance == diff) & (df_l.correct_l == 1)])} \\\n",
    "    \\tn_trials: {len(df_l[df_l.color_balance == diff])}')\n",
    "    n_correct_l.append(len(df_l[(df_l.color_balance == diff) & (df_l.correct_l == 1)]))\n",
    "    n_trials_l.append(len(df_l[df_l.color_balance == diff]))\n",
    "#     print(f'% Light: {diff}, \\t% Response Light {round(len(df[(df.color_balance == diff) & (df.response == \"right\")]) / len(df[df.color_balance == diff]) *100,1)}')\n",
    "#     proportions.append(len(df[(df.color_balance == diff) & (df.response == \"right\")]) / len(df[df.color_balance == diff]) *100)\n",
    "\n",
    "proportions_l = np.array(n_correct_l) / np.array(n_trials_l)\n",
    "\n",
    "largeAFx, largeAFy = abs(np.array(difficulties_l)-0.5), proportions_l\n",
    "          \n",
    "fig, axs = plt.subplots(1,1, figsize=(8,6))\n",
    "\n",
    "axs.set_title('% LargeAF Performance')\n",
    "axs.set_ylabel('Proportion correct')\n",
    "axs.set_xlabel('% Light')\n",
    "axs.scatter(difficulties_l,proportions_l)"
   ]
  },
  {
   "cell_type": "markdown",
   "metadata": {},
   "source": [
    "### Plot small AF"
   ]
  },
  {
   "cell_type": "code",
   "execution_count": 86,
   "metadata": {},
   "outputs": [
    {
     "name": "stdout",
     "output_type": "stream",
     "text": [
      "Diff: -0.8           \tn_correct: 29            \tn_trials: 49\n",
      "Diff: -0.6           \tn_correct: 23            \tn_trials: 94\n",
      "Diff: -0.4           \tn_correct: 18            \tn_trials: 76\n",
      "Diff: -0.3           \tn_correct: 0            \tn_trials: 39\n",
      "Diff: -0.2           \tn_correct: 10            \tn_trials: 82\n",
      "Diff: -0.1           \tn_correct: 9            \tn_trials: 92\n",
      "Diff: 0.0           \tn_correct: 0            \tn_trials: 75\n",
      "Diff: 0.1           \tn_correct: 19            \tn_trials: 91\n",
      "Diff: 0.2           \tn_correct: 15            \tn_trials: 78\n",
      "Diff: 0.3           \tn_correct: 0            \tn_trials: 51\n",
      "Diff: 0.4           \tn_correct: 13            \tn_trials: 59\n",
      "Diff: 0.6           \tn_correct: 17            \tn_trials: 85\n",
      "Diff: 0.8           \tn_correct: 18            \tn_trials: 36\n"
     ]
    },
    {
     "data": {
      "text/plain": [
       "<matplotlib.collections.PathCollection at 0x132441d68>"
      ]
     },
     "execution_count": 86,
     "metadata": {},
     "output_type": "execute_result"
    },
    {
     "data": {
      "image/png": "[encoded data removed]",
      "text/plain": [
       "<Figure size 576x432 with 1 Axes>"
      ]
     },
     "metadata": {
      "needs_background": "light"
     },
     "output_type": "display_data"
    }
   ],
   "source": [
    "df_s = df[(df.run == '4')]\n",
    "df_l =  df.dropna(subset=['correct_l']) # drop where color balance = 0.5\n",
    "difficulties_s = sorted(df.fix_intensity.unique())\n",
    "n_correct_s = []\n",
    "n_trials_s = []\n",
    "\n",
    "for diff in difficulties_s:\n",
    "    print(f'Diff: {diff} \\\n",
    "          \\tn_correct: {len(df_s[(df_s.fix_intensity == diff) & (df_s.correct_s == 1)])}  \\\n",
    "          \\tn_trials: {len(df[df.fix_intensity == diff])}')\n",
    "    n_correct_s.append(len(df_s[(df_s.fix_intensity == diff) & (df_s.correct_s == 1)])) \n",
    "    n_trials_s.append(len(df[df.fix_intensity == diff]))\n",
    "#     print(f'% Light: {diff}, \\t% Response Light {round(len(df[(df.fix_intensity == diff) & (df.response == \"right\")]) / len(df[df.fix_intensity == diff]) *100,1)}')\n",
    "#     proportions.append(len(df[(df.fix_intensity == diff) & (df.response == \"right\")]) / len(df[df.fix_intensity == diff]) *100)\n",
    "\n",
    "proportions_s = np.array(n_correct_s) / np.array(n_trials_s)\n",
    "\n",
    "smallAFx, smallAFy = abs(np.array(difficulties_s)), proportions_s\n",
    "          \n",
    "fig, axs = plt.subplots(1,1, figsize=(8,6))\n",
    "\n",
    "axs.set_title('% SmallAF Performance')\n",
    "axs.set_ylim(0,1)\n",
    "axs.set_ylabel('Proportion correct')\n",
    "axs.set_xlabel('% Light')\n",
    "axs.scatter(difficulties_s,proportions_s)"
   ]
  },
  {
   "cell_type": "markdown",
   "metadata": {},
   "source": [
    "## Plot difficulty v.s. proportion correct"
   ]
  },
  {
   "cell_type": "code",
   "execution_count": 83,
   "metadata": {},
   "outputs": [
    {
     "data": {
      "text/plain": [
       "<matplotlib.collections.PathCollection at 0x1321195f8>"
      ]
     },
     "execution_count": 83,
     "metadata": {},
     "output_type": "execute_result"
    },
    {
     "data": {
      "image/png": "[encoded data removed]",
      "text/plain": [
       "<Figure size 864x288 with 2 Axes>"
      ]
     },
     "metadata": {
      "needs_background": "light"
     },
     "output_type": "display_data"
    }
   ],
   "source": [
    "fig, axs = plt.subplots(1,2, figsize=(12,4))\n",
    "\n",
    "axs[0].set_title('SmallAF')\n",
    "axs[0].set_ylabel('Proportion Correct')\n",
    "axs[0].set_ylim(0,1)\n",
    "axs[0].set_xlabel('% Light')\n",
    "axs[0].scatter(smallAFx, smallAFy)\n",
    "\n",
    "axs[1].set_title('LargeAF')\n",
    "axs[1].set_ylabel('Proportion Correct')\n",
    "axs[0].set_ylim(0,1)\n",
    "axs[1].set_xlabel('Distance from 50%')\n",
    "axs[1].scatter(largeAFx, largeAFy)"
   ]
  },
  {
   "cell_type": "markdown",
   "metadata": {},
   "source": [
    "# Testing BayesFit\n",
    "\n",
    "Organize data into `[M X 3 ndarray]` where n is the number of stimulus intensities and the columns are: `[stimulus intensity, N trials correct, and N trials total]`."
   ]
  },
  {
   "cell_type": "code",
   "execution_count": 71,
   "metadata": {},
   "outputs": [],
   "source": [
    "data_s = np.vstack((abs(np.array(difficulties_s)), [int(i) for i in n_correct_s], [int(j) for j in n_trials_s])).T\n",
    "\n",
    "metrics, options = bf.fitmodel(data_s, nafc = 2)"
   ]
  },
  {
   "cell_type": "markdown",
   "metadata": {},
   "source": [
    "# Analysis of Attn PRF Detection Task"
   ]
  },
  {
   "cell_type": "code",
   "execution_count": null,
   "metadata": {},
   "outputs": [],
   "source": [
    "f_names = glob.glob(\"logs/*/*.tsv\")\n",
    "all_logs = load_data(f_names)\n",
    "all_logs[(all_logs.run == '12')].head()"
   ]
  },
  {
   "cell_type": "markdown",
   "metadata": {},
   "source": [
    "Calculate correct and incorrect responses. Use this to get hits (true positives), misses (false negatives), false alarms (false positives) and correct rejections (true negatives). Once we have these values we can calculate d' and the criterion (c). \n",
    "\n",
    "### Summary per run"
   ]
  },
  {
   "cell_type": "code",
   "execution_count": null,
   "metadata": {},
   "outputs": [],
   "source": [
    "psyc, d_primes, large_cor, small_cor = analyse_logs(all_logs)\n",
    "psyc"
   ]
  },
  {
   "cell_type": "markdown",
   "metadata": {},
   "source": [
    "We can also calculate d' per difficulty level and plot this to see if two task difficulties are comparable. Unfortunately d' can go to infinity so many points are missing from the performance curves... and we're unsure if they're sigmoidal."
   ]
  },
  {
   "cell_type": "code",
   "execution_count": null,
   "metadata": {},
   "outputs": [],
   "source": [
    "Z = norm.ppf\n",
    "d_primes['d_prime']= Z(d_primes['hit_rate'])- Z(d_primes['fa_rate'])\n",
    "d_primes['criterion'] = -(Z(d_primes['hit_rate']) + Z(d_primes['fa_rate'])) / 2\n",
    "d_primes.head()"
   ]
  },
  {
   "cell_type": "code",
   "execution_count": null,
   "metadata": {},
   "outputs": [],
   "source": [
    "large_AF = d_primes[d_primes['run'].astype(int) % 2 == 1]\n",
    "small_AF = d_primes[d_primes['run'].astype(int) % 2 == 0]"
   ]
  },
  {
   "cell_type": "code",
   "execution_count": null,
   "metadata": {},
   "outputs": [],
   "source": [
    "fig, (ax1,ax2) = plt.subplots(1, 2, figsize=(12,4))\n",
    "\n",
    "ax1.set_title('SmallAF')\n",
    "ax1.scatter(abs(small_AF['difficulty']),small_AF['d_prime'])\n",
    "ax1.set_ylabel('Dprime')\n",
    "\n",
    "ax2.set_title('LargeAF')\n",
    "ax2.scatter(abs(large_AF['difficulty']-0.5),large_AF['d_prime'],color='orange')\n",
    "ax2.set_ylabel('Dprime')"
   ]
  },
  {
   "cell_type": "markdown",
   "metadata": {},
   "source": [
    "We can also use proportion correct to create psychometric curves - although these are not traditional sigmoidal psychometric curves which are designed for 2 alternative forced-choice (2AFC) task. "
   ]
  },
  {
   "cell_type": "code",
   "execution_count": null,
   "metadata": {},
   "outputs": [],
   "source": [
    "largex, largey = (np.array([i[0] for i in large_cor]), \n",
    "                  np.array([i[1] for i in large_cor]))\n",
    "smallx,smally = (np.array([i[0] for i in small_cor]), \n",
    "                np.array([i[1] for i in small_cor]))"
   ]
  },
  {
   "cell_type": "code",
   "execution_count": null,
   "metadata": {},
   "outputs": [],
   "source": [
    "fig, ((ax1,ax2),(ax3,ax4)) = plt.subplots(2, 2, figsize=(12,8))\n",
    "\n",
    "ax1.set_title('LargeAF_Sigmoid')\n",
    "ax1.scatter([abs(i[0]-0.5) for i in large_cor], [i[1] for i in large_cor])\n",
    "ax1.set_ylabel('Proportion Correct')\n",
    "\n",
    "ax2.set_title('LargeAF_Gauss')\n",
    "ax2.scatter([i[0] for i in large_cor], [i[1] for i in large_cor])\n",
    "ax2.set_ylabel('Proportion Correct')\n",
    "\n",
    "ax3.set_title('SmallAF_Sigmoid')\n",
    "ax3.set_ylim(0,1)\n",
    "ax3.scatter([abs(i[0]-0) for i in small_cor], [i[1] for i in small_cor], color='orange')\n",
    "\n",
    "ax4.set_title('SmallAF_Gauss')\n",
    "ax4.set_ylim(0,1)\n",
    "ax4.scatter([i[0] for i in small_cor], [i[1] for i in small_cor], color='orange')"
   ]
  },
  {
   "cell_type": "markdown",
   "metadata": {},
   "source": [
    "Lastly we can fit a sigmoid function to each of these curves."
   ]
  },
  {
   "cell_type": "code",
   "execution_count": null,
   "metadata": {},
   "outputs": [],
   "source": [
    "np.array(largeAFx)*100"
   ]
  },
  {
   "cell_type": "code",
   "execution_count": null,
   "metadata": {},
   "outputs": [],
   "source": [
    "y = 1 / (1 + np.exp(-popt[1]*(x-popt[0])))\n",
    "y"
   ]
  },
  {
   "cell_type": "code",
   "execution_count": 79,
   "metadata": {},
   "outputs": [
    {
     "data": {
      "text/plain": [
       "array([0.59183673, 0.5106383 , 0.53947368, 0.46153846, 0.26829268,\n",
       "       0.22826087, 0.        , 0.38461538, 0.41025641, 0.43137255,\n",
       "       0.44067797, 0.48235294, 0.5       ])"
      ]
     },
     "execution_count": 79,
     "metadata": {},
     "output_type": "execute_result"
    }
   ],
   "source": [
    "smallAFy"
   ]
  },
  {
   "cell_type": "code",
   "execution_count": 81,
   "metadata": {},
   "outputs": [
    {
     "name": "stdout",
     "output_type": "stream",
     "text": [
      "[10.12429965  6.57133286]\n"
     ]
    },
    {
     "name": "stderr",
     "output_type": "stream",
     "text": [
      "/Library/Frameworks/Python.framework/Versions/3.7/lib/python3.7/site-packages/ipykernel_launcher.py:2: RuntimeWarning: overflow encountered in exp\n",
      "  \n"
     ]
    },
    {
     "data": {
      "image/png": "[encoded data removed]",
      "text/plain": [
       "<Figure size 432x288 with 1 Axes>"
      ]
     },
     "metadata": {
      "needs_background": "light"
     },
     "output_type": "display_data"
    },
    {
     "name": "stdout",
     "output_type": "stream",
     "text": [
      "[ 21.87951529 -18.5373909 ]\n"
     ]
    },
    {
     "data": {
      "image/png": "[encoded data removed]",
      "text/plain": [
       "<Figure size 432x288 with 1 Axes>"
      ]
     },
     "metadata": {
      "needs_background": "light"
     },
     "output_type": "display_data"
    }
   ],
   "source": [
    "def sigmoid(x, x0, k):\n",
    "     y = 1 / (1 + np.exp(-k*(x-x0)))\n",
    "     return y\n",
    "\n",
    "xdata = 100*(np.array(smallAFx)) # abs(large_AF['difficulty']-0.5)[large_AF.replace([np.inf,-np.inf],np.nan).dropna().index]\n",
    "ydata = np.array(smallAFy) # large_AF.replace([np.inf,-np.inf],np.nan).dropna()['d_prime']\n",
    "\n",
    "popt, pcov = curve_fit(sigmoid, xdata, ydata)\n",
    "print(popt)\n",
    "\n",
    "x = np.linspace(0, 100, 20)\n",
    "y = sigmoid(x, *popt)\n",
    "\n",
    "plt.plot(xdata, ydata, 'o', label='data')\n",
    "plt.title('Small AF')\n",
    "plt.plot(x,y, label='fit')\n",
    "plt.ylim(0, 1)\n",
    "plt.ylabel('Response Light')\n",
    "plt.xlabel('% Light')\n",
    "plt.legend(loc='best')\n",
    "plt.show()\n",
    "\n",
    "xdata = np.array(largeAFx)*100\n",
    "ydata = np.array(largeAFy)/100\n",
    "\n",
    "popt, pcov = curve_fit(sigmoid, xdata, ydata)\n",
    "print(popt)\n",
    "\n",
    "x = np.linspace(0, 100, 20)\n",
    "y = sigmoid(x, *popt)\n",
    "\n",
    "plt.plot(xdata, ydata, 'o', label='data')\n",
    "plt.title('Large AF')\n",
    "plt.plot(x,y, label='fit')\n",
    "plt.ylim(0, 1)\n",
    "plt.ylabel('Response Light')\n",
    "plt.xlabel('% Light')\n",
    "plt.legend(loc='best')\n",
    "plt.show()"
   ]
  },
  {
   "cell_type": "markdown",
   "metadata": {},
   "source": [
    "# Modeling psychometric curve"
   ]
  },
  {
   "cell_type": "code",
   "execution_count": null,
   "metadata": {},
   "outputs": [],
   "source": [
    "def model_pr():\n",
    "    '''\n",
    "    return array of probabilities corresponding to GAUSSIAN cdf\n",
    "    stimuli is range of color_balances / fix intensities\n",
    "    loc\n",
    "    sd / scale\n",
    "    '''\n",
    "    \n",
    "    stim_x = np.arange(0,0.6,0.05)\n",
    "    mu = 0.3\n",
    "    sd = 0.1\n",
    "    \n",
    "    model_pr = norm.cdf(stim_x, mu,sd)\n",
    "    \n",
    "    return stim_x, model_pr"
   ]
  },
  {
   "cell_type": "code",
   "execution_count": null,
   "metadata": {},
   "outputs": [],
   "source": [
    "x,pr = model_pr()\n",
    "plt.plot(x, pr, color='k', marker='x', lw=2, ls='--')\n",
    "plt.xlim(0,0.6)\n",
    "plt.ylim(0,1)\n",
    "plt.show()"
   ]
  }
 ],
 "metadata": {
  "kernelspec": {
   "display_name": "Python 3",
   "language": "python",
   "name": "python3"
  },
  "language_info": {
   "codemirror_mode": {
    "name": "ipython",
    "version": 3
   },
   "file_extension": ".py",
   "mimetype": "text/x-python",
   "name": "python",
   "nbconvert_exporter": "python",
   "pygments_lexer": "ipython3",
   "version": "3.7.0"
  }
 },
 "nbformat": 4,
 "nbformat_minor": 2
}
