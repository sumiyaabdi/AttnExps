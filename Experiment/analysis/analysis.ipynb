{
 "cells": [
  {
   "cell_type": "code",
   "execution_count": 1,
   "metadata": {},
   "outputs": [
    {
     "data": {
      "text/plain": [
       "'/Users/sumiyaabdirashid/Desktop/PhD/code/git/PRF_Experiment_Checkers/Experiment'"
      ]
     },
     "execution_count": 1,
     "metadata": {},
     "output_type": "execute_result"
    }
   ],
   "source": [
    "import pandas as pd\n",
    "from pandas.core.common import SettingWithCopyWarning\n",
    "import warnings\n",
    "warnings.simplefilter(action='ignore', category=SettingWithCopyWarning)\n",
    "import numpy as np\n",
    "import os\n",
    "import glob\n",
    "import matplotlib.pyplot as plt\n",
    "from scipy.optimize import curve_fit\n",
    "from analysis_utils import *\n",
    "from scipy.stats import norm\n",
    "\n",
    "os.chdir('../')\n",
    "os.getcwd()"
   ]
  },
  {
   "cell_type": "markdown",
   "metadata": {},
   "source": [
    "Load data into Pandas dataframe. To be implemented: run some tests to ensure data quality\n",
    "\n",
    "- does run exist? \n",
    "- does run contain responses?\n",
    "- does run log color_balance and fix_intensity values correctly?"
   ]
  },
  {
   "cell_type": "markdown",
   "metadata": {},
   "source": [
    "# Analysis of 2AFC Attn Task"
   ]
  },
  {
   "cell_type": "markdown",
   "metadata": {},
   "source": [
    "In psychophysics task participants respond to each trial indicating whether the stimulus presented is more dark or more light.\n",
    "\n",
    "**Note:** Response Left (color_balance < 0.5) = Dark; Response Right (color_balance > 0.5) = Light."
   ]
  },
  {
   "cell_type": "code",
   "execution_count": 188,
   "metadata": {},
   "outputs": [
    {
     "data": {
      "text/html": [
       "<div>\n",
       "<style scoped>\n",
       "    .dataframe tbody tr th:only-of-type {\n",
       "        vertical-align: middle;\n",
       "    }\n",
       "\n",
       "    .dataframe tbody tr th {\n",
       "        vertical-align: top;\n",
       "    }\n",
       "\n",
       "    .dataframe thead th {\n",
       "        text-align: right;\n",
       "    }\n",
       "</style>\n",
       "<table border=\"1\" class=\"dataframe\">\n",
       "  <thead>\n",
       "    <tr style=\"text-align: right;\">\n",
       "      <th></th>\n",
       "      <th>trial_nr</th>\n",
       "      <th>onset</th>\n",
       "      <th>event_type</th>\n",
       "      <th>phase</th>\n",
       "      <th>response</th>\n",
       "      <th>nr_frames</th>\n",
       "      <th>color_balance</th>\n",
       "      <th>fix_intensity</th>\n",
       "      <th>onset_abs</th>\n",
       "      <th>duration</th>\n",
       "      <th>end</th>\n",
       "      <th>end_abs</th>\n",
       "      <th>task</th>\n",
       "      <th>run</th>\n",
       "    </tr>\n",
       "  </thead>\n",
       "  <tbody>\n",
       "    <tr>\n",
       "      <th>450</th>\n",
       "      <td>0</td>\n",
       "      <td>0.027320</td>\n",
       "      <td>stim</td>\n",
       "      <td>0</td>\n",
       "      <td>NaN</td>\n",
       "      <td>169.0</td>\n",
       "      <td>0.1</td>\n",
       "      <td>0.8</td>\n",
       "      <td>4.415654</td>\n",
       "      <td>3.952342</td>\n",
       "      <td>3.979662</td>\n",
       "      <td>8.367996</td>\n",
       "      <td>Logs</td>\n",
       "      <td>2</td>\n",
       "    </tr>\n",
       "    <tr>\n",
       "      <th>451</th>\n",
       "      <td>0</td>\n",
       "      <td>3.947723</td>\n",
       "      <td>response</td>\n",
       "      <td>0</td>\n",
       "      <td>left</td>\n",
       "      <td>0.0</td>\n",
       "      <td>0.1</td>\n",
       "      <td>0.8</td>\n",
       "      <td>8.336057</td>\n",
       "      <td>0.000000</td>\n",
       "      <td>3.947723</td>\n",
       "      <td>8.336057</td>\n",
       "      <td>Logs</td>\n",
       "      <td>2</td>\n",
       "    </tr>\n",
       "    <tr>\n",
       "      <th>452</th>\n",
       "      <td>1</td>\n",
       "      <td>3.979662</td>\n",
       "      <td>stim</td>\n",
       "      <td>0</td>\n",
       "      <td>NaN</td>\n",
       "      <td>100.0</td>\n",
       "      <td>0.1</td>\n",
       "      <td>0.8</td>\n",
       "      <td>8.367996</td>\n",
       "      <td>2.822325</td>\n",
       "      <td>6.801987</td>\n",
       "      <td>11.190321</td>\n",
       "      <td>Logs</td>\n",
       "      <td>2</td>\n",
       "    </tr>\n",
       "    <tr>\n",
       "      <th>453</th>\n",
       "      <td>1</td>\n",
       "      <td>6.753271</td>\n",
       "      <td>response</td>\n",
       "      <td>0</td>\n",
       "      <td>left</td>\n",
       "      <td>0.0</td>\n",
       "      <td>0.1</td>\n",
       "      <td>0.8</td>\n",
       "      <td>11.141605</td>\n",
       "      <td>0.000000</td>\n",
       "      <td>6.753271</td>\n",
       "      <td>11.141605</td>\n",
       "      <td>Logs</td>\n",
       "      <td>2</td>\n",
       "    </tr>\n",
       "    <tr>\n",
       "      <th>454</th>\n",
       "      <td>2</td>\n",
       "      <td>6.801987</td>\n",
       "      <td>stim</td>\n",
       "      <td>0</td>\n",
       "      <td>NaN</td>\n",
       "      <td>46.0</td>\n",
       "      <td>0.1</td>\n",
       "      <td>0.6</td>\n",
       "      <td>11.190321</td>\n",
       "      <td>1.660958</td>\n",
       "      <td>8.462945</td>\n",
       "      <td>12.851279</td>\n",
       "      <td>Logs</td>\n",
       "      <td>2</td>\n",
       "    </tr>\n",
       "    <tr>\n",
       "      <th>455</th>\n",
       "      <td>2</td>\n",
       "      <td>8.421417</td>\n",
       "      <td>response</td>\n",
       "      <td>0</td>\n",
       "      <td>right</td>\n",
       "      <td>0.0</td>\n",
       "      <td>0.1</td>\n",
       "      <td>0.6</td>\n",
       "      <td>12.809751</td>\n",
       "      <td>0.000000</td>\n",
       "      <td>8.421417</td>\n",
       "      <td>12.809751</td>\n",
       "      <td>Logs</td>\n",
       "      <td>2</td>\n",
       "    </tr>\n",
       "    <tr>\n",
       "      <th>456</th>\n",
       "      <td>3</td>\n",
       "      <td>8.462945</td>\n",
       "      <td>stim</td>\n",
       "      <td>0</td>\n",
       "      <td>NaN</td>\n",
       "      <td>53.0</td>\n",
       "      <td>0.9</td>\n",
       "      <td>0.8</td>\n",
       "      <td>12.851279</td>\n",
       "      <td>1.567279</td>\n",
       "      <td>10.030225</td>\n",
       "      <td>14.418558</td>\n",
       "      <td>Logs</td>\n",
       "      <td>2</td>\n",
       "    </tr>\n",
       "    <tr>\n",
       "      <th>457</th>\n",
       "      <td>3</td>\n",
       "      <td>9.996076</td>\n",
       "      <td>response</td>\n",
       "      <td>0</td>\n",
       "      <td>right</td>\n",
       "      <td>0.0</td>\n",
       "      <td>0.9</td>\n",
       "      <td>0.8</td>\n",
       "      <td>14.384410</td>\n",
       "      <td>0.000000</td>\n",
       "      <td>9.996076</td>\n",
       "      <td>14.384410</td>\n",
       "      <td>Logs</td>\n",
       "      <td>2</td>\n",
       "    </tr>\n",
       "    <tr>\n",
       "      <th>458</th>\n",
       "      <td>4</td>\n",
       "      <td>10.030225</td>\n",
       "      <td>stim</td>\n",
       "      <td>0</td>\n",
       "      <td>NaN</td>\n",
       "      <td>61.0</td>\n",
       "      <td>0.9</td>\n",
       "      <td>-0.6</td>\n",
       "      <td>14.418558</td>\n",
       "      <td>1.499834</td>\n",
       "      <td>11.530058</td>\n",
       "      <td>15.918392</td>\n",
       "      <td>Logs</td>\n",
       "      <td>2</td>\n",
       "    </tr>\n",
       "    <tr>\n",
       "      <th>459</th>\n",
       "      <td>4</td>\n",
       "      <td>11.496236</td>\n",
       "      <td>response</td>\n",
       "      <td>0</td>\n",
       "      <td>right</td>\n",
       "      <td>0.0</td>\n",
       "      <td>0.9</td>\n",
       "      <td>-0.6</td>\n",
       "      <td>15.884569</td>\n",
       "      <td>0.000000</td>\n",
       "      <td>11.496236</td>\n",
       "      <td>15.884569</td>\n",
       "      <td>Logs</td>\n",
       "      <td>2</td>\n",
       "    </tr>\n",
       "  </tbody>\n",
       "</table>\n",
       "</div>"
      ],
      "text/plain": [
       "     trial_nr      onset event_type  phase response  nr_frames  color_balance  \\\n",
       "450         0   0.027320       stim      0      NaN      169.0            0.1   \n",
       "451         0   3.947723   response      0     left        0.0            0.1   \n",
       "452         1   3.979662       stim      0      NaN      100.0            0.1   \n",
       "453         1   6.753271   response      0     left        0.0            0.1   \n",
       "454         2   6.801987       stim      0      NaN       46.0            0.1   \n",
       "455         2   8.421417   response      0    right        0.0            0.1   \n",
       "456         3   8.462945       stim      0      NaN       53.0            0.9   \n",
       "457         3   9.996076   response      0    right        0.0            0.9   \n",
       "458         4  10.030225       stim      0      NaN       61.0            0.9   \n",
       "459         4  11.496236   response      0    right        0.0            0.9   \n",
       "\n",
       "     fix_intensity  onset_abs  duration        end    end_abs  task run  \n",
       "450            0.8   4.415654  3.952342   3.979662   8.367996  Logs   2  \n",
       "451            0.8   8.336057  0.000000   3.947723   8.336057  Logs   2  \n",
       "452            0.8   8.367996  2.822325   6.801987  11.190321  Logs   2  \n",
       "453            0.8  11.141605  0.000000   6.753271  11.141605  Logs   2  \n",
       "454            0.6  11.190321  1.660958   8.462945  12.851279  Logs   2  \n",
       "455            0.6  12.809751  0.000000   8.421417  12.809751  Logs   2  \n",
       "456            0.8  12.851279  1.567279  10.030225  14.418558  Logs   2  \n",
       "457            0.8  14.384410  0.000000   9.996076  14.384410  Logs   2  \n",
       "458           -0.6  14.418558  1.499834  11.530058  15.918392  Logs   2  \n",
       "459           -0.6  15.884569  0.000000  11.496236  15.884569  Logs   2  "
      ]
     },
     "execution_count": 188,
     "metadata": {},
     "output_type": "execute_result"
    }
   ],
   "source": [
    "f_names = glob.glob(\"logs/psychophys/*/*.tsv\")\n",
    "all_logs = load_data(f_names)\n",
    "all_logs[all_logs.run == '2'].head(10)"
   ]
  },
  {
   "cell_type": "code",
   "execution_count": 211,
   "metadata": {},
   "outputs": [
    {
     "name": "stdout",
     "output_type": "stream",
     "text": [
      "Total response \"right\": 109     \n",
      "Total response \"left\": 116     \n",
      "true_left: 0.9814814814814815     \n",
      "true_right: 0.9743589743589743     \n",
      "false_left: 0.027777777777777776     \n",
      "false_right: 0.017094017094017096\n"
     ]
    }
   ],
   "source": [
    "df = all_logs[(all_logs.event_type == 'response') & (all_logs.run == '2')]\n",
    "fixed = np.append(np.array(df.color_balance)[1:],[np.array(df.color_balance)[-1]])\n",
    "df.color_balance = fixed\n",
    "df['correct'] = np.nan\n",
    "\n",
    "true_left = df[(df.color_balance < 0.5) & (df.response == 'left')].index\n",
    "false_left = df[(df.color_balance > 0.5) & (df.response == 'left')].index\n",
    "\n",
    "true_right = df[(df.color_balance > 0.5) & (df.response == 'right')].index\n",
    "false_right = df[(df.color_balance < 0.5) & (df.response == 'right')].index\n",
    "\n",
    "print(f'Total response \"right\": {sum(df.response == \"left\")} \\\n",
    "    \\nTotal response \"left\": {sum(df.response == \"right\")} \\\n",
    "    \\ntrue_left: {len(true_left)/sum(df.color_balance < 0.5)} \\\n",
    "    \\ntrue_right: {len(true_right)/sum(df.color_balance > 0.5)} \\\n",
    "    \\nfalse_left: {len(false_left)/sum(df.color_balance < 0.5)} \\\n",
    "    \\nfalse_right: {len(false_right)/sum(df.color_balance > 0.5)}')"
   ]
  },
  {
   "cell_type": "code",
   "execution_count": 212,
   "metadata": {},
   "outputs": [
    {
     "data": {
      "text/html": [
       "<div>\n",
       "<style scoped>\n",
       "    .dataframe tbody tr th:only-of-type {\n",
       "        vertical-align: middle;\n",
       "    }\n",
       "\n",
       "    .dataframe tbody tr th {\n",
       "        vertical-align: top;\n",
       "    }\n",
       "\n",
       "    .dataframe thead th {\n",
       "        text-align: right;\n",
       "    }\n",
       "</style>\n",
       "<table border=\"1\" class=\"dataframe\">\n",
       "  <thead>\n",
       "    <tr style=\"text-align: right;\">\n",
       "      <th></th>\n",
       "      <th>trial_nr</th>\n",
       "      <th>onset</th>\n",
       "      <th>event_type</th>\n",
       "      <th>phase</th>\n",
       "      <th>response</th>\n",
       "      <th>nr_frames</th>\n",
       "      <th>color_balance</th>\n",
       "      <th>fix_intensity</th>\n",
       "      <th>onset_abs</th>\n",
       "      <th>duration</th>\n",
       "      <th>end</th>\n",
       "      <th>end_abs</th>\n",
       "      <th>task</th>\n",
       "      <th>run</th>\n",
       "      <th>correct</th>\n",
       "    </tr>\n",
       "  </thead>\n",
       "  <tbody>\n",
       "    <tr>\n",
       "      <th>451</th>\n",
       "      <td>0</td>\n",
       "      <td>3.947723</td>\n",
       "      <td>response</td>\n",
       "      <td>0</td>\n",
       "      <td>left</td>\n",
       "      <td>0.0</td>\n",
       "      <td>0.1</td>\n",
       "      <td>0.8</td>\n",
       "      <td>8.336057</td>\n",
       "      <td>0.0</td>\n",
       "      <td>3.947723</td>\n",
       "      <td>8.336057</td>\n",
       "      <td>Logs</td>\n",
       "      <td>2</td>\n",
       "      <td>1.0</td>\n",
       "    </tr>\n",
       "    <tr>\n",
       "      <th>453</th>\n",
       "      <td>1</td>\n",
       "      <td>6.753271</td>\n",
       "      <td>response</td>\n",
       "      <td>0</td>\n",
       "      <td>left</td>\n",
       "      <td>0.0</td>\n",
       "      <td>0.1</td>\n",
       "      <td>0.8</td>\n",
       "      <td>11.141605</td>\n",
       "      <td>0.0</td>\n",
       "      <td>6.753271</td>\n",
       "      <td>11.141605</td>\n",
       "      <td>Logs</td>\n",
       "      <td>2</td>\n",
       "      <td>1.0</td>\n",
       "    </tr>\n",
       "    <tr>\n",
       "      <th>455</th>\n",
       "      <td>2</td>\n",
       "      <td>8.421417</td>\n",
       "      <td>response</td>\n",
       "      <td>0</td>\n",
       "      <td>right</td>\n",
       "      <td>0.0</td>\n",
       "      <td>0.9</td>\n",
       "      <td>0.6</td>\n",
       "      <td>12.809751</td>\n",
       "      <td>0.0</td>\n",
       "      <td>8.421417</td>\n",
       "      <td>12.809751</td>\n",
       "      <td>Logs</td>\n",
       "      <td>2</td>\n",
       "      <td>1.0</td>\n",
       "    </tr>\n",
       "    <tr>\n",
       "      <th>457</th>\n",
       "      <td>3</td>\n",
       "      <td>9.996076</td>\n",
       "      <td>response</td>\n",
       "      <td>0</td>\n",
       "      <td>right</td>\n",
       "      <td>0.0</td>\n",
       "      <td>0.9</td>\n",
       "      <td>0.8</td>\n",
       "      <td>14.384410</td>\n",
       "      <td>0.0</td>\n",
       "      <td>9.996076</td>\n",
       "      <td>14.384410</td>\n",
       "      <td>Logs</td>\n",
       "      <td>2</td>\n",
       "      <td>1.0</td>\n",
       "    </tr>\n",
       "    <tr>\n",
       "      <th>459</th>\n",
       "      <td>4</td>\n",
       "      <td>11.496236</td>\n",
       "      <td>response</td>\n",
       "      <td>0</td>\n",
       "      <td>right</td>\n",
       "      <td>0.0</td>\n",
       "      <td>0.9</td>\n",
       "      <td>-0.6</td>\n",
       "      <td>15.884569</td>\n",
       "      <td>0.0</td>\n",
       "      <td>11.496236</td>\n",
       "      <td>15.884569</td>\n",
       "      <td>Logs</td>\n",
       "      <td>2</td>\n",
       "      <td>1.0</td>\n",
       "    </tr>\n",
       "  </tbody>\n",
       "</table>\n",
       "</div>"
      ],
      "text/plain": [
       "     trial_nr      onset event_type  phase response  nr_frames  color_balance  \\\n",
       "451         0   3.947723   response      0     left        0.0            0.1   \n",
       "453         1   6.753271   response      0     left        0.0            0.1   \n",
       "455         2   8.421417   response      0    right        0.0            0.9   \n",
       "457         3   9.996076   response      0    right        0.0            0.9   \n",
       "459         4  11.496236   response      0    right        0.0            0.9   \n",
       "\n",
       "     fix_intensity  onset_abs  duration        end    end_abs  task run  \\\n",
       "451            0.8   8.336057       0.0   3.947723   8.336057  Logs   2   \n",
       "453            0.8  11.141605       0.0   6.753271  11.141605  Logs   2   \n",
       "455            0.6  12.809751       0.0   8.421417  12.809751  Logs   2   \n",
       "457            0.8  14.384410       0.0   9.996076  14.384410  Logs   2   \n",
       "459           -0.6  15.884569       0.0  11.496236  15.884569  Logs   2   \n",
       "\n",
       "     correct  \n",
       "451      1.0  \n",
       "453      1.0  \n",
       "455      1.0  \n",
       "457      1.0  \n",
       "459      1.0  "
      ]
     },
     "execution_count": 212,
     "metadata": {},
     "output_type": "execute_result"
    }
   ],
   "source": [
    "df.loc[np.hstack((true_left,true_right)), 'correct'] = 1\n",
    "df.loc[np.hstack((false_left,false_right)), 'correct'] = 0\n",
    "df = df.dropna() # drop where color balance = 0.5\n",
    "df.head()"
   ]
  },
  {
   "cell_type": "markdown",
   "metadata": {},
   "source": [
    "Plot response light v.s. proportion light. Should increase together"
   ]
  },
  {
   "cell_type": "code",
   "execution_count": 213,
   "metadata": {},
   "outputs": [
    {
     "name": "stdout",
     "output_type": "stream",
     "text": [
      "% Light: 0.1, \t% Response Light 1.9\n",
      "% Light: 0.9, \t% Response Light 97.4\n"
     ]
    },
    {
     "data": {
      "text/plain": [
       "<matplotlib.collections.PathCollection at 0x13597a550>"
      ]
     },
     "execution_count": 213,
     "metadata": {},
     "output_type": "execute_result"
    },
    {
     "data": {
      "image/png": "[encoded data removed]",
      "text/plain": [
       "<Figure size 576x432 with 1 Axes>"
      ]
     },
     "metadata": {
      "needs_background": "light"
     },
     "output_type": "display_data"
    }
   ],
   "source": [
    "difficulties = sorted(df[(df.run == '2')].color_balance.unique())\n",
    "proportions = []\n",
    "\n",
    "for diff in difficulties:\n",
    "    print(f'% Light: {diff}, \\t% Response Light {round(len(df[(df.color_balance == diff) & (df.response == \"right\")]) / len(df[df.color_balance == diff]) *100,1)}')\n",
    "    proportions.append(len(df[(df.color_balance == diff) & (df.response == \"right\")]) / len(df[df.color_balance == diff]) *100)\n",
    "\n",
    "fig, axs = plt.subplots(1,1, figsize=(8,6))\n",
    "\n",
    "axs.set_title('% Response Light (Right) vs % Light')\n",
    "axs.set_ylabel('% Response \"Light')\n",
    "axs.set_xlabel('% Light')\n",
    "axs.scatter([f'{int(i*100)}%' for i in difficulties],proportions)"
   ]
  },
  {
   "cell_type": "markdown",
   "metadata": {},
   "source": [
    "Plot difficulty v.s. proportion correct"
   ]
  },
  {
   "cell_type": "code",
   "execution_count": 198,
   "metadata": {},
   "outputs": [
    {
     "data": {
      "text/plain": [
       "<matplotlib.collections.PathCollection at 0x134685a58>"
      ]
     },
     "execution_count": 198,
     "metadata": {},
     "output_type": "execute_result"
    },
    {
     "data": {
      "image/png": "[encoded data removed]",
      "text/plain": [
       "<Figure size 864x288 with 2 Axes>"
      ]
     },
     "metadata": {
      "needs_background": "light"
     },
     "output_type": "display_data"
    }
   ],
   "source": [
    "difficulties = sorted(df[(df.run == '13')].color_balance.unique())\n",
    "proportions = []\n",
    "\n",
    "for diff in difficulties:\n",
    "    print(f'Color balance: {abs(0.5 - diff):.2f}, prop_correct:{sum(df[df.color_balance == diff].correct)/len(df[df.color_balance == diff].correct):.2f}')\n",
    "    proportions.append(sum(df[df.color_balance == diff].correct)/len(df[df.color_balance == diff].correct))\n",
    "\n",
    "fig, axs = plt.subplots(1,2, figsize=(12,4))\n",
    "\n",
    "axs[0].set_title('Average Performance per Proportion')\n",
    "axs[0].set_ylabel('Proportion Correct')\n",
    "axs[0].set_xlabel('% Light')\n",
    "axs[0].scatter([f'{int(i*100)}%' for i in difficulties],proportions)\n",
    "\n",
    "axs[1].set_title('Average Performance per Difficulity')\n",
    "axs[1].set_ylabel('Proportion Correct')\n",
    "axs[1].set_xlabel('Distance from 50%')\n",
    "axs[1].scatter([int(abs(0.5-i)*100) for i in difficulties],proportions)"
   ]
  },
  {
   "cell_type": "markdown",
   "metadata": {},
   "source": [
    "# Analysis of Attn PRF Detection Task"
   ]
  },
  {
   "cell_type": "code",
   "execution_count": 113,
   "metadata": {},
   "outputs": [
    {
     "data": {
      "text/html": [
       "<div>\n",
       "<style scoped>\n",
       "    .dataframe tbody tr th:only-of-type {\n",
       "        vertical-align: middle;\n",
       "    }\n",
       "\n",
       "    .dataframe tbody tr th {\n",
       "        vertical-align: top;\n",
       "    }\n",
       "\n",
       "    .dataframe thead th {\n",
       "        text-align: right;\n",
       "    }\n",
       "</style>\n",
       "<table border=\"1\" class=\"dataframe\">\n",
       "  <thead>\n",
       "    <tr style=\"text-align: right;\">\n",
       "      <th></th>\n",
       "      <th>trial_nr</th>\n",
       "      <th>onset</th>\n",
       "      <th>event_type</th>\n",
       "      <th>phase</th>\n",
       "      <th>response</th>\n",
       "      <th>nr_frames</th>\n",
       "      <th>color_balance</th>\n",
       "      <th>fix_intensity</th>\n",
       "      <th>onset_abs</th>\n",
       "      <th>duration</th>\n",
       "      <th>end</th>\n",
       "      <th>end_abs</th>\n",
       "      <th>task</th>\n",
       "      <th>run</th>\n",
       "    </tr>\n",
       "  </thead>\n",
       "  <tbody>\n",
       "    <tr>\n",
       "      <th>1494</th>\n",
       "      <td>0</td>\n",
       "      <td>0.033202</td>\n",
       "      <td>stim</td>\n",
       "      <td>0</td>\n",
       "      <td>NaN</td>\n",
       "      <td>41.0</td>\n",
       "      <td>0.5</td>\n",
       "      <td>0.0</td>\n",
       "      <td>4.961443</td>\n",
       "      <td>0.344763</td>\n",
       "      <td>0.377965</td>\n",
       "      <td>5.306206</td>\n",
       "      <td>smallAF</td>\n",
       "      <td>12</td>\n",
       "    </tr>\n",
       "    <tr>\n",
       "      <th>1495</th>\n",
       "      <td>0</td>\n",
       "      <td>0.753004</td>\n",
       "      <td>stim</td>\n",
       "      <td>2</td>\n",
       "      <td>NaN</td>\n",
       "      <td>45.0</td>\n",
       "      <td>0.5</td>\n",
       "      <td>0.0</td>\n",
       "      <td>5.681244</td>\n",
       "      <td>0.374961</td>\n",
       "      <td>1.127964</td>\n",
       "      <td>6.056205</td>\n",
       "      <td>smallAF</td>\n",
       "      <td>12</td>\n",
       "    </tr>\n",
       "    <tr>\n",
       "      <th>1496</th>\n",
       "      <td>1</td>\n",
       "      <td>1.503000</td>\n",
       "      <td>stim</td>\n",
       "      <td>0</td>\n",
       "      <td>NaN</td>\n",
       "      <td>45.0</td>\n",
       "      <td>0.5</td>\n",
       "      <td>0.0</td>\n",
       "      <td>6.431241</td>\n",
       "      <td>0.374959</td>\n",
       "      <td>1.877959</td>\n",
       "      <td>6.806200</td>\n",
       "      <td>smallAF</td>\n",
       "      <td>12</td>\n",
       "    </tr>\n",
       "    <tr>\n",
       "      <th>1497</th>\n",
       "      <td>1</td>\n",
       "      <td>2.252952</td>\n",
       "      <td>stim</td>\n",
       "      <td>2</td>\n",
       "      <td>NaN</td>\n",
       "      <td>45.0</td>\n",
       "      <td>0.5</td>\n",
       "      <td>0.0</td>\n",
       "      <td>7.181192</td>\n",
       "      <td>0.374974</td>\n",
       "      <td>2.627925</td>\n",
       "      <td>7.556166</td>\n",
       "      <td>smallAF</td>\n",
       "      <td>12</td>\n",
       "    </tr>\n",
       "    <tr>\n",
       "      <th>1498</th>\n",
       "      <td>2</td>\n",
       "      <td>3.002946</td>\n",
       "      <td>stim</td>\n",
       "      <td>0</td>\n",
       "      <td>NaN</td>\n",
       "      <td>44.0</td>\n",
       "      <td>0.5</td>\n",
       "      <td>0.0</td>\n",
       "      <td>7.931187</td>\n",
       "      <td>0.375006</td>\n",
       "      <td>3.377952</td>\n",
       "      <td>8.306193</td>\n",
       "      <td>smallAF</td>\n",
       "      <td>12</td>\n",
       "    </tr>\n",
       "  </tbody>\n",
       "</table>\n",
       "</div>"
      ],
      "text/plain": [
       "      trial_nr     onset event_type  phase response  nr_frames  color_balance  \\\n",
       "1494         0  0.033202       stim      0      NaN       41.0            0.5   \n",
       "1495         0  0.753004       stim      2      NaN       45.0            0.5   \n",
       "1496         1  1.503000       stim      0      NaN       45.0            0.5   \n",
       "1497         1  2.252952       stim      2      NaN       45.0            0.5   \n",
       "1498         2  3.002946       stim      0      NaN       44.0            0.5   \n",
       "\n",
       "      fix_intensity  onset_abs  duration       end   end_abs     task run  \n",
       "1494            0.0   4.961443  0.344763  0.377965  5.306206  smallAF  12  \n",
       "1495            0.0   5.681244  0.374961  1.127964  6.056205  smallAF  12  \n",
       "1496            0.0   6.431241  0.374959  1.877959  6.806200  smallAF  12  \n",
       "1497            0.0   7.181192  0.374974  2.627925  7.556166  smallAF  12  \n",
       "1498            0.0   7.931187  0.375006  3.377952  8.306193  smallAF  12  "
      ]
     },
     "execution_count": 113,
     "metadata": {},
     "output_type": "execute_result"
    }
   ],
   "source": [
    "f_names = glob.glob(\"logs/*/*.tsv\")\n",
    "all_logs = load_data(f_names)\n",
    "all_logs[(all_logs.run == '12')].head()"
   ]
  },
  {
   "cell_type": "markdown",
   "metadata": {},
   "source": [
    "Calculate correct and incorrect responses. Use this to get hits (true positives), misses (false negatives), false alarms (false positives) and correct rejections (true negatives). Once we have these values we can calculate d' and the criterion (c). \n",
    "\n",
    "### Summary per run"
   ]
  },
  {
   "cell_type": "code",
   "execution_count": 114,
   "metadata": {},
   "outputs": [
    {
     "data": {
      "text/html": [
       "<div>\n",
       "<style scoped>\n",
       "    .dataframe tbody tr th:only-of-type {\n",
       "        vertical-align: middle;\n",
       "    }\n",
       "\n",
       "    .dataframe tbody tr th {\n",
       "        vertical-align: top;\n",
       "    }\n",
       "\n",
       "    .dataframe thead th {\n",
       "        text-align: right;\n",
       "    }\n",
       "</style>\n",
       "<table border=\"1\" class=\"dataframe\">\n",
       "  <thead>\n",
       "    <tr style=\"text-align: right;\">\n",
       "      <th></th>\n",
       "      <th>run</th>\n",
       "      <th>task</th>\n",
       "      <th>hits</th>\n",
       "      <th>misses</th>\n",
       "      <th>fas</th>\n",
       "      <th>correjs</th>\n",
       "      <th>dprime</th>\n",
       "      <th>criterion</th>\n",
       "      <th>difficulties</th>\n",
       "    </tr>\n",
       "  </thead>\n",
       "  <tbody>\n",
       "    <tr>\n",
       "      <th>0</th>\n",
       "      <td>7</td>\n",
       "      <td>color_balance</td>\n",
       "      <td>60</td>\n",
       "      <td>28</td>\n",
       "      <td>1</td>\n",
       "      <td>333</td>\n",
       "      <td>3.221226</td>\n",
       "      <td>1.137824</td>\n",
       "      <td>[0.25, 0.3, 0.5, 0.7, 0.75]</td>\n",
       "    </tr>\n",
       "    <tr>\n",
       "      <th>1</th>\n",
       "      <td>8</td>\n",
       "      <td>fix_intensity</td>\n",
       "      <td>34</td>\n",
       "      <td>54</td>\n",
       "      <td>3</td>\n",
       "      <td>307</td>\n",
       "      <td>2.049816</td>\n",
       "      <td>1.313717</td>\n",
       "      <td>[-0.05, -0.03, 0.0, 0.03, 0.05]</td>\n",
       "    </tr>\n",
       "    <tr>\n",
       "      <th>2</th>\n",
       "      <td>9</td>\n",
       "      <td>color_balance</td>\n",
       "      <td>34</td>\n",
       "      <td>38</td>\n",
       "      <td>1</td>\n",
       "      <td>339</td>\n",
       "      <td>2.684583</td>\n",
       "      <td>1.411977</td>\n",
       "      <td>[0.2, 0.4, 0.5, 0.6, 0.7]</td>\n",
       "    </tr>\n",
       "    <tr>\n",
       "      <th>3</th>\n",
       "      <td>10</td>\n",
       "      <td>fix_intensity</td>\n",
       "      <td>47</td>\n",
       "      <td>25</td>\n",
       "      <td>3</td>\n",
       "      <td>352</td>\n",
       "      <td>2.781676</td>\n",
       "      <td>0.998007</td>\n",
       "      <td>[-0.07, -0.06, 0.0, 0.06, 0.07]</td>\n",
       "    </tr>\n",
       "    <tr>\n",
       "      <th>4</th>\n",
       "      <td>11</td>\n",
       "      <td>color_balance</td>\n",
       "      <td>35</td>\n",
       "      <td>37</td>\n",
       "      <td>1</td>\n",
       "      <td>340</td>\n",
       "      <td>2.720408</td>\n",
       "      <td>1.395025</td>\n",
       "      <td>[0.35, 0.45, 0.5, 0.65, 0.8]</td>\n",
       "    </tr>\n",
       "    <tr>\n",
       "      <th>5</th>\n",
       "      <td>12</td>\n",
       "      <td>fix_intensity</td>\n",
       "      <td>31</td>\n",
       "      <td>41</td>\n",
       "      <td>6</td>\n",
       "      <td>336</td>\n",
       "      <td>1.932385</td>\n",
       "      <td>1.141152</td>\n",
       "      <td>[-0.09, -0.02, 0.0, 0.02, 0.09]</td>\n",
       "    </tr>\n",
       "  </tbody>\n",
       "</table>\n",
       "</div>"
      ],
      "text/plain": [
       "  run           task hits misses fas correjs    dprime  criterion  \\\n",
       "0   7  color_balance   60     28   1     333  3.221226   1.137824   \n",
       "1   8  fix_intensity   34     54   3     307  2.049816   1.313717   \n",
       "2   9  color_balance   34     38   1     339  2.684583   1.411977   \n",
       "3  10  fix_intensity   47     25   3     352  2.781676   0.998007   \n",
       "4  11  color_balance   35     37   1     340  2.720408   1.395025   \n",
       "5  12  fix_intensity   31     41   6     336  1.932385   1.141152   \n",
       "\n",
       "                      difficulties  \n",
       "0      [0.25, 0.3, 0.5, 0.7, 0.75]  \n",
       "1  [-0.05, -0.03, 0.0, 0.03, 0.05]  \n",
       "2        [0.2, 0.4, 0.5, 0.6, 0.7]  \n",
       "3  [-0.07, -0.06, 0.0, 0.06, 0.07]  \n",
       "4     [0.35, 0.45, 0.5, 0.65, 0.8]  \n",
       "5  [-0.09, -0.02, 0.0, 0.02, 0.09]  "
      ]
     },
     "execution_count": 114,
     "metadata": {},
     "output_type": "execute_result"
    }
   ],
   "source": [
    "psyc, d_primes, large_cor, small_cor = analyse_logs(all_logs)\n",
    "psyc"
   ]
  },
  {
   "cell_type": "markdown",
   "metadata": {},
   "source": [
    "We can also calculate d' per difficulty level and plot this to see if two task difficulties are comparable. Unfortunately d' can go to infinity so many points are missing from the performance curves... and we're unsure if they're sigmoidal."
   ]
  },
  {
   "cell_type": "code",
   "execution_count": 115,
   "metadata": {},
   "outputs": [
    {
     "data": {
      "text/html": [
       "<div>\n",
       "<style scoped>\n",
       "    .dataframe tbody tr th:only-of-type {\n",
       "        vertical-align: middle;\n",
       "    }\n",
       "\n",
       "    .dataframe tbody tr th {\n",
       "        vertical-align: top;\n",
       "    }\n",
       "\n",
       "    .dataframe thead th {\n",
       "        text-align: right;\n",
       "    }\n",
       "</style>\n",
       "<table border=\"1\" class=\"dataframe\">\n",
       "  <thead>\n",
       "    <tr style=\"text-align: right;\">\n",
       "      <th></th>\n",
       "      <th>run</th>\n",
       "      <th>task</th>\n",
       "      <th>difficulty</th>\n",
       "      <th>hit_rate</th>\n",
       "      <th>fa_rate</th>\n",
       "      <th>d_prime</th>\n",
       "      <th>criterion</th>\n",
       "    </tr>\n",
       "  </thead>\n",
       "  <tbody>\n",
       "    <tr>\n",
       "      <th>0</th>\n",
       "      <td>7</td>\n",
       "      <td>color_balance</td>\n",
       "      <td>0.25</td>\n",
       "      <td>0.909091</td>\n",
       "      <td>0.002994</td>\n",
       "      <td>4.083614</td>\n",
       "      <td>0.706629</td>\n",
       "    </tr>\n",
       "    <tr>\n",
       "      <th>1</th>\n",
       "      <td>7</td>\n",
       "      <td>color_balance</td>\n",
       "      <td>0.30</td>\n",
       "      <td>0.500000</td>\n",
       "      <td>0.002994</td>\n",
       "      <td>2.748436</td>\n",
       "      <td>1.374218</td>\n",
       "    </tr>\n",
       "    <tr>\n",
       "      <th>2</th>\n",
       "      <td>7</td>\n",
       "      <td>color_balance</td>\n",
       "      <td>0.70</td>\n",
       "      <td>0.636364</td>\n",
       "      <td>0.002994</td>\n",
       "      <td>3.097192</td>\n",
       "      <td>1.199840</td>\n",
       "    </tr>\n",
       "    <tr>\n",
       "      <th>3</th>\n",
       "      <td>7</td>\n",
       "      <td>color_balance</td>\n",
       "      <td>0.75</td>\n",
       "      <td>0.681818</td>\n",
       "      <td>0.002994</td>\n",
       "      <td>3.221226</td>\n",
       "      <td>1.137824</td>\n",
       "    </tr>\n",
       "    <tr>\n",
       "      <th>4</th>\n",
       "      <td>8</td>\n",
       "      <td>fix_intensity</td>\n",
       "      <td>-0.05</td>\n",
       "      <td>0.590909</td>\n",
       "      <td>0.009677</td>\n",
       "      <td>2.568509</td>\n",
       "      <td>1.054371</td>\n",
       "    </tr>\n",
       "  </tbody>\n",
       "</table>\n",
       "</div>"
      ],
      "text/plain": [
       "  run           task  difficulty  hit_rate   fa_rate   d_prime  criterion\n",
       "0   7  color_balance        0.25  0.909091  0.002994  4.083614   0.706629\n",
       "1   7  color_balance        0.30  0.500000  0.002994  2.748436   1.374218\n",
       "2   7  color_balance        0.70  0.636364  0.002994  3.097192   1.199840\n",
       "3   7  color_balance        0.75  0.681818  0.002994  3.221226   1.137824\n",
       "4   8  fix_intensity       -0.05  0.590909  0.009677  2.568509   1.054371"
      ]
     },
     "execution_count": 115,
     "metadata": {},
     "output_type": "execute_result"
    }
   ],
   "source": [
    "Z = norm.ppf\n",
    "d_primes['d_prime']= Z(d_primes['hit_rate'])- Z(d_primes['fa_rate'])\n",
    "d_primes['criterion'] = -(Z(d_primes['hit_rate']) + Z(d_primes['fa_rate'])) / 2\n",
    "d_primes.head()"
   ]
  },
  {
   "cell_type": "code",
   "execution_count": 116,
   "metadata": {},
   "outputs": [],
   "source": [
    "large_AF = d_primes[d_primes['run'].astype(int) % 2 == 1]\n",
    "small_AF = d_primes[d_primes['run'].astype(int) % 2 == 0]"
   ]
  },
  {
   "cell_type": "code",
   "execution_count": 117,
   "metadata": {},
   "outputs": [
    {
     "data": {
      "text/plain": [
       "Text(0, 0.5, 'Dprime')"
      ]
     },
     "execution_count": 117,
     "metadata": {},
     "output_type": "execute_result"
    },
    {
     "data": {
      "image/png": "[encoded data removed]",
      "text/plain": [
       "<Figure size 864x288 with 2 Axes>"
      ]
     },
     "metadata": {
      "needs_background": "light"
     },
     "output_type": "display_data"
    }
   ],
   "source": [
    "fig, (ax1,ax2) = plt.subplots(1, 2, figsize=(12,4))\n",
    "\n",
    "ax1.set_title('SmallAF')\n",
    "ax1.scatter(abs(small_AF['difficulty']),small_AF['d_prime'])\n",
    "ax1.set_ylabel('Dprime')\n",
    "\n",
    "ax2.set_title('LargeAF')\n",
    "ax2.scatter(abs(large_AF['difficulty']-0.5),large_AF['d_prime'],color='orange')\n",
    "ax2.set_ylabel('Dprime')"
   ]
  },
  {
   "cell_type": "markdown",
   "metadata": {},
   "source": [
    "We can also use proportion correct to create psychometric curves - although these are not traditional sigmoidal psychometric curves which are designed for 2 alternative forced-choice (2AFC) task. "
   ]
  },
  {
   "cell_type": "code",
   "execution_count": 118,
   "metadata": {},
   "outputs": [],
   "source": [
    "largex, largey = (np.array([i[0] for i in large_cor]), \n",
    "                  np.array([i[1] for i in large_cor]))\n",
    "smallx,smally = (np.array([i[0] for i in small_cor]), \n",
    "                np.array([i[1] for i in small_cor]))"
   ]
  },
  {
   "cell_type": "code",
   "execution_count": 119,
   "metadata": {},
   "outputs": [
    {
     "data": {
      "text/plain": [
       "<matplotlib.collections.PathCollection at 0x130d6cf28>"
      ]
     },
     "execution_count": 119,
     "metadata": {},
     "output_type": "execute_result"
    },
    {
     "data": {
      "image/png": "[encoded data removed]",
      "text/plain": [
       "<Figure size 864x576 with 4 Axes>"
      ]
     },
     "metadata": {
      "needs_background": "light"
     },
     "output_type": "display_data"
    }
   ],
   "source": [
    "fig, ((ax1,ax2),(ax3,ax4)) = plt.subplots(2, 2, figsize=(12,8))\n",
    "\n",
    "ax1.set_title('LargeAF_Sigmoid')\n",
    "ax1.scatter([abs(i[0]-0.5) for i in large_cor], [i[1] for i in large_cor])\n",
    "ax1.set_ylabel('Proportion Correct')\n",
    "\n",
    "ax2.set_title('LargeAF_Gauss')\n",
    "ax2.scatter([i[0] for i in large_cor], [i[1] for i in large_cor])\n",
    "ax2.set_ylabel('Proportion Correct')\n",
    "\n",
    "ax3.set_title('SmallAF_Sigmoid')\n",
    "ax3.set_ylim(0,1)\n",
    "ax3.scatter([abs(i[0]-0) for i in small_cor], [i[1] for i in small_cor], color='orange')\n",
    "\n",
    "ax4.set_title('SmallAF_Gauss')\n",
    "ax4.set_ylim(0,1)\n",
    "ax4.scatter([i[0] for i in small_cor], [i[1] for i in small_cor], color='orange')"
   ]
  },
  {
   "cell_type": "markdown",
   "metadata": {},
   "source": [
    "Lastly we can fit a sigmoid function to each of these curves."
   ]
  },
  {
   "cell_type": "code",
   "execution_count": 120,
   "metadata": {},
   "outputs": [
    {
     "name": "stdout",
     "output_type": "stream",
     "text": [
      "[ 0.17465133 19.68596984]\n"
     ]
    },
    {
     "data": {
      "image/png": "[encoded data removed]",
      "text/plain": [
       "<Figure size 432x288 with 1 Axes>"
      ]
     },
     "metadata": {
      "needs_background": "light"
     },
     "output_type": "display_data"
    },
    {
     "name": "stdout",
     "output_type": "stream",
     "text": [
      "[5.27731781e-02 5.75644180e+01]\n"
     ]
    },
    {
     "data": {
      "image/png": "[encoded data removed]",
      "text/plain": [
       "<Figure size 432x288 with 1 Axes>"
      ]
     },
     "metadata": {
      "needs_background": "light"
     },
     "output_type": "display_data"
    }
   ],
   "source": [
    "def sigmoid(x, x0, k):\n",
    "     y = 1 / (1 + np.exp(-k*(x-x0)))\n",
    "     return y\n",
    "\n",
    "xdata = abs(largex-0.5) # abs(large_AF['difficulty']-0.5)[large_AF.replace([np.inf,-np.inf],np.nan).dropna().index]\n",
    "ydata = largey # large_AF.replace([np.inf,-np.inf],np.nan).dropna()['d_prime']\n",
    "\n",
    "popt, pcov = curve_fit(sigmoid, xdata, ydata)\n",
    "print(popt)\n",
    "\n",
    "x = np.linspace(0.0, 0.4, 20)\n",
    "y = sigmoid(x, *popt)\n",
    "\n",
    "plt.plot(xdata, ydata, 'o', label='data')\n",
    "plt.title('LargeAF')\n",
    "plt.plot(x,y, label='fit')\n",
    "plt.ylim(0, 1)\n",
    "plt.ylabel('proportion correct')\n",
    "plt.legend(loc='best')\n",
    "plt.show()\n",
    "\n",
    "xdata = abs(smallx) # abs(small_AF['difficulty'])[small_AF.replace([np.inf,-np.inf],np.nan).dropna()['d_prime'].index]\n",
    "ydata = smally # small_AF.replace([np.inf,-np.inf],np.nan).dropna()['d_prime']\n",
    "\n",
    "popt, pcov = curve_fit(sigmoid, xdata, ydata)\n",
    "print(popt)\n",
    "\n",
    "x = np.linspace(0.0, 0.1, 20)\n",
    "y = sigmoid(x, *popt)\n",
    "\n",
    "plt.plot(xdata, ydata, 'o', label='data')\n",
    "plt.title('SmallAF')\n",
    "plt.plot(x,y, label='fit')\n",
    "plt.ylim(0, 1)\n",
    "plt.ylabel('proportion correct')\n",
    "plt.legend(loc='best')\n",
    "plt.show()"
   ]
  },
  {
   "cell_type": "markdown",
   "metadata": {},
   "source": [
    "# Modeling psychometric curve"
   ]
  },
  {
   "cell_type": "code",
   "execution_count": null,
   "metadata": {},
   "outputs": [],
   "source": [
    "def model_pr():\n",
    "    '''\n",
    "    return array of probabilities corresponding to GAUSSIAN cdf\n",
    "    stimuli is range of color_balances / fix intensities\n",
    "    loc\n",
    "    sd / scale\n",
    "    '''\n",
    "    \n",
    "    stim_x = np.arange(0,0.6,0.05)\n",
    "    mu = 0.3\n",
    "    sd = 0.1\n",
    "    \n",
    "    model_pr = norm.cdf(stim_x, mu,sd)\n",
    "    \n",
    "    return stim_x, model_pr"
   ]
  },
  {
   "cell_type": "code",
   "execution_count": null,
   "metadata": {},
   "outputs": [],
   "source": [
    "x,pr = model_pr()\n",
    "plt.plot(x, pr, color='k', marker='x', lw=2, ls='--')\n",
    "plt.xlim(0,0.6)\n",
    "plt.ylim(0,1)\n",
    "plt.show()"
   ]
  }
 ],
 "metadata": {
  "kernelspec": {
   "display_name": "Python 3",
   "language": "python",
   "name": "python3"
  },
  "language_info": {
   "codemirror_mode": {
    "name": "ipython",
    "version": 3
   },
   "file_extension": ".py",
   "mimetype": "text/x-python",
   "name": "python",
   "nbconvert_exporter": "python",
   "pygments_lexer": "ipython3",
   "version": "3.7.0"
  }
 },
 "nbformat": 4,
 "nbformat_minor": 2
}
