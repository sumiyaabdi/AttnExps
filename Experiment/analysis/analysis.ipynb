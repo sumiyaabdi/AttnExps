{
 "cells": [
  {
   "cell_type": "code",
   "execution_count": 1,
   "metadata": {},
   "outputs": [
    {
     "data": {
      "text/plain": [
       "'/Users/sumiyaabdirashid/Desktop/PhD/code/git/PRF_Experiment_Checkers/Experiment'"
      ]
     },
     "execution_count": 1,
     "metadata": {},
     "output_type": "execute_result"
    }
   ],
   "source": [
    "import pandas as pd\n",
    "import numpy as np\n",
    "import os\n",
    "from psychopy import visual, tools\n",
    "import glob\n",
    "import matplotlib.pyplot as plt\n",
    "from scipy.stats import norm\n",
    "import warnings\n",
    "warnings.filterwarnings('ignore')\n",
    "\n",
    "os.chdir('../')\n",
    "os.getcwd()"
   ]
  },
  {
   "cell_type": "markdown",
   "metadata": {},
   "source": [
    "# D-prime calculation"
   ]
  },
  {
   "cell_type": "code",
   "execution_count": null,
   "metadata": {},
   "outputs": [],
   "source": [
    "f_name = '0_0_attn_0_Logs20210216224329/0_0_attn_0_events.tsv'\n",
    "df = pd.read_table(f_name, keep_default_na=True)\n",
    "\n",
    "# change NaNs to 0 \n",
    "df['duration'] = df['duration'].fillna(0)\n",
    "df['nr_frames'] = df['nr_frames'].fillna(0)\n",
    "\n",
    "# add columns for end times\n",
    "df['end'] = df.onset + df.duration\n",
    "df['end_abs'] = df.onset_abs + df.durationZ = norm.ppf"
   ]
  },
  {
   "cell_type": "code",
   "execution_count": 3,
   "metadata": {},
   "outputs": [],
   "source": [
    "def d_prime(hits,misses,fas,crs):\n",
    "    \"\"\"\n",
    "    calculate d' from hits(tp), misses(fn), false\n",
    "    alarms (fp), and correct rejections (tn)\n",
    "    \n",
    "    returns: d_prime\n",
    "    \"\"\"\n",
    "    \n",
    "    half_hit = 0.5 / (hits+misses)\n",
    "    half_fa = 0.5 / (fas+crs)\n",
    "    \n",
    "    hit_rate = hits/(hits+misses)\n",
    "    fa_rate = fas/(fas + crs)\n",
    "    \n",
    "    # avoid d' infinity\n",
    "    if hit_rate == 1:\n",
    "        hit_rate = 1 -half_hit\n",
    "    elif hit_rate == 0:\n",
    "        hit_rate = half_hit\n",
    "        \n",
    "    if fa_rate == 1:\n",
    "        fa_rate = 1 - half_fa\n",
    "    elif fa_rate == 0:\n",
    "        fa_rate = half_fa\n",
    "    \n",
    "    d_prime = Z(hit_rate) - Z(fa_rate)\n",
    "    c = -(Z(hit_rate) + Z(fa_rate)) / 2\n",
    "#     print(f'Hit rate: \\t {hit_rate} \\nFalse Alarm rate: {fa_rate}')\n",
    "    \n",
    "    return d_prime , c"
   ]
  },
  {
   "cell_type": "markdown",
   "metadata": {},
   "source": [
    "# Analysis from pRF+AttnStim"
   ]
  },
  {
   "cell_type": "markdown",
   "metadata": {},
   "source": [
    "Load data into Pandas dataframe"
   ]
  },
  {
   "cell_type": "code",
   "execution_count": 4,
   "metadata": {},
   "outputs": [],
   "source": [
    "def load_data():\n",
    "    \"\"\"\n",
    "    Loads data in logs folder unless run is passed as an excluded run.\n",
    "    Automatically excludes 0 runs.\n",
    "    \n",
    "    exclude_run (int or array, optional): runs to exclude\n",
    "    \n",
    "    returns: dataframe containing runs\n",
    "    \n",
    "    \"\"\"\n",
    "\n",
    "    f_names = glob.glob(\"logs/*/*.tsv\")\n",
    "    all_logs = pd.DataFrame([])\n",
    "\n",
    "    for f in f_names:  \n",
    "        #skip 0 and exclude trials\n",
    "        if f.split('/')[1].split('_')[3] == '0':\n",
    "            continue\n",
    "        \n",
    "        df = pd.read_table(f, keep_default_na=True)\n",
    "\n",
    "        # drop ISI rows\n",
    "        df = df.drop(df[(df.phase % 2 == 0) & (df.event_type == 'stim')].index)\n",
    "\n",
    "        # change NaNs to 0 \n",
    "        df['duration'] = df['duration'].fillna(0)\n",
    "        df['nr_frames'] = df['nr_frames'].fillna(0)\n",
    "\n",
    "        # add columns for end times\n",
    "        df['end'] = df.onset + df.duration\n",
    "        df['end_abs'] = df.onset_abs + df.duration\n",
    "\n",
    "        # add column for task and color\n",
    "        df['task'] = f.split('/')[1].split('_')[-1]\n",
    "        df['color'] = f.split('/')[1].split('_')[-2]\n",
    "        df['run'] = f.split('/')[1].split('_')[3]\n",
    "\n",
    "        all_logs = all_logs.append(df, ignore_index=True)\n",
    "        \n",
    "    return all_logs"
   ]
  },
  {
   "cell_type": "code",
   "execution_count": 5,
   "metadata": {},
   "outputs": [
    {
     "data": {
      "text/html": [
       "<div>\n",
       "<style scoped>\n",
       "    .dataframe tbody tr th:only-of-type {\n",
       "        vertical-align: middle;\n",
       "    }\n",
       "\n",
       "    .dataframe tbody tr th {\n",
       "        vertical-align: top;\n",
       "    }\n",
       "\n",
       "    .dataframe thead th {\n",
       "        text-align: right;\n",
       "    }\n",
       "</style>\n",
       "<table border=\"1\" class=\"dataframe\">\n",
       "  <thead>\n",
       "    <tr style=\"text-align: right;\">\n",
       "      <th></th>\n",
       "      <th>trial_nr</th>\n",
       "      <th>onset</th>\n",
       "      <th>event_type</th>\n",
       "      <th>phase</th>\n",
       "      <th>response</th>\n",
       "      <th>nr_frames</th>\n",
       "      <th>color_balance</th>\n",
       "      <th>fix_intensity</th>\n",
       "      <th>onset_abs</th>\n",
       "      <th>duration</th>\n",
       "      <th>end</th>\n",
       "      <th>end_abs</th>\n",
       "      <th>task</th>\n",
       "      <th>color</th>\n",
       "      <th>run</th>\n",
       "    </tr>\n",
       "  </thead>\n",
       "  <tbody>\n",
       "    <tr>\n",
       "      <th>498</th>\n",
       "      <td>0</td>\n",
       "      <td>0.378054</td>\n",
       "      <td>stim</td>\n",
       "      <td>1</td>\n",
       "      <td>NaN</td>\n",
       "      <td>35.0</td>\n",
       "      <td>0.5</td>\n",
       "      <td>0.0</td>\n",
       "      <td>3.719669</td>\n",
       "      <td>0.374999</td>\n",
       "      <td>0.753054</td>\n",
       "      <td>4.094669</td>\n",
       "      <td>largeAF</td>\n",
       "      <td>gray</td>\n",
       "      <td>11</td>\n",
       "    </tr>\n",
       "    <tr>\n",
       "      <th>499</th>\n",
       "      <td>0</td>\n",
       "      <td>1.128051</td>\n",
       "      <td>stim</td>\n",
       "      <td>3</td>\n",
       "      <td>NaN</td>\n",
       "      <td>34.0</td>\n",
       "      <td>0.5</td>\n",
       "      <td>0.0</td>\n",
       "      <td>4.469666</td>\n",
       "      <td>0.375001</td>\n",
       "      <td>1.503052</td>\n",
       "      <td>4.844667</td>\n",
       "      <td>largeAF</td>\n",
       "      <td>gray</td>\n",
       "      <td>11</td>\n",
       "    </tr>\n",
       "    <tr>\n",
       "      <th>500</th>\n",
       "      <td>1</td>\n",
       "      <td>1.878051</td>\n",
       "      <td>stim</td>\n",
       "      <td>1</td>\n",
       "      <td>NaN</td>\n",
       "      <td>35.0</td>\n",
       "      <td>0.5</td>\n",
       "      <td>0.0</td>\n",
       "      <td>5.219666</td>\n",
       "      <td>0.374993</td>\n",
       "      <td>2.253044</td>\n",
       "      <td>5.594659</td>\n",
       "      <td>largeAF</td>\n",
       "      <td>gray</td>\n",
       "      <td>11</td>\n",
       "    </tr>\n",
       "    <tr>\n",
       "      <th>501</th>\n",
       "      <td>1</td>\n",
       "      <td>2.628045</td>\n",
       "      <td>stim</td>\n",
       "      <td>3</td>\n",
       "      <td>NaN</td>\n",
       "      <td>36.0</td>\n",
       "      <td>0.8</td>\n",
       "      <td>0.0</td>\n",
       "      <td>5.969660</td>\n",
       "      <td>0.382127</td>\n",
       "      <td>3.010172</td>\n",
       "      <td>6.351787</td>\n",
       "      <td>largeAF</td>\n",
       "      <td>gray</td>\n",
       "      <td>11</td>\n",
       "    </tr>\n",
       "    <tr>\n",
       "      <th>502</th>\n",
       "      <td>2</td>\n",
       "      <td>3.226905</td>\n",
       "      <td>response</td>\n",
       "      <td>0</td>\n",
       "      <td>space</td>\n",
       "      <td>0.0</td>\n",
       "      <td>0.8</td>\n",
       "      <td>0.0</td>\n",
       "      <td>6.568521</td>\n",
       "      <td>0.000000</td>\n",
       "      <td>3.226905</td>\n",
       "      <td>6.568521</td>\n",
       "      <td>largeAF</td>\n",
       "      <td>gray</td>\n",
       "      <td>11</td>\n",
       "    </tr>\n",
       "  </tbody>\n",
       "</table>\n",
       "</div>"
      ],
      "text/plain": [
       "     trial_nr     onset event_type  phase response  nr_frames  color_balance  \\\n",
       "498         0  0.378054       stim      1      NaN       35.0            0.5   \n",
       "499         0  1.128051       stim      3      NaN       34.0            0.5   \n",
       "500         1  1.878051       stim      1      NaN       35.0            0.5   \n",
       "501         1  2.628045       stim      3      NaN       36.0            0.8   \n",
       "502         2  3.226905   response      0    space        0.0            0.8   \n",
       "\n",
       "     fix_intensity  onset_abs  duration       end   end_abs     task color run  \n",
       "498            0.0   3.719669  0.374999  0.753054  4.094669  largeAF  gray  11  \n",
       "499            0.0   4.469666  0.375001  1.503052  4.844667  largeAF  gray  11  \n",
       "500            0.0   5.219666  0.374993  2.253044  5.594659  largeAF  gray  11  \n",
       "501            0.0   5.969660  0.382127  3.010172  6.351787  largeAF  gray  11  \n",
       "502            0.0   6.568521  0.000000  3.226905  6.568521  largeAF  gray  11  "
      ]
     },
     "execution_count": 5,
     "metadata": {},
     "output_type": "execute_result"
    }
   ],
   "source": [
    "## run some tests\n",
    "\n",
    "# does run exist? \n",
    "# does run contain responses?\n",
    "# does run log color_balance and fix_intensity values correctly?\n",
    "\n",
    "all_logs = load_data()\n",
    "all_logs[(all_logs.run == '11')].head()"
   ]
  },
  {
   "cell_type": "markdown",
   "metadata": {},
   "source": [
    "Calculate correct and incorrect responses. Use this to get hits (true positives), misses (false negatives), false alarms (false positives) and correct rejections (true negatives). Once we have these values we can calculate d'"
   ]
  },
  {
   "cell_type": "code",
   "execution_count": 6,
   "metadata": {},
   "outputs": [],
   "source": [
    "# testing analyse runs function\n",
    "def analyse_logs(all_logs):\n",
    "    \"\"\"\n",
    "    Analyses dataframe containing l\n",
    "    \"\"\"\n",
    "    for this_run in all_logs['run'].unique():\n",
    "        df = all_logs[all_logs['run'] == this_run]\n",
    "        if df.task.iloc[0] == 'large_AF':\n",
    "            task = 'color_balance'\n",
    "            baseline = 0.5\n",
    "        elif df.task.iloc[0] == 'small_AF':\n",
    "            task = 'fix_intensity'\n",
    "            baseline = 0\n",
    "\n",
    "        stim_df = df[df.event_type =='stim']\n",
    "        switch_loc = np.diff(stim_df[task], prepend=baseline) != 0\n",
    "        switch_loc = stim_df[(switch_loc) & (stim_df[task] != baseline)].index # drop values where color_balance is 0.5\n",
    "        responses = df.loc[df.response == 'space']\n",
    "\n",
    "        tp = sum([(abs(i - responses.onset) < duration).any() \\\n",
    "              for i in stim_df.loc[switch_loc].end]) # true positives\n",
    "        fn = len(switch_loc) - tp # false negatives (missed switches)\n",
    "        fp = len(responses) - tp # false positives (responded with no switch)\n",
    "        tn = len(stim_df) - len(switch_loc) - fn # true negative\n",
    "\n",
    "        accuracy = (tp + tn)/(tp+fn+fp+tn)\n",
    "        d,_ = d_prime(tp,fn,fp,tn)\n",
    "\n",
    "        print(f'RUN {this_run}, {task} {df.color_balance.unique()}\\n',\n",
    "              f'Hits: {tp} / {len(switch_loc)} \\n',\n",
    "              f'Misses: {len(switch_loc) - tp} / {len(switch_loc)}  \\n',\n",
    "              f'False alarms: {fp} / {len(stim_df) - len(switch_loc)}   \\n',\n",
    "              f'Correct rejecton: {tn} / {len(stim_df) - len(switch_loc)}  \\n',\n",
    "              f'Accuracy :  {accuracy:.3f}\\n',\n",
    "              f\"D' : {d:.3f}\\n\")"
   ]
  },
  {
   "cell_type": "markdown",
   "metadata": {},
   "source": [
    "Next, in order to create a psychometric curve we need to label each stimulus value with 1 (for correct hit or rejection) or 0 (for false alarm or miss). This is a bit challenging given the timing of the task... trying to figure out how not to double-count things"
   ]
  },
  {
   "cell_type": "code",
   "execution_count": 7,
   "metadata": {},
   "outputs": [
    {
     "ename": "NameError",
     "evalue": "name 'stim_df' is not defined",
     "output_type": "error",
     "traceback": [
      "\u001b[0;31m---------------------------------------------------------------------------\u001b[0m",
      "\u001b[0;31mNameError\u001b[0m                                 Traceback (most recent call last)",
      "\u001b[0;32m<ipython-input-7-b9abefc774c5>\u001b[0m in \u001b[0;36m<module>\u001b[0;34m\u001b[0m\n\u001b[1;32m      1\u001b[0m \u001b[0;31m# add column for correctness for each stim\u001b[0m\u001b[0;34m\u001b[0m\u001b[0;34m\u001b[0m\u001b[0m\n\u001b[0;32m----> 2\u001b[0;31m \u001b[0mstim_df\u001b[0m\u001b[0;34m[\u001b[0m\u001b[0;34m'correct'\u001b[0m\u001b[0;34m]\u001b[0m\u001b[0;34m=\u001b[0m\u001b[0mnp\u001b[0m\u001b[0;34m.\u001b[0m\u001b[0mnan\u001b[0m\u001b[0;34m\u001b[0m\u001b[0m\n\u001b[0m\u001b[1;32m      3\u001b[0m \u001b[0;34m\u001b[0m\u001b[0m\n\u001b[1;32m      4\u001b[0m hits = [(abs(i - responses.onset) < duration).any() \\\n\u001b[1;32m      5\u001b[0m       for i in stim_df.loc[switch_loc].end]\n",
      "\u001b[0;31mNameError\u001b[0m: name 'stim_df' is not defined"
     ]
    }
   ],
   "source": [
    "# add column for correctness for each stim\n",
    "stim_df['correct']=np.nan\n",
    "\n",
    "hits = [(abs(i - responses.onset) < duration).any() \\\n",
    "      for i in stim_df.loc[switch_loc].end]\n",
    "misses = switch_loc[np.invert(hits)]\n",
    "hits = switch_loc[hits]\n",
    "\n",
    "# label hits and misses in stim_df \n",
    "stim_df.loc[hits,'correct'] = stim_df.loc[hits,'correct'].replace(np.nan,1)\n",
    "stim_df.loc[misses,'correct'] = stim_df.loc[misses,'correct'].replace(np.nan,0)\n",
    "\n",
    "# get closest stimulus corresponding to a response\n",
    "response_ids = [(abs(i - stim_df.end)).idxmin() for i in responses.onset]\n",
    "\n",
    "# find false alarm values\n",
    "fas = []\n",
    "for idx,j in enumerate(stim_df.loc[response_ids, 'correct'].isna().index):\n",
    "    if (abs(j - stim_df[stim_df.correct == 1].index) <= 2).any() == False:\n",
    "        fas.append(idx)\n",
    "        stim_df.loc[response_ids[idx], 'correct'] = 0\n",
    "\n",
    "[stim_df.loc[response_ids[i]] for i in fas]\n",
    "\n",
    "# set remaining nans as correct rejections\n",
    "cor_rej = stim_df[stim_df.loc[:,'correct'].isna()].index\n",
    "stim_df.loc[cor_rej,'correct'] = 1\n",
    "\n",
    "not_switch_loc = stim_df.drop(switch_loc).index"
   ]
  },
  {
   "cell_type": "markdown",
   "metadata": {},
   "source": [
    "Next we calculate the proportion correct for each level of difficulty"
   ]
  },
  {
   "cell_type": "code",
   "execution_count": 39,
   "metadata": {},
   "outputs": [
    {
     "name": "stdout",
     "output_type": "stream",
     "text": [
      "Proportion correct\n",
      "Difficulty 0.2 : 1.000\n",
      "Difficulty 0.4 : 0.222\n",
      "Difficulty 0.6 : 0.000\n",
      "Difficulty 0.7 : 0.611\n"
     ]
    }
   ],
   "source": [
    "difficulty = sorted(stim_df[task].unique())\n",
    "\n",
    "print('Proportion correct')\n",
    "for i in difficulty:\n",
    "    if i != 0.5:\n",
    "        print(f'Difficulty {i} : {sum(stim_df[stim_df[task] == i].correct)/len(stim_df[stim_df[task] == i]):.3f}')"
   ]
  },
  {
   "cell_type": "code",
   "execution_count": 8,
   "metadata": {},
   "outputs": [
    {
     "data": {
      "text/plain": [
       "1.3722567340452665"
      ]
     },
     "execution_count": 8,
     "metadata": {},
     "output_type": "execute_result"
    }
   ],
   "source": [
    "d,c = d_prime(tp,fn,fp,tn)\n",
    "c"
   ]
  },
  {
   "cell_type": "code",
   "execution_count": 141,
   "metadata": {},
   "outputs": [
    {
     "data": {
      "text/plain": [
       "2.226045069272221"
      ]
     },
     "execution_count": 141,
     "metadata": {},
     "output_type": "execute_result"
    }
   ],
   "source": [
    "dfZ(0.3977272727272727)-Z(0.006472491909385114)"
   ]
  },
  {
   "cell_type": "code",
   "execution_count": 607,
   "metadata": {},
   "outputs": [],
   "source": [
    "stim_df.loc[109, 'correct'] = 0"
   ]
  },
  {
   "cell_type": "markdown",
   "metadata": {},
   "source": [
    "# Modeling psychometric curve"
   ]
  },
  {
   "cell_type": "code",
   "execution_count": 114,
   "metadata": {},
   "outputs": [],
   "source": [
    "def model_pr():\n",
    "    '''\n",
    "    return array of probabilities corresponding to GAUSSIAN cdf\n",
    "    stimuli is range of color_balances / fix intensities\n",
    "    loc\n",
    "    sd / scale\n",
    "    '''\n",
    "    \n",
    "    stim_x = np.arange(0,1,0.05)\n",
    "    mu = 0.5\n",
    "    sd = 0.1\n",
    "    \n",
    "    model_pr = norm.cdf(stim_x, mu,sd)\n",
    "    \n",
    "    return stim_x, model_pr"
   ]
  },
  {
   "cell_type": "code",
   "execution_count": 115,
   "metadata": {},
   "outputs": [
    {
     "data": {
      "image/png": "[encoded data removed]",
      "text/plain": [
       "<Figure size 432x288 with 1 Axes>"
      ]
     },
     "metadata": {
      "needs_background": "light"
     },
     "output_type": "display_data"
    }
   ],
   "source": [
    "x,pr = model_pr()\n",
    "plt.plot(x, pr, color='k', marker='x', lw=2, ls='--')\n",
    "plt.xlim(0,1)\n",
    "plt.ylim(0,1)\n",
    "plt.show()"
   ]
  },
  {
   "cell_type": "code",
   "execution_count": null,
   "metadata": {},
   "outputs": [],
   "source": []
  }
 ],
 "metadata": {
  "kernelspec": {
   "display_name": "Python 3",
   "language": "python",
   "name": "python3"
  },
  "language_info": {
   "codemirror_mode": {
    "name": "ipython",
    "version": 3
   },
   "file_extension": ".py",
   "mimetype": "text/x-python",
   "name": "python",
   "nbconvert_exporter": "python",
   "pygments_lexer": "ipython3",
   "version": "3.7.0"
  }
 },
 "nbformat": 4,
 "nbformat_minor": 2
}
