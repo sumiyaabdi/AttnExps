{
 "cells": [
  {
   "cell_type": "code",
   "execution_count": 1,
   "metadata": {},
   "outputs": [
    {
     "data": {
      "text/plain": [
       "'/Users/sumiyaabdirashid/Desktop/PhD/code/git/PRF_Experiment_Checkers/Experiment'"
      ]
     },
     "execution_count": 1,
     "metadata": {},
     "output_type": "execute_result"
    }
   ],
   "source": [
    "import pandas as pd\n",
    "from pandas.core.common import SettingWithCopyWarning\n",
    "import warnings\n",
    "warnings.simplefilter(action='ignore', category=SettingWithCopyWarning)\n",
    "import numpy as np\n",
    "import os\n",
    "import glob\n",
    "import matplotlib.pyplot as plt\n",
    "from scipy.optimize import curve_fit\n",
    "from analysis_utils import *\n",
    "from scipy.stats import norm\n",
    "\n",
    "os.chdir('../')\n",
    "os.getcwd()"
   ]
  },
  {
   "cell_type": "markdown",
   "metadata": {},
   "source": [
    "# Analysis from pRF+AttnStim"
   ]
  },
  {
   "cell_type": "markdown",
   "metadata": {},
   "source": [
    "Load data into Pandas dataframe. To be implemented: run some tests to ensure data quality\n",
    "\n",
    "- does run exist? \n",
    "- does run contain responses?\n",
    "- does run log color_balance and fix_intensity values correctly?"
   ]
  },
  {
   "cell_type": "code",
   "execution_count": 2,
   "metadata": {},
   "outputs": [
    {
     "data": {
      "text/html": [
       "<div>\n",
       "<style scoped>\n",
       "    .dataframe tbody tr th:only-of-type {\n",
       "        vertical-align: middle;\n",
       "    }\n",
       "\n",
       "    .dataframe tbody tr th {\n",
       "        vertical-align: top;\n",
       "    }\n",
       "\n",
       "    .dataframe thead th {\n",
       "        text-align: right;\n",
       "    }\n",
       "</style>\n",
       "<table border=\"1\" class=\"dataframe\">\n",
       "  <thead>\n",
       "    <tr style=\"text-align: right;\">\n",
       "      <th></th>\n",
       "      <th>trial_nr</th>\n",
       "      <th>onset</th>\n",
       "      <th>event_type</th>\n",
       "      <th>phase</th>\n",
       "      <th>response</th>\n",
       "      <th>nr_frames</th>\n",
       "      <th>color_balance</th>\n",
       "      <th>fix_intensity</th>\n",
       "      <th>onset_abs</th>\n",
       "      <th>duration</th>\n",
       "      <th>end</th>\n",
       "      <th>end_abs</th>\n",
       "      <th>task</th>\n",
       "      <th>color</th>\n",
       "      <th>run</th>\n",
       "    </tr>\n",
       "  </thead>\n",
       "  <tbody>\n",
       "    <tr>\n",
       "      <th>1491</th>\n",
       "      <td>0</td>\n",
       "      <td>0.377965</td>\n",
       "      <td>stim</td>\n",
       "      <td>1</td>\n",
       "      <td>NaN</td>\n",
       "      <td>35.0</td>\n",
       "      <td>0.5</td>\n",
       "      <td>0.0</td>\n",
       "      <td>5.306206</td>\n",
       "      <td>0.375039</td>\n",
       "      <td>0.753004</td>\n",
       "      <td>5.681244</td>\n",
       "      <td>smallAF</td>\n",
       "      <td>gray</td>\n",
       "      <td>12</td>\n",
       "    </tr>\n",
       "    <tr>\n",
       "      <th>1492</th>\n",
       "      <td>0</td>\n",
       "      <td>1.127964</td>\n",
       "      <td>stim</td>\n",
       "      <td>3</td>\n",
       "      <td>NaN</td>\n",
       "      <td>35.0</td>\n",
       "      <td>0.5</td>\n",
       "      <td>0.0</td>\n",
       "      <td>6.056205</td>\n",
       "      <td>0.375036</td>\n",
       "      <td>1.503000</td>\n",
       "      <td>6.431241</td>\n",
       "      <td>smallAF</td>\n",
       "      <td>gray</td>\n",
       "      <td>12</td>\n",
       "    </tr>\n",
       "    <tr>\n",
       "      <th>1493</th>\n",
       "      <td>1</td>\n",
       "      <td>1.877959</td>\n",
       "      <td>stim</td>\n",
       "      <td>1</td>\n",
       "      <td>NaN</td>\n",
       "      <td>36.0</td>\n",
       "      <td>0.5</td>\n",
       "      <td>0.0</td>\n",
       "      <td>6.806200</td>\n",
       "      <td>0.374992</td>\n",
       "      <td>2.252952</td>\n",
       "      <td>7.181192</td>\n",
       "      <td>smallAF</td>\n",
       "      <td>gray</td>\n",
       "      <td>12</td>\n",
       "    </tr>\n",
       "    <tr>\n",
       "      <th>1494</th>\n",
       "      <td>1</td>\n",
       "      <td>2.627925</td>\n",
       "      <td>stim</td>\n",
       "      <td>3</td>\n",
       "      <td>NaN</td>\n",
       "      <td>35.0</td>\n",
       "      <td>0.5</td>\n",
       "      <td>0.0</td>\n",
       "      <td>7.556166</td>\n",
       "      <td>0.375021</td>\n",
       "      <td>3.002946</td>\n",
       "      <td>7.931187</td>\n",
       "      <td>smallAF</td>\n",
       "      <td>gray</td>\n",
       "      <td>12</td>\n",
       "    </tr>\n",
       "    <tr>\n",
       "      <th>1495</th>\n",
       "      <td>2</td>\n",
       "      <td>3.377952</td>\n",
       "      <td>stim</td>\n",
       "      <td>1</td>\n",
       "      <td>NaN</td>\n",
       "      <td>36.0</td>\n",
       "      <td>0.5</td>\n",
       "      <td>0.0</td>\n",
       "      <td>8.306193</td>\n",
       "      <td>0.379915</td>\n",
       "      <td>3.757867</td>\n",
       "      <td>8.686108</td>\n",
       "      <td>smallAF</td>\n",
       "      <td>gray</td>\n",
       "      <td>12</td>\n",
       "    </tr>\n",
       "  </tbody>\n",
       "</table>\n",
       "</div>"
      ],
      "text/plain": [
       "      trial_nr     onset event_type  phase response  nr_frames  color_balance  \\\n",
       "1491         0  0.377965       stim      1      NaN       35.0            0.5   \n",
       "1492         0  1.127964       stim      3      NaN       35.0            0.5   \n",
       "1493         1  1.877959       stim      1      NaN       36.0            0.5   \n",
       "1494         1  2.627925       stim      3      NaN       35.0            0.5   \n",
       "1495         2  3.377952       stim      1      NaN       36.0            0.5   \n",
       "\n",
       "      fix_intensity  onset_abs  duration       end   end_abs     task color  \\\n",
       "1491            0.0   5.306206  0.375039  0.753004  5.681244  smallAF  gray   \n",
       "1492            0.0   6.056205  0.375036  1.503000  6.431241  smallAF  gray   \n",
       "1493            0.0   6.806200  0.374992  2.252952  7.181192  smallAF  gray   \n",
       "1494            0.0   7.556166  0.375021  3.002946  7.931187  smallAF  gray   \n",
       "1495            0.0   8.306193  0.379915  3.757867  8.686108  smallAF  gray   \n",
       "\n",
       "     run  \n",
       "1491  12  \n",
       "1492  12  \n",
       "1493  12  \n",
       "1494  12  \n",
       "1495  12  "
      ]
     },
     "execution_count": 2,
     "metadata": {},
     "output_type": "execute_result"
    }
   ],
   "source": [
    "f_names = glob.glob(\"logs/*/*.tsv\")\n",
    "all_logs = load_data(f_names)\n",
    "all_logs[(all_logs.run == '12')].head()"
   ]
  },
  {
   "cell_type": "markdown",
   "metadata": {},
   "source": [
    "Calculate correct and incorrect responses. Use this to get hits (true positives), misses (false negatives), false alarms (false positives) and correct rejections (true negatives). Once we have these values we can calculate d' and the criterion (c). \n",
    "\n",
    "### Summary per run"
   ]
  },
  {
   "cell_type": "code",
   "execution_count": 4,
   "metadata": {},
   "outputs": [
    {
     "data": {
      "text/html": [
       "<div>\n",
       "<style scoped>\n",
       "    .dataframe tbody tr th:only-of-type {\n",
       "        vertical-align: middle;\n",
       "    }\n",
       "\n",
       "    .dataframe tbody tr th {\n",
       "        vertical-align: top;\n",
       "    }\n",
       "\n",
       "    .dataframe thead th {\n",
       "        text-align: right;\n",
       "    }\n",
       "</style>\n",
       "<table border=\"1\" class=\"dataframe\">\n",
       "  <thead>\n",
       "    <tr style=\"text-align: right;\">\n",
       "      <th></th>\n",
       "      <th>run</th>\n",
       "      <th>task</th>\n",
       "      <th>hits</th>\n",
       "      <th>misses</th>\n",
       "      <th>fas</th>\n",
       "      <th>correjs</th>\n",
       "      <th>dprime</th>\n",
       "      <th>criterion</th>\n",
       "      <th>difficulties</th>\n",
       "    </tr>\n",
       "  </thead>\n",
       "  <tbody>\n",
       "    <tr>\n",
       "      <th>0</th>\n",
       "      <td>7</td>\n",
       "      <td>color_balance</td>\n",
       "      <td>60</td>\n",
       "      <td>28</td>\n",
       "      <td>1</td>\n",
       "      <td>332</td>\n",
       "      <td>3.220242</td>\n",
       "      <td>1.137332</td>\n",
       "      <td>[0.25, 0.3, 0.5, 0.7, 0.75]</td>\n",
       "    </tr>\n",
       "    <tr>\n",
       "      <th>1</th>\n",
       "      <td>8</td>\n",
       "      <td>fix_intensity</td>\n",
       "      <td>35</td>\n",
       "      <td>53</td>\n",
       "      <td>2</td>\n",
       "      <td>307</td>\n",
       "      <td>2.226045</td>\n",
       "      <td>1.372257</td>\n",
       "      <td>[-0.05, -0.03, 0.0, 0.03, 0.05]</td>\n",
       "    </tr>\n",
       "    <tr>\n",
       "      <th>2</th>\n",
       "      <td>9</td>\n",
       "      <td>color_balance</td>\n",
       "      <td>33</td>\n",
       "      <td>39</td>\n",
       "      <td>2</td>\n",
       "      <td>337</td>\n",
       "      <td>2.413454</td>\n",
       "      <td>1.311360</td>\n",
       "      <td>[0.2, 0.4, 0.5, 0.6, 0.7]</td>\n",
       "    </tr>\n",
       "    <tr>\n",
       "      <th>3</th>\n",
       "      <td>10</td>\n",
       "      <td>fix_intensity</td>\n",
       "      <td>47</td>\n",
       "      <td>25</td>\n",
       "      <td>3</td>\n",
       "      <td>351</td>\n",
       "      <td>2.780640</td>\n",
       "      <td>0.997489</td>\n",
       "      <td>[-0.07, -0.06, 0.0, 0.06, 0.07]</td>\n",
       "    </tr>\n",
       "    <tr>\n",
       "      <th>4</th>\n",
       "      <td>11</td>\n",
       "      <td>color_balance</td>\n",
       "      <td>36</td>\n",
       "      <td>36</td>\n",
       "      <td>0</td>\n",
       "      <td>340</td>\n",
       "      <td>2.973820</td>\n",
       "      <td>1.486910</td>\n",
       "      <td>[0.35, 0.45, 0.5, 0.65, 0.8]</td>\n",
       "    </tr>\n",
       "    <tr>\n",
       "      <th>5</th>\n",
       "      <td>12</td>\n",
       "      <td>fix_intensity</td>\n",
       "      <td>30</td>\n",
       "      <td>42</td>\n",
       "      <td>7</td>\n",
       "      <td>334</td>\n",
       "      <td>1.832538</td>\n",
       "      <td>1.126698</td>\n",
       "      <td>[-0.09, -0.02, 0.0, 0.02, 0.09]</td>\n",
       "    </tr>\n",
       "  </tbody>\n",
       "</table>\n",
       "</div>"
      ],
      "text/plain": [
       "  run           task hits misses fas correjs    dprime  criterion  \\\n",
       "0   7  color_balance   60     28   1     332  3.220242   1.137332   \n",
       "1   8  fix_intensity   35     53   2     307  2.226045   1.372257   \n",
       "2   9  color_balance   33     39   2     337  2.413454   1.311360   \n",
       "3  10  fix_intensity   47     25   3     351  2.780640   0.997489   \n",
       "4  11  color_balance   36     36   0     340  2.973820   1.486910   \n",
       "5  12  fix_intensity   30     42   7     334  1.832538   1.126698   \n",
       "\n",
       "                      difficulties  \n",
       "0      [0.25, 0.3, 0.5, 0.7, 0.75]  \n",
       "1  [-0.05, -0.03, 0.0, 0.03, 0.05]  \n",
       "2        [0.2, 0.4, 0.5, 0.6, 0.7]  \n",
       "3  [-0.07, -0.06, 0.0, 0.06, 0.07]  \n",
       "4     [0.35, 0.45, 0.5, 0.65, 0.8]  \n",
       "5  [-0.09, -0.02, 0.0, 0.02, 0.09]  "
      ]
     },
     "execution_count": 4,
     "metadata": {},
     "output_type": "execute_result"
    }
   ],
   "source": [
    "psyc, d_primes, large_cor, small_cor = analyse_logs(all_logs)\n",
    "psyc"
   ]
  },
  {
   "cell_type": "markdown",
   "metadata": {},
   "source": [
    "We can also calculate d' per difficulty level and plot this to see if two task difficulties are comparable. Unfortunately d' can go to infinity so many points are missing from the performance curves... and we're unsure if they're sigmoidal."
   ]
  },
  {
   "cell_type": "code",
   "execution_count": 6,
   "metadata": {},
   "outputs": [
    {
     "name": "stderr",
     "output_type": "stream",
     "text": [
      "/Library/Frameworks/Python.framework/Versions/3.7/lib/python3.7/site-packages/ipykernel_launcher.py:3: RuntimeWarning: invalid value encountered in add\n",
      "  This is separate from the ipykernel package so we can avoid doing imports until\n"
     ]
    },
    {
     "data": {
      "text/html": [
       "<div>\n",
       "<style scoped>\n",
       "    .dataframe tbody tr th:only-of-type {\n",
       "        vertical-align: middle;\n",
       "    }\n",
       "\n",
       "    .dataframe tbody tr th {\n",
       "        vertical-align: top;\n",
       "    }\n",
       "\n",
       "    .dataframe thead th {\n",
       "        text-align: right;\n",
       "    }\n",
       "</style>\n",
       "<table border=\"1\" class=\"dataframe\">\n",
       "  <thead>\n",
       "    <tr style=\"text-align: right;\">\n",
       "      <th></th>\n",
       "      <th>run</th>\n",
       "      <th>task</th>\n",
       "      <th>difficulty</th>\n",
       "      <th>hit_rate</th>\n",
       "      <th>fa_rate</th>\n",
       "      <th>d_prime</th>\n",
       "      <th>criterion</th>\n",
       "    </tr>\n",
       "  </thead>\n",
       "  <tbody>\n",
       "    <tr>\n",
       "      <th>0</th>\n",
       "      <td>7</td>\n",
       "      <td>color_balance</td>\n",
       "      <td>0.25</td>\n",
       "      <td>0.909091</td>\n",
       "      <td>0.003003</td>\n",
       "      <td>4.082631</td>\n",
       "      <td>0.706138</td>\n",
       "    </tr>\n",
       "    <tr>\n",
       "      <th>1</th>\n",
       "      <td>7</td>\n",
       "      <td>color_balance</td>\n",
       "      <td>0.30</td>\n",
       "      <td>0.500000</td>\n",
       "      <td>0.003003</td>\n",
       "      <td>2.747453</td>\n",
       "      <td>1.373727</td>\n",
       "    </tr>\n",
       "    <tr>\n",
       "      <th>2</th>\n",
       "      <td>7</td>\n",
       "      <td>color_balance</td>\n",
       "      <td>0.70</td>\n",
       "      <td>0.636364</td>\n",
       "      <td>0.003003</td>\n",
       "      <td>3.096209</td>\n",
       "      <td>1.199349</td>\n",
       "    </tr>\n",
       "    <tr>\n",
       "      <th>3</th>\n",
       "      <td>7</td>\n",
       "      <td>color_balance</td>\n",
       "      <td>0.75</td>\n",
       "      <td>0.681818</td>\n",
       "      <td>0.003003</td>\n",
       "      <td>3.220242</td>\n",
       "      <td>1.137332</td>\n",
       "    </tr>\n",
       "    <tr>\n",
       "      <th>4</th>\n",
       "      <td>8</td>\n",
       "      <td>fix_intensity</td>\n",
       "      <td>-0.05</td>\n",
       "      <td>0.590909</td>\n",
       "      <td>0.006472</td>\n",
       "      <td>2.715163</td>\n",
       "      <td>1.127698</td>\n",
       "    </tr>\n",
       "  </tbody>\n",
       "</table>\n",
       "</div>"
      ],
      "text/plain": [
       "  run           task  difficulty  hit_rate   fa_rate   d_prime  criterion\n",
       "0   7  color_balance        0.25  0.909091  0.003003  4.082631   0.706138\n",
       "1   7  color_balance        0.30  0.500000  0.003003  2.747453   1.373727\n",
       "2   7  color_balance        0.70  0.636364  0.003003  3.096209   1.199349\n",
       "3   7  color_balance        0.75  0.681818  0.003003  3.220242   1.137332\n",
       "4   8  fix_intensity       -0.05  0.590909  0.006472  2.715163   1.127698"
      ]
     },
     "execution_count": 6,
     "metadata": {},
     "output_type": "execute_result"
    }
   ],
   "source": [
    "Z = norm.ppf\n",
    "d_primes['d_prime']= Z(d_primes['hit_rate'])- Z(d_primes['fa_rate'])\n",
    "d_primes['criterion'] = -(Z(d_primes['hit_rate']) + Z(d_primes['fa_rate'])) / 2\n",
    "d_primes.head()"
   ]
  },
  {
   "cell_type": "code",
   "execution_count": 7,
   "metadata": {},
   "outputs": [],
   "source": [
    "large_AF = d_primes[d_primes['run'].astype(int) % 2 == 1]\n",
    "small_AF = d_primes[d_primes['run'].astype(int) % 2 == 0]"
   ]
  },
  {
   "cell_type": "code",
   "execution_count": 9,
   "metadata": {},
   "outputs": [
    {
     "data": {
      "text/plain": [
       "Text(0, 0.5, 'Dprime')"
      ]
     },
     "execution_count": 9,
     "metadata": {},
     "output_type": "execute_result"
    },
    {
     "data": {
      "image/png": "[encoded data removed]",
      "text/plain": [
       "<Figure size 864x288 with 2 Axes>"
      ]
     },
     "metadata": {
      "needs_background": "light"
     },
     "output_type": "display_data"
    }
   ],
   "source": [
    "fig, (ax1,ax2) = plt.subplots(1, 2, figsize=(12,4))\n",
    "\n",
    "ax1.set_title('SmallAF')\n",
    "ax1.scatter(abs(small_AF['difficulty']),small_AF['d_prime'])\n",
    "ax1.set_ylabel('Dprime')\n",
    "\n",
    "ax2.set_title('LargeAF')\n",
    "ax2.scatter(abs(large_AF['difficulty']-0.5),large_AF['d_prime'],color='orange')\n",
    "ax2.set_ylabel('Dprime')"
   ]
  },
  {
   "cell_type": "markdown",
   "metadata": {},
   "source": [
    "We can also use proportion correct to create psychometric curves - although these are not traditional sigmoidal psychometric curves which are designed for 2 alternative forced-choice (2AFC) task. "
   ]
  },
  {
   "cell_type": "code",
   "execution_count": 10,
   "metadata": {},
   "outputs": [],
   "source": [
    "largex, largey = (np.array([i[0] for i in large_cor]), \n",
    "                  np.array([i[1] for i in large_cor]))\n",
    "smallx,smally = (np.array([i[0] for i in small_cor]), \n",
    "                np.array([i[1] for i in small_cor]))"
   ]
  },
  {
   "cell_type": "code",
   "execution_count": 11,
   "metadata": {},
   "outputs": [
    {
     "data": {
      "text/plain": [
       "<matplotlib.collections.PathCollection at 0x12d619ef0>"
      ]
     },
     "execution_count": 11,
     "metadata": {},
     "output_type": "execute_result"
    },
    {
     "data": {
      "image/png": "[encoded data removed]",
      "text/plain": [
       "<Figure size 864x576 with 4 Axes>"
      ]
     },
     "metadata": {
      "needs_background": "light"
     },
     "output_type": "display_data"
    }
   ],
   "source": [
    "fig, ((ax1,ax2),(ax3,ax4)) = plt.subplots(2, 2, figsize=(12,8))\n",
    "\n",
    "ax1.set_title('LargeAF_Sigmoid')\n",
    "ax1.scatter([abs(i[0]-0.5) for i in large_cor], [i[1] for i in large_cor])\n",
    "ax1.set_ylabel('Proportion Correct')\n",
    "\n",
    "ax2.set_title('LargeAF_Gauss')\n",
    "ax2.scatter([i[0] for i in large_cor], [i[1] for i in large_cor])\n",
    "ax2.set_ylabel('Proportion Correct')\n",
    "\n",
    "ax3.set_title('SmallAF_Sigmoid')\n",
    "ax3.set_ylim(0,1)\n",
    "ax3.scatter([abs(i[0]-0) for i in small_cor], [i[1] for i in small_cor], color='orange')\n",
    "\n",
    "ax4.set_title('SmallAF_Gauss')\n",
    "ax4.set_ylim(0,1)\n",
    "ax4.scatter([i[0] for i in small_cor], [i[1] for i in small_cor], color='orange')"
   ]
  },
  {
   "cell_type": "markdown",
   "metadata": {},
   "source": [
    "Lastly we can fit a sigmoid function to each of these curves."
   ]
  },
  {
   "cell_type": "code",
   "execution_count": 20,
   "metadata": {},
   "outputs": [
    {
     "name": "stdout",
     "output_type": "stream",
     "text": [
      "[ 0.17547697 20.77338458]\n"
     ]
    },
    {
     "data": {
      "image/png": "[encoded data removed]",
      "text/plain": [
       "<Figure size 432x288 with 1 Axes>"
      ]
     },
     "metadata": {
      "needs_background": "light"
     },
     "output_type": "display_data"
    },
    {
     "name": "stdout",
     "output_type": "stream",
     "text": [
      "[5.27132248e-02 5.78791116e+01]\n"
     ]
    },
    {
     "data": {
      "image/png": "[encoded data removed]",
      "text/plain": [
       "<Figure size 432x288 with 1 Axes>"
      ]
     },
     "metadata": {
      "needs_background": "light"
     },
     "output_type": "display_data"
    }
   ],
   "source": [
    "def sigmoid(x, x0, k):\n",
    "     y = 1 / (1 + np.exp(-k*(x-x0)))\n",
    "     return y\n",
    "\n",
    "xdata = abs(largex-0.5) # abs(large_AF['difficulty']-0.5)[large_AF.replace([np.inf,-np.inf],np.nan).dropna().index]\n",
    "ydata = largey # large_AF.replace([np.inf,-np.inf],np.nan).dropna()['d_prime']\n",
    "\n",
    "popt, pcov = curve_fit(sigmoid, xdata, ydata)\n",
    "print(popt)\n",
    "\n",
    "x = np.linspace(0.0, 0.4, 20)\n",
    "y = sigmoid(x, *popt)\n",
    "\n",
    "plt.plot(xdata, ydata, 'o', label='data')\n",
    "plt.title('LargeAF')\n",
    "plt.plot(x,y, label='fit')\n",
    "plt.ylim(0, 1)\n",
    "plt.ylabel('proportion correct')\n",
    "plt.legend(loc='best')\n",
    "plt.show()\n",
    "\n",
    "xdata = abs(smallx) # abs(small_AF['difficulty'])[small_AF.replace([np.inf,-np.inf],np.nan).dropna()['d_prime'].index]\n",
    "ydata = smally # small_AF.replace([np.inf,-np.inf],np.nan).dropna()['d_prime']\n",
    "\n",
    "popt, pcov = curve_fit(sigmoid, xdata, ydata)\n",
    "print(popt)\n",
    "\n",
    "x = np.linspace(0.0, 0.1, 20)\n",
    "y = sigmoid(x, *popt)\n",
    "\n",
    "plt.plot(xdata, ydata, 'o', label='data')\n",
    "plt.title('SmallAF')\n",
    "plt.plot(x,y, label='fit')\n",
    "plt.ylim(0, 1)\n",
    "plt.ylabel('proportion correct')\n",
    "plt.legend(loc='best')\n",
    "plt.show()"
   ]
  },
  {
   "cell_type": "markdown",
   "metadata": {},
   "source": [
    "# Modeling psychometric curve"
   ]
  },
  {
   "cell_type": "code",
   "execution_count": null,
   "metadata": {},
   "outputs": [],
   "source": [
    "def model_pr():\n",
    "    '''\n",
    "    return array of probabilities corresponding to GAUSSIAN cdf\n",
    "    stimuli is range of color_balances / fix intensities\n",
    "    loc\n",
    "    sd / scale\n",
    "    '''\n",
    "    \n",
    "    stim_x = np.arange(0,0.6,0.05)\n",
    "    mu = 0.3\n",
    "    sd = 0.1\n",
    "    \n",
    "    model_pr = norm.cdf(stim_x, mu,sd)\n",
    "    \n",
    "    return stim_x, model_pr"
   ]
  },
  {
   "cell_type": "code",
   "execution_count": null,
   "metadata": {},
   "outputs": [],
   "source": [
    "x,pr = model_pr()\n",
    "plt.plot(x, pr, color='k', marker='x', lw=2, ls='--')\n",
    "plt.xlim(0,0.6)\n",
    "plt.ylim(0,1)\n",
    "plt.show()"
   ]
  },
  {
   "cell_type": "code",
   "execution_count": null,
   "metadata": {},
   "outputs": [],
   "source": []
  }
 ],
 "metadata": {
  "kernelspec": {
   "display_name": "Python 3",
   "language": "python",
   "name": "python3"
  },
  "language_info": {
   "codemirror_mode": {
    "name": "ipython",
    "version": 3
   },
   "file_extension": ".py",
   "mimetype": "text/x-python",
   "name": "python",
   "nbconvert_exporter": "python",
   "pygments_lexer": "ipython3",
   "version": "3.7.0"
  }
 },
 "nbformat": 4,
 "nbformat_minor": 2
}
